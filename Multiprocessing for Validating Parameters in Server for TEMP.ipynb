{
 "cells": [
  {
   "cell_type": "code",
   "execution_count": 116,
   "metadata": {
    "scrolled": true
   },
   "outputs": [
    {
     "name": "stdout",
     "output_type": "stream",
     "text": [
      "The autoreload extension is already loaded. To reload it, use:\n",
      "  %reload_ext autoreload\n"
     ]
    }
   ],
   "source": [
    "%matplotlib inline\n",
    "import pandas as pd\n",
    "import numpy as np\n",
    "import matplotlib.pyplot as plt\n",
    "import datetime\n",
    "from dateutil.relativedelta import relativedelta\n",
    "from scipy.special import expit\n",
    "from scipy.optimize import fmin, minimize\n",
    "import glob as glob\n",
    "import matplotlib\n",
    "matplotlib.style.use('ggplot')\n",
    "\n",
    "# .py\n",
    "%load_ext autoreload\n",
    "%autoreload 2\n",
    "import weather_temp_alphas, weather_costs, model_01, validate, prediction"
   ]
  },
  {
   "cell_type": "code",
   "execution_count": 2,
   "metadata": {
    "collapsed": true
   },
   "outputs": [],
   "source": [
    "def split_data(data):\n",
    "    train_mask = (data.index < \"2011\")\n",
    "    train = data[train_mask]\n",
    "    test_mask = (data.index > \"2011\")\n",
    "    test = data[test_mask]\n",
    "    return train, test"
   ]
  },
  {
   "cell_type": "code",
   "execution_count": 3,
   "metadata": {
    "collapsed": true
   },
   "outputs": [],
   "source": [
    "all_weather = pd.read_csv(\"weather01-16.csv\")"
   ]
  },
  {
   "cell_type": "code",
   "execution_count": 4,
   "metadata": {
    "collapsed": true
   },
   "outputs": [],
   "source": [
    "cm_weather = all_weather[all_weather.stn_name == \"Chiang Mai\"]\n",
    "cm_weather.index = pd.DatetimeIndex(cm_weather.date)\n",
    "mask = (cm_weather.index > \"2003\") & (cm_weather.index < \"2016\")\n",
    "cm_weather = cm_weather[mask]\n",
    "\n",
    "provinces_df = pd.read_csv(\"all-dengues.csv\")\n",
    "provinces_df.index = pd.DatetimeIndex(provinces_df.date)\n",
    "provinces_df = provinces_df.drop(['date','date.1'],axis=1)\n",
    "cm_dengues = provinces_df[provinces_df['จังหวัด'] == 'ChiangMai'].resample('W').size()\n",
    "cm_dengues_df = pd.DataFrame(cm_dengues,columns=['cases'])"
   ]
  },
  {
   "cell_type": "code",
   "execution_count": 5,
   "metadata": {
    "collapsed": true
   },
   "outputs": [],
   "source": [
    "cm_avg_weather = cm_weather[['avgrh','dday','meantemp']].resample('W').mean()\n",
    "cm_avg_weather['rain'] = cm_weather[['rain']].resample('W').sum() # cumulative rainfall\n",
    "cm_dengues_weather = pd.concat([cm_avg_weather,cm_dengues_df[:-52]],axis=1)\n",
    "\n",
    "cm_dengues_weather_split = split_data(cm_dengues_weather)\n",
    "cm_dengues_train, cm_dengues_test = cm_dengues_weather_split[0], cm_dengues_weather_split[1]"
   ]
  },
  {
   "cell_type": "code",
   "execution_count": 94,
   "metadata": {},
   "outputs": [],
   "source": [
    "def make_line(start_week,real,predictions,title,x_axis,y_axis,\n",
    "              real_legend='Real',predict_legend='Prediction'):\n",
    "    plt.figure(figsize=(12,6))\n",
    "    plt.plot(range(len(real)),real,'-r',label=real_legend)\n",
    "    plt.plot(range(start_week,len(predictions)+start_week),predictions,'-k',label=predict_legend,alpha=0.4)\n",
    "    plt.axvline(start_week)\n",
    "    plt.text((start_week*2)+10,300,'Prediction Start',horizontalalignment='center',verticalalignment='center')\n",
    "    plt.xlabel(x_axis)\n",
    "    plt.ylabel(y_axis)\n",
    "    plt.legend()\n",
    "    plt.title(title)\n",
    "    \n",
    "def plot_all_predictions(LAG, real, province, nweeks_to_predict, all_predictions):\n",
    "    \n",
    "    plt.figure(figsize=(13,6))\n",
    "    plt.plot(range(len(real)),real,label='real')\n",
    "    graph_title = \"%s's Dengue Prediction with Mean Temperature\"%province\n",
    "    plt.title(graph_title)\n",
    "    for i in range(len(all_predictions)):\n",
    "        cur_week_guess = nweeks_to_predict[i]\n",
    "        start_predict_week = LAG+(cur_week_guess-1)\n",
    "        predicted_cases = all_predictions[i]\n",
    "        x_weeks = range(start_predict_week,len(predicted_cases)+start_predict_week)\n",
    "        line_label = \"%d week guess\"%cur_week_guess\n",
    "        plt.plot(x_weeks,predicted_cases,label=line_label,alpha=0.8)\n",
    "    \n",
    "    seperate_train_test(cm_dengues_df.cases,cm_dengues_train)\n",
    "    plt.axvline(LAG)\n",
    "    plt.text((LAG*2)+10,300,'Prediction Start',horizontalalignment='center',verticalalignment='center')\n",
    "    plt.xlabel(\"# week starting 2003\")\n",
    "    plt.ylabel(\"Dengue cases\")\n",
    "    plt.legend()\n",
    "    plt.savefig(\"16-lags-16-weeks-9-temp-wks-chiangmai-00.png\")\n",
    "    \n",
    "def seperate_train_test(all_data,train_data):\n",
    "    plt.axvspan(0, len(train_data), color='blue', alpha=0.1)\n",
    "    plt.text((len(train_data)/2)-25,700,'Train Period',size=16)\n",
    "    plt.axvline(len(train_data)+1,linewidth=0.5, color='green')\n",
    "    plt.text(len(train_data)+20,700,'Test Period',size=16)\n",
    "    plt.axvspan(len(train_data)+1, len(all_data), color='green', alpha=0.1)\n",
    "    \n",
    "def show_predictions(params, real, province, ws):\n",
    "    LAG, TEMPERATURE_WEEKS, RAIN_WEEKS = params[0], params[1], params[2]\n",
    "    \n",
    "    predictions_to_plot = prediction.get_predictions(\n",
    "        LAG, \n",
    "        TEMPERATURE_WEEKS,\n",
    "        RAIN_WEEKS,\n",
    "        real,\n",
    "        ws,\n",
    "        province)\n",
    "    \n",
    "    plot_all_predictions(LAG, \n",
    "                         real.cases,\n",
    "                         province,\n",
    "                         [1,2,4,8,16],\n",
    "                         predictions_to_plot)\n",
    "    \n",
    "    "
   ]
  },
  {
   "cell_type": "code",
   "execution_count": 117,
   "metadata": {
    "scrolled": true
   },
   "outputs": [],
   "source": [
    "import multiprocessing as mp\n",
    "from multiprocessing import Process, Queue\n",
    "\n",
    "# Define an output queue\n",
    "output = Queue()\n",
    "\n",
    "# def validate\n",
    "\n",
    "# def compute_ret(temp):\n",
    "#     for i in range(int(1e5)): pass\n",
    "#     return temp/2.\n",
    "\n",
    "\n",
    "ws_csv = np.array(pd.read_csv(\"best-with-19-lags-14-temps-ws-1st-iter-model-a.csv\").T)[0]\n",
    "    \n",
    "def validation(LAG, TEMPERATURE_WEEKS, RAIN_WEEKS, train, real, output):\n",
    "                                    # get_alphas takes 4 args, if theres no input csv\n",
    "    alphas = weather_alphas.get_alphas(LAG, TEMPERATURE_WEEKS, RAIN_WEEKS, train, ws_csv)\n",
    "                                    # get_predictions takes 6 args\n",
    "    predictions_to_validate = prediction.get_predictions(LAG, TEMPERATURE_WEEKS, RAIN_WEEKS, real, alphas.x, \"CM\")\n",
    "                                    # get_validations takes 3 argsg\n",
    "    validated_result = validate.get_validations(LAG, predictions_to_validate, real)\n",
    "    output.put((TEMPERATURE_WEEKS,validated_result,alphas.x)) # add in ws as well alphas.x\n"
   ]
  },
  {
   "cell_type": "code",
   "execution_count": 118,
   "metadata": {},
   "outputs": [
    {
     "name": "stdout",
     "output_type": "stream",
     "text": [
      "[  3.75164554e-01   2.57944040e-08   8.06437884e-08   9.09234382e-08\n",
      "   1.28813677e-07   1.02091877e-07   9.74234389e-08   4.20666868e-08\n",
      "   4.56024522e-08   4.67506499e-08   9.58222066e-09   3.18285865e-09\n",
      "   7.71514721e-09   1.15469230e-08   1.25299884e-01   4.98965054e-03\n",
      "   3.01063264e-03   3.51274466e-05   2.88835619e-06   4.66305326e-01\n",
      "   1.67950662e+00   7.77502916e+00   1.62668116e-01   5.89580445e-02\n",
      "  -9.17072254e-03  -2.69270905e-02  -2.83934709e-02  -1.53448717e-02\n",
      "  -7.76256011e-03  -6.19917329e-03   6.92190286e-03  -1.98003362e-02\n",
      "  -3.41522099e-03   7.44573688e-03  -9.62878054e-04   1.01514670e-02\n",
      "   3.18145790e-02   5.17262161e-02   3.18203639e-02   1.63154845e-02\n",
      "   1.03294363e-02   5.99225062e-03   3.49632525e-03  -4.11705577e-04\n",
      "  -8.22957365e-04  -1.40876044e-04   1.22571418e-04   5.06958474e-04]\n",
      "44\n",
      "LAG 19\n",
      "bnds 19 44\n",
      "ws_csv\n",
      "prev_ws 33\n",
      "all_prev_ws 44\n",
      "45\n",
      "46\n",
      "LAG 19\n",
      "bnds 19 46\n",
      "LAG 19\n",
      "ws_csv\n",
      "prev_ws 35\n",
      "bnds 19 45\n",
      "all_prev_ws 46\n",
      "ws_csv\n",
      "47\n",
      "prev_ws 34\n",
      "LAG 19\n",
      "bnds 19 47\n",
      "all_prev_ws 45\n",
      "ws_csv\n",
      "prev_ws 36\n",
      "all_prev_ws 47\n",
      "48\n",
      "LAG 19\n",
      "bnds 19 48\n",
      "ws_csv\n",
      "prev_ws 37\n",
      "all_prev_ws 48\n"
     ]
    },
    {
     "name": "stderr",
     "output_type": "stream",
     "text": [
      "Process Process-111:\n",
      "Traceback (most recent call last):\n",
      "Process Process-114:\n",
      "Process Process-112:\n",
      "Process Process-113:\n",
      "  File \"/usr/lib/python2.7/multiprocessing/process.py\", line 114, in run\n",
      "Process Process-115:\n",
      "  File \"/usr/lib/python2.7/multiprocessing/process.py\", line 258, in _bootstrap\n",
      "Traceback (most recent call last):\n",
      "Traceback (most recent call last):\n",
      "Traceback (most recent call last):\n",
      "  File \"/usr/lib/python2.7/multiprocessing/process.py\", line 258, in _bootstrap\n",
      "  File \"/usr/lib/python2.7/multiprocessing/process.py\", line 258, in _bootstrap\n",
      "  File \"/usr/lib/python2.7/multiprocessing/process.py\", line 258, in _bootstrap\n",
      "Traceback (most recent call last):\n",
      "    self.run()\n",
      "    self.run()\n",
      "    self.run()\n",
      "  File \"/usr/lib/python2.7/multiprocessing/process.py\", line 258, in _bootstrap\n",
      "  File \"/usr/lib/python2.7/multiprocessing/process.py\", line 114, in run\n",
      "  File \"/usr/lib/python2.7/multiprocessing/process.py\", line 114, in run\n",
      "    self._target(*self._args, **self._kwargs)\n",
      "    self.run()\n",
      "    self._target(*self._args, **self._kwargs)\n",
      "  File \"<ipython-input-117-acc2579236a6>\", line 18, in validation\n",
      "  File \"<ipython-input-117-acc2579236a6>\", line 18, in validation\n",
      "    alphas = weather_alphas.get_alphas(LAG, TEMPERATURE_WEEKS, RAIN_WEEKS, train, ws_csv)\n",
      "  File \"/usr/lib/python2.7/multiprocessing/process.py\", line 114, in run\n",
      "    self._target(*self._args, **self._kwargs)\n",
      "    self.run()\n",
      "    alphas = weather_alphas.get_alphas(LAG, TEMPERATURE_WEEKS, RAIN_WEEKS, train, ws_csv)\n",
      "    self._target(*self._args, **self._kwargs)\n",
      "  File \"<ipython-input-117-acc2579236a6>\", line 18, in validation\n",
      "    alphas = weather_alphas.get_alphas(LAG, TEMPERATURE_WEEKS, RAIN_WEEKS, train, ws_csv)\n",
      "  File \"weather_alphas.py\", line 82, in get_alphas\n",
      "  File \"weather_alphas.py\", line 82, in get_alphas\n",
      "  File \"/usr/lib/python2.7/multiprocessing/process.py\", line 114, in run\n",
      "  File \"<ipython-input-117-acc2579236a6>\", line 18, in validation\n",
      "  File \"/usr/lib/python2.7/dist-packages/scipy/optimize/_minimize.py\", line 447, in minimize\n",
      "  File \"weather_alphas.py\", line 82, in get_alphas\n",
      "  File \"/usr/lib/python2.7/dist-packages/scipy/optimize/_minimize.py\", line 447, in minimize\n",
      "    alphas = weather_alphas.get_alphas(LAG, TEMPERATURE_WEEKS, RAIN_WEEKS, train, ws_csv)\n",
      "    self._target(*self._args, **self._kwargs)\n",
      "    callback=callback, **options)\n",
      "    callback=callback, **options)\n",
      "  File \"/usr/lib/python2.7/dist-packages/scipy/optimize/lbfgsb.py\", line 330, in _minimize_lbfgsb\n",
      "  File \"/usr/lib/python2.7/dist-packages/scipy/optimize/_minimize.py\", line 447, in minimize\n",
      "  File \"weather_alphas.py\", line 82, in get_alphas\n",
      "  File \"<ipython-input-117-acc2579236a6>\", line 18, in validation\n",
      "  File \"/usr/lib/python2.7/dist-packages/scipy/optimize/lbfgsb.py\", line 330, in _minimize_lbfgsb\n",
      "    f, g = func_and_grad(x)\n",
      "    callback=callback, **options)\n",
      "    alphas = weather_alphas.get_alphas(LAG, TEMPERATURE_WEEKS, RAIN_WEEKS, train, ws_csv)\n",
      "  File \"/usr/lib/python2.7/dist-packages/scipy/optimize/lbfgsb.py\", line 274, in func_and_grad\n",
      "  File \"/usr/lib/python2.7/dist-packages/scipy/optimize/_minimize.py\", line 447, in minimize\n",
      "  File \"/usr/lib/python2.7/dist-packages/scipy/optimize/lbfgsb.py\", line 330, in _minimize_lbfgsb\n",
      "    f, g = func_and_grad(x)\n",
      "  File \"/usr/lib/python2.7/dist-packages/scipy/optimize/lbfgsb.py\", line 274, in func_and_grad\n",
      "    callback=callback, **options)\n",
      "    g = _approx_fprime_helper(x, fun, epsilon, args=args, f0=f)\n",
      "    f, g = func_and_grad(x)\n",
      "  File \"weather_alphas.py\", line 82, in get_alphas\n",
      "  File \"/usr/lib/python2.7/dist-packages/scipy/optimize/lbfgsb.py\", line 330, in _minimize_lbfgsb\n",
      "    f, g = func_and_grad(x)\n",
      "  File \"/usr/lib/python2.7/dist-packages/scipy/optimize/optimize.py\", line 562, in _approx_fprime_helper\n",
      "    g = _approx_fprime_helper(x, fun, epsilon, args=args, f0=f)\n",
      "  File \"/usr/lib/python2.7/dist-packages/scipy/optimize/lbfgsb.py\", line 274, in func_and_grad\n",
      "  File \"/usr/lib/python2.7/dist-packages/scipy/optimize/_minimize.py\", line 447, in minimize\n",
      "    callback=callback, **options)\n",
      "  File \"/usr/lib/python2.7/dist-packages/scipy/optimize/optimize.py\", line 562, in _approx_fprime_helper\n",
      "    g = _approx_fprime_helper(x, fun, epsilon, args=args, f0=f)\n",
      "  File \"/usr/lib/python2.7/dist-packages/scipy/optimize/lbfgsb.py\", line 274, in func_and_grad\n",
      "  File \"/usr/lib/python2.7/dist-packages/scipy/optimize/optimize.py\", line 562, in _approx_fprime_helper\n",
      "  File \"/usr/lib/python2.7/dist-packages/scipy/optimize/lbfgsb.py\", line 330, in _minimize_lbfgsb\n",
      "    grad[k] = (f(*((xk + d,) + args)) - f0) / d[k]\n",
      "    grad[k] = (f(*((xk + d,) + args)) - f0) / d[k]\n",
      "    g = _approx_fprime_helper(x, fun, epsilon, args=args, f0=f)\n",
      "    f, g = func_and_grad(x)\n",
      "    grad[k] = (f(*((xk + d,) + args)) - f0) / d[k]\n",
      "  File \"/usr/lib/python2.7/dist-packages/scipy/optimize/optimize.py\", line 289, in function_wrapper\n",
      "  File \"/usr/lib/python2.7/dist-packages/scipy/optimize/optimize.py\", line 562, in _approx_fprime_helper\n",
      "  File \"/usr/lib/python2.7/dist-packages/scipy/optimize/optimize.py\", line 289, in function_wrapper\n",
      "  File \"/usr/lib/python2.7/dist-packages/scipy/optimize/lbfgsb.py\", line 274, in func_and_grad\n",
      "  File \"/usr/lib/python2.7/dist-packages/scipy/optimize/optimize.py\", line 289, in function_wrapper\n",
      "    return function(*(wrapper_args + args))\n",
      "    return function(*(wrapper_args + args))\n",
      "    g = _approx_fprime_helper(x, fun, epsilon, args=args, f0=f)\n",
      "  File \"weather_alphas.py\", line 36, in cost\n",
      "    grad[k] = (f(*((xk + d,) + args)) - f0) / d[k]\n",
      "  File \"weather_alphas.py\", line 36, in cost\n",
      "  File \"/usr/lib/python2.7/dist-packages/scipy/optimize/optimize.py\", line 562, in _approx_fprime_helper\n",
      "  File \"/usr/lib/python2.7/dist-packages/scipy/optimize/optimize.py\", line 289, in function_wrapper\n",
      "    return function(*(wrapper_args + args))\n",
      "  File \"weather_costs.py\", line 31, in nweek_ahead_cost\n",
      "  File \"weather_costs.py\", line 20, in nweek_ahead_cost\n",
      "    return function(*(wrapper_args + args))\n",
      "    real_case = data.cases[aweek+end_cases_week] +1 # avoid getting zeros\n",
      "  File \"weather_alphas.py\", line 36, in cost\n",
      "    grad[k] = (f(*((xk + d,) + args)) - f0) / d[k]\n",
      "    rains_for_prediction)\n",
      "  File \"weather_alphas.py\", line 36, in cost\n",
      "  File \"weather_costs.py\", line 33, in nweek_ahead_cost\n",
      "  File \"/usr/local/lib/python2.7/dist-packages/pandas/core/generic.py\", line 3080, in __getattr__\n",
      "  File \"weather_costs.py\", line 31, in nweek_ahead_cost\n",
      "  File \"/usr/lib/python2.7/dist-packages/scipy/optimize/optimize.py\", line 289, in function_wrapper\n",
      "  File \"model_01.py\", line 65, in guess\n",
      "    return function(*(wrapper_args + args))\n",
      "    cases_for_prediction = np.append(cases_for_prediction[1:],predicted_case)\n",
      "    rains_for_prediction)\n",
      "  File \"weather_alphas.py\", line 36, in cost\n",
      "    rain_part = rain_term(w_rain, rains_for_prediction)\n",
      "  File \"/usr/local/lib/python2.7/dist-packages/pandas/core/series.py\", line 642, in __getitem__\n",
      "  File \"weather_costs.py\", line 20, in nweek_ahead_cost\n",
      "    return self[name]\n",
      "KeyboardInterrupt\n",
      "    real_case = data.cases[aweek+end_cases_week] +1 # avoid getting zeros\n",
      "  File \"/usr/local/lib/python2.7/dist-packages/pandas/core/frame.py\", line 1941, in __getitem__\n",
      "    return self._get_with(key)\n",
      "  File \"/usr/local/lib/python2.7/dist-packages/pandas/core/series.py\", line 601, in __getitem__\n",
      "  File \"model_01.py\", line 57, in guess\n",
      "    key = com._apply_if_callable(key, self)\n",
      "  File \"/usr/local/lib/python2.7/dist-packages/pandas/core/series.py\", line 648, in _get_with\n",
      "    result = self.index.get_value(self, key)\n",
      "  File \"/usr/local/lib/python2.7/dist-packages/pandas/core/common.py\", line 435, in _apply_if_callable\n",
      "    seasonality_part = season_sin(w_season, nth_week) # takes the second part of w\n",
      "    def _apply_if_callable(maybe_callable, obj, **kwargs):\n",
      "  File \"model_01.py\", line 26, in season_sin\n",
      "    return self._get_values(indexer)\n",
      "  File \"/usr/local/lib/python2.7/dist-packages/pandas/core/indexes/datetimes.py\", line 1377, in get_value\n",
      "KeyboardInterrupt\n",
      "  File \"/usr/local/lib/python2.7/dist-packages/pandas/core/series.py\", line 710, in _get_values\n",
      "    inside = coeff*(nth_week - shift_phase)\n",
      "    return _maybe_box(self, Index.get_value(self, series, key),\n",
      "    fastpath=True).__finalize__(self)\n"
     ]
    },
    {
     "name": "stderr",
     "output_type": "stream",
     "text": [
      "  File \"/usr/local/lib/python2.7/dist-packages/pandas/core/indexes/base.py\", line 2474, in get_value\n",
      "  File \"/usr/local/lib/python2.7/dist-packages/pandas/core/series.py\", line 254, in __init__\n",
      "KeyboardInterrupt\n",
      "    self.name = name\n",
      "    k = self._convert_scalar_indexer(k, kind='getitem')\n",
      "  File \"/usr/local/lib/python2.7/dist-packages/pandas/core/generic.py\", line 3103, in __setattr__\n",
      "  File \"/usr/local/lib/python2.7/dist-packages/pandas/core/indexes/datetimelike.py\", line 621, in _convert_scalar_indexer\n",
      "    ._convert_scalar_indexer(key, kind=kind))\n",
      "    object.__setattr__(self, '_name', value)\n",
      "    object.__setattr__(self, name, value)\n",
      "  File \"/usr/local/lib/python2.7/dist-packages/pandas/core/indexes/numeric.py\", line 142, in _convert_scalar_indexer\n",
      "  File \"/usr/local/lib/python2.7/dist-packages/pandas/core/series.py\", line 328, in name\n",
      "    ._convert_scalar_indexer(key, kind=kind))\n",
      "  File \"/usr/local/lib/python2.7/dist-packages/pandas/core/indexes/base.py\", line 1310, in _convert_scalar_indexer\n",
      "KeyboardInterrupt\n",
      "    if len(self) and not isinstance(self, ABCMultiIndex,):\n",
      "KeyboardInterrupt\n"
     ]
    },
    {
     "ename": "KeyboardInterrupt",
     "evalue": "",
     "output_type": "error",
     "traceback": [
      "\u001b[0;31m---------------------------------------------------------------------------\u001b[0m",
      "\u001b[0;31mKeyboardInterrupt\u001b[0m                         Traceback (most recent call last)",
      "\u001b[0;32m<ipython-input-118-6ab13d55c09d>\u001b[0m in \u001b[0;36m<module>\u001b[0;34m()\u001b[0m\n\u001b[0;32m----> 1\u001b[0;31m \u001b[0mget_ipython\u001b[0m\u001b[0;34m(\u001b[0m\u001b[0;34m)\u001b[0m\u001b[0;34m.\u001b[0m\u001b[0mrun_cell_magic\u001b[0m\u001b[0;34m(\u001b[0m\u001b[0;34mu'time'\u001b[0m\u001b[0;34m,\u001b[0m \u001b[0;34mu''\u001b[0m\u001b[0;34m,\u001b[0m \u001b[0;34mu'# Setup a list of processes that we want to run\\ntrain = cm_dengues_train\\nreal = cm_dengues_weather\\nprocesses = [Process(target=validation, args=(19, weeks, 10, train, real, output)) for weeks in range(10,15)]\\nprint ws_csv\\n\\n# Run processes\\nfor p in processes:\\n    p.start()\\n\\n# Exit the completed processes\\nfor p in processes:\\n    p.join()\\n\\n# Get process results from the output queue\\nresults = [output.get() for p in processes]\\n\\nprint(results)'\u001b[0m\u001b[0;34m)\u001b[0m\u001b[0;34m\u001b[0m\u001b[0m\n\u001b[0m",
      "\u001b[0;32m/usr/local/lib/python2.7/dist-packages/IPython/core/interactiveshell.pyc\u001b[0m in \u001b[0;36mrun_cell_magic\u001b[0;34m(self, magic_name, line, cell)\u001b[0m\n\u001b[1;32m   2113\u001b[0m             \u001b[0mmagic_arg_s\u001b[0m \u001b[0;34m=\u001b[0m \u001b[0mself\u001b[0m\u001b[0;34m.\u001b[0m\u001b[0mvar_expand\u001b[0m\u001b[0;34m(\u001b[0m\u001b[0mline\u001b[0m\u001b[0;34m,\u001b[0m \u001b[0mstack_depth\u001b[0m\u001b[0;34m)\u001b[0m\u001b[0;34m\u001b[0m\u001b[0m\n\u001b[1;32m   2114\u001b[0m             \u001b[0;32mwith\u001b[0m \u001b[0mself\u001b[0m\u001b[0;34m.\u001b[0m\u001b[0mbuiltin_trap\u001b[0m\u001b[0;34m:\u001b[0m\u001b[0;34m\u001b[0m\u001b[0m\n\u001b[0;32m-> 2115\u001b[0;31m                 \u001b[0mresult\u001b[0m \u001b[0;34m=\u001b[0m \u001b[0mfn\u001b[0m\u001b[0;34m(\u001b[0m\u001b[0mmagic_arg_s\u001b[0m\u001b[0;34m,\u001b[0m \u001b[0mcell\u001b[0m\u001b[0;34m)\u001b[0m\u001b[0;34m\u001b[0m\u001b[0m\n\u001b[0m\u001b[1;32m   2116\u001b[0m             \u001b[0;32mreturn\u001b[0m \u001b[0mresult\u001b[0m\u001b[0;34m\u001b[0m\u001b[0m\n\u001b[1;32m   2117\u001b[0m \u001b[0;34m\u001b[0m\u001b[0m\n",
      "\u001b[0;32m<decorator-gen-59>\u001b[0m in \u001b[0;36mtime\u001b[0;34m(self, line, cell, local_ns)\u001b[0m\n",
      "\u001b[0;32m/usr/local/lib/python2.7/dist-packages/IPython/core/magic.pyc\u001b[0m in \u001b[0;36m<lambda>\u001b[0;34m(f, *a, **k)\u001b[0m\n\u001b[1;32m    186\u001b[0m     \u001b[0;31m# but it's overkill for just that one bit of state.\u001b[0m\u001b[0;34m\u001b[0m\u001b[0;34m\u001b[0m\u001b[0m\n\u001b[1;32m    187\u001b[0m     \u001b[0;32mdef\u001b[0m \u001b[0mmagic_deco\u001b[0m\u001b[0;34m(\u001b[0m\u001b[0marg\u001b[0m\u001b[0;34m)\u001b[0m\u001b[0;34m:\u001b[0m\u001b[0;34m\u001b[0m\u001b[0m\n\u001b[0;32m--> 188\u001b[0;31m         \u001b[0mcall\u001b[0m \u001b[0;34m=\u001b[0m \u001b[0;32mlambda\u001b[0m \u001b[0mf\u001b[0m\u001b[0;34m,\u001b[0m \u001b[0;34m*\u001b[0m\u001b[0ma\u001b[0m\u001b[0;34m,\u001b[0m \u001b[0;34m**\u001b[0m\u001b[0mk\u001b[0m\u001b[0;34m:\u001b[0m \u001b[0mf\u001b[0m\u001b[0;34m(\u001b[0m\u001b[0;34m*\u001b[0m\u001b[0ma\u001b[0m\u001b[0;34m,\u001b[0m \u001b[0;34m**\u001b[0m\u001b[0mk\u001b[0m\u001b[0;34m)\u001b[0m\u001b[0;34m\u001b[0m\u001b[0m\n\u001b[0m\u001b[1;32m    189\u001b[0m \u001b[0;34m\u001b[0m\u001b[0m\n\u001b[1;32m    190\u001b[0m         \u001b[0;32mif\u001b[0m \u001b[0mcallable\u001b[0m\u001b[0;34m(\u001b[0m\u001b[0marg\u001b[0m\u001b[0;34m)\u001b[0m\u001b[0;34m:\u001b[0m\u001b[0;34m\u001b[0m\u001b[0m\n",
      "\u001b[0;32m/usr/local/lib/python2.7/dist-packages/IPython/core/magics/execution.pyc\u001b[0m in \u001b[0;36mtime\u001b[0;34m(self, line, cell, local_ns)\u001b[0m\n\u001b[1;32m   1183\u001b[0m         \u001b[0;32melse\u001b[0m\u001b[0;34m:\u001b[0m\u001b[0;34m\u001b[0m\u001b[0m\n\u001b[1;32m   1184\u001b[0m             \u001b[0mst\u001b[0m \u001b[0;34m=\u001b[0m \u001b[0mclock2\u001b[0m\u001b[0;34m(\u001b[0m\u001b[0;34m)\u001b[0m\u001b[0;34m\u001b[0m\u001b[0m\n\u001b[0;32m-> 1185\u001b[0;31m             \u001b[0;32mexec\u001b[0m\u001b[0;34m(\u001b[0m\u001b[0mcode\u001b[0m\u001b[0;34m,\u001b[0m \u001b[0mglob\u001b[0m\u001b[0;34m,\u001b[0m \u001b[0mlocal_ns\u001b[0m\u001b[0;34m)\u001b[0m\u001b[0;34m\u001b[0m\u001b[0m\n\u001b[0m\u001b[1;32m   1186\u001b[0m             \u001b[0mend\u001b[0m \u001b[0;34m=\u001b[0m \u001b[0mclock2\u001b[0m\u001b[0;34m(\u001b[0m\u001b[0;34m)\u001b[0m\u001b[0;34m\u001b[0m\u001b[0m\n\u001b[1;32m   1187\u001b[0m             \u001b[0mout\u001b[0m \u001b[0;34m=\u001b[0m \u001b[0mNone\u001b[0m\u001b[0;34m\u001b[0m\u001b[0m\n",
      "\u001b[0;32m<timed exec>\u001b[0m in \u001b[0;36m<module>\u001b[0;34m()\u001b[0m\n",
      "\u001b[0;32m/usr/lib/python2.7/multiprocessing/process.pyc\u001b[0m in \u001b[0;36mjoin\u001b[0;34m(self, timeout)\u001b[0m\n\u001b[1;32m    143\u001b[0m         \u001b[0;32massert\u001b[0m \u001b[0mself\u001b[0m\u001b[0;34m.\u001b[0m\u001b[0m_parent_pid\u001b[0m \u001b[0;34m==\u001b[0m \u001b[0mos\u001b[0m\u001b[0;34m.\u001b[0m\u001b[0mgetpid\u001b[0m\u001b[0;34m(\u001b[0m\u001b[0;34m)\u001b[0m\u001b[0;34m,\u001b[0m \u001b[0;34m'can only join a child process'\u001b[0m\u001b[0;34m\u001b[0m\u001b[0m\n\u001b[1;32m    144\u001b[0m         \u001b[0;32massert\u001b[0m \u001b[0mself\u001b[0m\u001b[0;34m.\u001b[0m\u001b[0m_popen\u001b[0m \u001b[0;32mis\u001b[0m \u001b[0;32mnot\u001b[0m \u001b[0mNone\u001b[0m\u001b[0;34m,\u001b[0m \u001b[0;34m'can only join a started process'\u001b[0m\u001b[0;34m\u001b[0m\u001b[0m\n\u001b[0;32m--> 145\u001b[0;31m         \u001b[0mres\u001b[0m \u001b[0;34m=\u001b[0m \u001b[0mself\u001b[0m\u001b[0;34m.\u001b[0m\u001b[0m_popen\u001b[0m\u001b[0;34m.\u001b[0m\u001b[0mwait\u001b[0m\u001b[0;34m(\u001b[0m\u001b[0mtimeout\u001b[0m\u001b[0;34m)\u001b[0m\u001b[0;34m\u001b[0m\u001b[0m\n\u001b[0m\u001b[1;32m    146\u001b[0m         \u001b[0;32mif\u001b[0m \u001b[0mres\u001b[0m \u001b[0;32mis\u001b[0m \u001b[0;32mnot\u001b[0m \u001b[0mNone\u001b[0m\u001b[0;34m:\u001b[0m\u001b[0;34m\u001b[0m\u001b[0m\n\u001b[1;32m    147\u001b[0m             \u001b[0m_current_process\u001b[0m\u001b[0;34m.\u001b[0m\u001b[0m_children\u001b[0m\u001b[0;34m.\u001b[0m\u001b[0mdiscard\u001b[0m\u001b[0;34m(\u001b[0m\u001b[0mself\u001b[0m\u001b[0;34m)\u001b[0m\u001b[0;34m\u001b[0m\u001b[0m\n",
      "\u001b[0;32m/usr/lib/python2.7/multiprocessing/forking.pyc\u001b[0m in \u001b[0;36mwait\u001b[0;34m(self, timeout)\u001b[0m\n\u001b[1;32m    152\u001b[0m         \u001b[0;32mdef\u001b[0m \u001b[0mwait\u001b[0m\u001b[0;34m(\u001b[0m\u001b[0mself\u001b[0m\u001b[0;34m,\u001b[0m \u001b[0mtimeout\u001b[0m\u001b[0;34m=\u001b[0m\u001b[0mNone\u001b[0m\u001b[0;34m)\u001b[0m\u001b[0;34m:\u001b[0m\u001b[0;34m\u001b[0m\u001b[0m\n\u001b[1;32m    153\u001b[0m             \u001b[0;32mif\u001b[0m \u001b[0mtimeout\u001b[0m \u001b[0;32mis\u001b[0m \u001b[0mNone\u001b[0m\u001b[0;34m:\u001b[0m\u001b[0;34m\u001b[0m\u001b[0m\n\u001b[0;32m--> 154\u001b[0;31m                 \u001b[0;32mreturn\u001b[0m \u001b[0mself\u001b[0m\u001b[0;34m.\u001b[0m\u001b[0mpoll\u001b[0m\u001b[0;34m(\u001b[0m\u001b[0;36m0\u001b[0m\u001b[0;34m)\u001b[0m\u001b[0;34m\u001b[0m\u001b[0m\n\u001b[0m\u001b[1;32m    155\u001b[0m             \u001b[0mdeadline\u001b[0m \u001b[0;34m=\u001b[0m \u001b[0mtime\u001b[0m\u001b[0;34m.\u001b[0m\u001b[0mtime\u001b[0m\u001b[0;34m(\u001b[0m\u001b[0;34m)\u001b[0m \u001b[0;34m+\u001b[0m \u001b[0mtimeout\u001b[0m\u001b[0;34m\u001b[0m\u001b[0m\n\u001b[1;32m    156\u001b[0m             \u001b[0mdelay\u001b[0m \u001b[0;34m=\u001b[0m \u001b[0;36m0.0005\u001b[0m\u001b[0;34m\u001b[0m\u001b[0m\n",
      "\u001b[0;32m/usr/lib/python2.7/multiprocessing/forking.pyc\u001b[0m in \u001b[0;36mpoll\u001b[0;34m(self, flag)\u001b[0m\n\u001b[1;32m    133\u001b[0m                 \u001b[0;32mwhile\u001b[0m \u001b[0mTrue\u001b[0m\u001b[0;34m:\u001b[0m\u001b[0;34m\u001b[0m\u001b[0m\n\u001b[1;32m    134\u001b[0m                     \u001b[0;32mtry\u001b[0m\u001b[0;34m:\u001b[0m\u001b[0;34m\u001b[0m\u001b[0m\n\u001b[0;32m--> 135\u001b[0;31m                         \u001b[0mpid\u001b[0m\u001b[0;34m,\u001b[0m \u001b[0msts\u001b[0m \u001b[0;34m=\u001b[0m \u001b[0mos\u001b[0m\u001b[0;34m.\u001b[0m\u001b[0mwaitpid\u001b[0m\u001b[0;34m(\u001b[0m\u001b[0mself\u001b[0m\u001b[0;34m.\u001b[0m\u001b[0mpid\u001b[0m\u001b[0;34m,\u001b[0m \u001b[0mflag\u001b[0m\u001b[0;34m)\u001b[0m\u001b[0;34m\u001b[0m\u001b[0m\n\u001b[0m\u001b[1;32m    136\u001b[0m                     \u001b[0;32mexcept\u001b[0m \u001b[0mos\u001b[0m\u001b[0;34m.\u001b[0m\u001b[0merror\u001b[0m \u001b[0;32mas\u001b[0m \u001b[0me\u001b[0m\u001b[0;34m:\u001b[0m\u001b[0;34m\u001b[0m\u001b[0m\n\u001b[1;32m    137\u001b[0m                         \u001b[0;32mif\u001b[0m \u001b[0me\u001b[0m\u001b[0;34m.\u001b[0m\u001b[0merrno\u001b[0m \u001b[0;34m==\u001b[0m \u001b[0merrno\u001b[0m\u001b[0;34m.\u001b[0m\u001b[0mEINTR\u001b[0m\u001b[0;34m:\u001b[0m\u001b[0;34m\u001b[0m\u001b[0m\n",
      "\u001b[0;31mKeyboardInterrupt\u001b[0m: "
     ]
    }
   ],
   "source": [
    "%%time\n",
    "# Setup a list of processes that we want to run\n",
    "train = cm_dengues_train\n",
    "real = cm_dengues_weather\n",
    "processes = [Process(target=validation, args=(19, weeks, 10, train, real, output)) for weeks in range(10,15)]\n",
    "print ws_csv\n",
    "\n",
    "# Run processes\n",
    "for p in processes:\n",
    "    p.start()\n",
    "\n",
    "# Exit the completed processes\n",
    "for p in processes:\n",
    "    p.join()\n",
    "\n",
    "# Get process results from the output queue\n",
    "results = [output.get() for p in processes]\n",
    "\n",
    "print(results)"
   ]
  },
  {
   "cell_type": "code",
   "execution_count": 110,
   "metadata": {},
   "outputs": [
    {
     "name": "stdout",
     "output_type": "stream",
     "text": [
      "1839.79709882\n"
     ]
    }
   ],
   "source": [
    "def get_best(validations):\n",
    "    idx = None\n",
    "    best_so_far = validations[0][1][-1]\n",
    "    print best_so_far\n",
    "    for i in range(len(validations)):\n",
    "        cur_validation = validations[i][1]\n",
    "#         print cur_validation\n",
    "        if cur_validation[0] <= best_so_far:\n",
    "            best_so_far = cur_validation[0]\n",
    "            idx = i\n",
    "    return validations[idx]\n",
    "        \n",
    "    \n",
    "best_param = get_best(results)"
   ]
  },
  {
   "cell_type": "code",
   "execution_count": 111,
   "metadata": {
    "collapsed": true
   },
   "outputs": [
    {
     "data": {
      "text/plain": [
       "(14,\n",
       " [164.50631781941073,\n",
       "  281.9284334157669,\n",
       "  530.21142874399311,\n",
       "  948.11669946140239,\n",
       "  1554.4164569285895],\n",
       " array([  3.75164554e-01,   2.57944040e-08,   8.06437884e-08,\n",
       "          9.09234382e-08,   1.28813677e-07,   1.02091877e-07,\n",
       "          9.74234389e-08,   4.20666868e-08,   4.56024522e-08,\n",
       "          4.67506499e-08,   9.58222066e-09,   3.18285865e-09,\n",
       "          7.71514721e-09,   1.15469230e-08,   1.25299884e-01,\n",
       "          4.98965054e-03,   3.01063264e-03,   3.51274466e-05,\n",
       "          2.88835619e-06,   4.66305326e-01,   1.67950662e+00,\n",
       "          7.77502916e+00,   1.62668116e-01,   5.89580445e-02,\n",
       "         -9.17072254e-03,  -2.69270905e-02,  -2.83934709e-02,\n",
       "         -1.53448717e-02,  -7.76256011e-03,  -6.19917329e-03,\n",
       "          6.92190286e-03,  -1.98003362e-02,  -3.41522099e-03,\n",
       "          7.44573688e-03,  -9.62878054e-04,   1.01514670e-02,\n",
       "          3.18145790e-02,   5.17262161e-02,   3.18203639e-02,\n",
       "          1.63154845e-02,   1.03294363e-02,   5.99225062e-03,\n",
       "          3.49632525e-03,  -4.11705577e-04,  -8.22957365e-04,\n",
       "         -1.40876044e-04,   1.22571418e-04,   5.06958474e-04]))"
      ]
     },
     "execution_count": 111,
     "metadata": {},
     "output_type": "execute_result"
    }
   ],
   "source": [
    "best_param"
   ]
  },
  {
   "cell_type": "code",
   "execution_count": 113,
   "metadata": {
    "collapsed": true
   },
   "outputs": [],
   "source": [
    "# pd.DataFrame(best_param[2]).to_csv(\"best-with-19-lags-14-temps-ws-1st-iter.csv\",index=False)\n",
    "# np.array(pd.read_csv(\"best-with-19-lags-14-temps-ws-1st-iter.csv\").T)[0]"
   ]
  },
  {
   "cell_type": "code",
   "execution_count": 114,
   "metadata": {
    "collapsed": true
   },
   "outputs": [
    {
     "data": {
      "image/png": "[encoded data removed]",
      "text/plain": [
       "<matplotlib.figure.Figure at 0x7fdc5c3a3f10>"
      ]
     },
     "metadata": {},
     "output_type": "display_data"
    }
   ],
   "source": [
    "ws = np.array(pd.read_csv(\"best-with-19-lags-14-temps-ws-1st-iter-model-a.csv\").T)[0]\n",
    "real = cm_dengues_weather\n",
    "show_predictions([19,14,10], real, \"ChiangMai\", ws)"
   ]
  },
  {
   "cell_type": "code",
   "execution_count": 58,
   "metadata": {},
   "outputs": [
    {
     "name": "stdout",
     "output_type": "stream",
     "text": [
      "getting bounded alphas ...\n",
      "done getting alphas ...\n"
     ]
    }
   ],
   "source": [
    "# pd.DataFrame(best_param[2]).to_csv(\"best-with-19-lags-10-temps-ws-1st-iter.csv\",index=False)\n",
    "# np.array(pd.read_csv(\"best-for-19-lags-ws-3rd-iter.csv\").T)[0]"
   ]
  },
  {
   "cell_type": "code",
   "execution_count": 32,
   "metadata": {},
   "outputs": [
    {
     "name": "stdout",
     "output_type": "stream",
     "text": [
      "LAG 23 [205.82624824351581, 374.86547851071168, 726.02637891644849, 1284.8735497820055, 1627.4597425170004]\n",
      "LAG 21 [166.85156662968512, 292.0898130079363, 564.366573591867, 1035.0747400189584, 1527.0827702830245]\n",
      "LAG 22 [168.91992707974032, 294.43310789395724, 581.26512237641293, 1094.9170235354613, 1583.9765963384611]\n",
      "LAG 19 [166.58144315243547, 288.90438923758734, 543.77910579020795, 947.7903870066549, 1391.3705312824545]\n"
     ]
    }
   ],
   "source": [
    "chosen_ws = glob.glob(\"best-*.csv\")\n",
    "for ws_set_file in chosen_ws:\n",
    "    ws_set = np.array(pd.read_csv(ws_set_file).T)[0]\n",
    "#     print ws_set_file\n",
    "    LAG = int(ws_set_file[9:11])\n",
    "    to_validate = prediction.get_predictions(LAG, 9, 10, real, ws_set)\n",
    "    print \"LAG %d\"%LAG,validate.get_validations(LAG, to_validate, real)"
   ]
  },
  {
   "cell_type": "code",
   "execution_count": 147,
   "metadata": {},
   "outputs": [
    {
     "name": "stdout",
     "output_type": "stream",
     "text": [
      "les\n"
     ]
    },
    {
     "data": {
      "text/plain": [
       "19"
      ]
     },
     "execution_count": 147,
     "metadata": {},
     "output_type": "execute_result"
    }
   ],
   "source": [
    "# # pd.DataFrame(best_param[2]).to_csv(\"best-for-18-lags-ws.csv\",index=False)\n",
    "\n",
    "# lg = [16,17,18,20,22]\n",
    "# a = np.array(pd.read_csv(\"best-for-18-lags-ws.csv\").T)[0]\n",
    "\n",
    "# # for i in lg:\n",
    "# #     if i == len(a):\n",
    "# #         arr = a\n",
    "# #         print len(arr)\n",
    "# #     elif i < len(a):\n",
    "# #         arr = a[:-(18-i)]\n",
    "# #         print len(arr)\n",
    "# #     else:\n",
    "# #         mean_val = 1/float(i)\n",
    "# #         arr = np.append(a,[mean_val]*(i-len(a)))\n",
    "# #         print arr\n",
    "        \n",
    "# def ws_helper(LAG, ws, 18):\n",
    "#     n_ws = len(ws)\n",
    "#     if LAG == n_ws:\n",
    "#         print \"eq\"\n",
    "#         arr = ws[:LAG+1]\n",
    "#     elif LAG < n_ws:\n",
    "#         print \"les\"\n",
    "#         arr = ws[:-(n_ws - LAG + 1)]\n",
    "#     else:\n",
    "#         print \"else\"\n",
    "#         tail = (LAG - n_ws) - 1\n",
    "#         mean_val = 1/(float(LAG)*tail)\n",
    "#         arr = np.append(ws,[mean_val]*tail)\n",
    "#     return arr\n",
    "\n",
    "# len(ws_helper(20,a))"
   ]
  },
  {
   "cell_type": "code",
   "execution_count": null,
   "metadata": {
    "collapsed": true
   },
   "outputs": [],
   "source": []
  }
 ],
 "metadata": {
  "kernelspec": {
   "display_name": "Python 2",
   "language": "python",
   "name": "python2"
  },
  "language_info": {
   "codemirror_mode": {
    "name": "ipython",
    "version": 2
   },
   "file_extension": ".py",
   "mimetype": "text/x-python",
   "name": "python",
   "nbconvert_exporter": "python",
   "pygments_lexer": "ipython2",
   "version": "2.7.12"
  }
 },
 "nbformat": 4,
 "nbformat_minor": 1
}
