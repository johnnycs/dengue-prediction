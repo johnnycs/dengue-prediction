{
 "cells": [
  {
   "cell_type": "code",
   "execution_count": 1,
   "metadata": {
    "scrolled": true
   },
   "outputs": [
    {
     "name": "stdout",
     "output_type": "stream",
     "text": [
      "running model_02\n",
      "getting cost from nweek ahead\n",
      "getting bounded alphas with params for avgrh...\n",
      "done getting alphas ...\n",
      "prediction for humidity\n"
     ]
    }
   ],
   "source": [
    "%matplotlib inline\n",
    "import pandas as pd\n",
    "import numpy as np\n",
    "import matplotlib.pyplot as plt\n",
    "import datetime\n",
    "from dateutil.relativedelta import relativedelta\n",
    "from scipy.special import expit\n",
    "from scipy.optimize import fmin, minimize\n",
    "import glob as glob\n",
    "import matplotlib\n",
    "matplotlib.style.use('ggplot')\n",
    "\n",
    "# .py\n",
    "%load_ext autoreload\n",
    "%autoreload 2\n",
    "import weather_humidity_alphas, weather_humidity_costs, prediction_humidity, model_02, validate"
   ]
  },
  {
   "cell_type": "code",
   "execution_count": 2,
   "metadata": {
    "collapsed": true
   },
   "outputs": [],
   "source": [
    "def split_data(data):\n",
    "    train_mask = (data.index < \"2011\")\n",
    "    train = data[train_mask]\n",
    "    test_mask = (data.index > \"2011\")\n",
    "    test = data[test_mask]\n",
    "    return train, test"
   ]
  },
  {
   "cell_type": "code",
   "execution_count": 3,
   "metadata": {
    "collapsed": true
   },
   "outputs": [],
   "source": [
    "all_weather = pd.read_csv(\"weather01-16.csv\")"
   ]
  },
  {
   "cell_type": "code",
   "execution_count": 4,
   "metadata": {
    "collapsed": true
   },
   "outputs": [],
   "source": [
    "cm_weather = all_weather[all_weather.stn_name == \"Chiang Mai\"]\n",
    "cm_weather.index = pd.DatetimeIndex(cm_weather.date)\n",
    "mask = (cm_weather.index > \"2003\") & (cm_weather.index < \"2016\")\n",
    "cm_weather = cm_weather[mask]\n",
    "\n",
    "provinces_df = pd.read_csv(\"all-dengues.csv\")\n",
    "provinces_df.index = pd.DatetimeIndex(provinces_df.date)\n",
    "provinces_df = provinces_df.drop(['date','date.1'],axis=1)\n",
    "cm_dengues = provinces_df[provinces_df['จังหวัด'] == 'ChiangMai'].resample('W').size()\n",
    "cm_dengues_df = pd.DataFrame(cm_dengues,columns=['cases'])"
   ]
  },
  {
   "cell_type": "code",
   "execution_count": 5,
   "metadata": {
    "collapsed": true
   },
   "outputs": [],
   "source": [
    "cm_avg_weather = cm_weather[['avgrh','dday','meantemp']].resample('W').mean()\n",
    "cm_avg_weather['rain'] = cm_weather[['rain']].resample('W').sum() # cumulative rainfall\n",
    "cm_dengues_weather = pd.concat([cm_avg_weather,cm_dengues_df[:-52]],axis=1)\n",
    "\n",
    "cm_dengues_weather_split = split_data(cm_dengues_weather)\n",
    "cm_dengues_train, cm_dengues_test = cm_dengues_weather_split[0], cm_dengues_weather_split[1]"
   ]
  },
  {
   "cell_type": "code",
   "execution_count": 10,
   "metadata": {},
   "outputs": [
    {
     "data": {
      "text/plain": [
       "date\n",
       "2003-01-05    1\n",
       "2003-01-12    2\n",
       "2003-01-19    5\n",
       "2003-01-26    0\n",
       "2003-02-02    2\n",
       "Freq: W-SUN, Name: cases, dtype: int64"
      ]
     },
     "execution_count": 10,
     "metadata": {},
     "output_type": "execute_result"
    }
   ],
   "source": [
    "cm_dengues_train.cases.head()"
   ]
  },
  {
   "cell_type": "code",
   "execution_count": 26,
   "metadata": {
    "collapsed": true
   },
   "outputs": [],
   "source": [
    "def make_line(start_week,real,predictions,title,x_axis,y_axis,\n",
    "              real_legend='Real',predict_legend='Prediction'):\n",
    "    plt.figure(figsize=(12,6))\n",
    "    plt.plot(range(len(real)),real,'-r',label=real_legend)\n",
    "    plt.plot(range(start_week,len(predictions)+start_week),predictions,'-k',label=predict_legend,alpha=0.4)\n",
    "    plt.axvline(start_week)\n",
    "    plt.text((start_week*2)+10,300,'Prediction Start',horizontalalignment='center',verticalalignment='center')\n",
    "    plt.xlabel(x_axis)\n",
    "    plt.ylabel(y_axis)\n",
    "    plt.legend()\n",
    "    plt.title(title)\n",
    "    \n",
    "def plot_all_predictions(LAG, real, train, province, nweeks_to_predict, all_predictions):\n",
    "    \n",
    "    plt.figure(figsize=(13,6))\n",
    "    plt.plot(range(len(real)),real.cases,label='real')\n",
    "    graph_title = \"%s's Dengue Prediction with Weather Data\"%province\n",
    "    plt.title(graph_title)\n",
    "    for i in range(len(all_predictions)):\n",
    "        cur_week_guess = nweeks_to_predict[i]\n",
    "        start_predict_week = LAG+(cur_week_guess-1)\n",
    "        predicted_cases = all_predictions[i]\n",
    "        x_weeks = range(start_predict_week,len(predicted_cases)+start_predict_week)\n",
    "        line_label = \"%d week guess\"%cur_week_guess\n",
    "        plt.plot(x_weeks,predicted_cases,label=line_label,alpha=0.8)\n",
    "    \n",
    "    seperate_train_test(real,train)\n",
    "    plt.axvline(LAG)\n",
    "    plt.text((LAG*2)+10,300,'Prediction Start',horizontalalignment='center',verticalalignment='center')\n",
    "    plt.xlabel(\"# week starting 2003\")\n",
    "    plt.ylabel(\"Dengue cases\")\n",
    "    plt.legend()\n",
    "#     plt.savefig(\"16-lags-16-weeks-9-temp-wks-chiangmai-00.png\")\n",
    "    \n",
    "def seperate_train_test(all_data,train_data):\n",
    "    plt.axvspan(0, len(train_data), color='blue', alpha=0.1)\n",
    "    plt.text((len(train_data)/2)-25,700,'Train Period',size=16)\n",
    "    plt.axvline(len(train_data)+1,linewidth=0.5, color='green')\n",
    "    plt.text(len(train_data)+20,700,'Test Period',size=16)\n",
    "    plt.axvspan(len(train_data)+1, len(all_data), color='green', alpha=0.1)\n",
    "    \n",
    "def show_predictions(params, real, train, province, ws):\n",
    "    LAG, TEMPERATURE_WEEKS, RAIN_WEEKS, AVGRH_WEEKS = params[0], params[1], params[2], params[3]\n",
    "    \n",
    "    predictions_to_plot = prediction_humidity.get_predictions(\n",
    "        LAG, \n",
    "        TEMPERATURE_WEEKS,\n",
    "        RAIN_WEEKS,\n",
    "        AVGRH_WEEKS,\n",
    "        real,\n",
    "        ws,\n",
    "        province)\n",
    "    \n",
    "    plot_all_predictions(LAG, \n",
    "                         real,\n",
    "                         train,\n",
    "                         province,\n",
    "                         [1,2,4,8,16],\n",
    "                         predictions_to_plot)\n",
    "    \n",
    "    "
   ]
  },
  {
   "cell_type": "code",
   "execution_count": 36,
   "metadata": {
    "collapsed": true,
    "scrolled": true
   },
   "outputs": [],
   "source": [
    "import multiprocessing as mp\n",
    "from multiprocessing import Process, Queue\n",
    "\n",
    "# Define an output queue\n",
    "output = Queue()\n",
    "\n",
    "ws_csv = np.array(pd.read_csv(\"best-with-19-lags-9-temps-15-rains-ws-2nd-iter-model-a.csv\").T)[0]\n",
    "    \n",
    "def validation(LAG, TEMPERATURE_WEEKS, RAIN_WEEKS, AVGRH_WEEKS, train, real, output):\n",
    "                                    # get_alphas takes 4 args, if theres no input csv\n",
    "    alphas = weather_humidity_alphas.get_alphas(\n",
    "        LAG, \n",
    "        TEMPERATURE_WEEKS, \n",
    "        RAIN_WEEKS, \n",
    "        AVGRH_WEEKS,\n",
    "        train, \n",
    "        ws_csv)\n",
    "                                    # get_predictions takes 6 args\n",
    "    predictions_to_validate = prediction_humidity.get_predictions(\n",
    "        LAG, \n",
    "        TEMPERATURE_WEEKS, \n",
    "        RAIN_WEEKS, \n",
    "        AVGRH_WEEKS, \n",
    "        real, \n",
    "        alphas.x, \n",
    "        \"CM\")\n",
    "                                    # get_validations takes 3 argsg\n",
    "    validated_result = validate.get_validations(\n",
    "        LAG, \n",
    "        predictions_to_validate, \n",
    "        real)\n",
    "    \n",
    "    output.put((AVGRH_WEEKS,validated_result,alphas.x)) # add in ws as well alphas.x\n"
   ]
  },
  {
   "cell_type": "code",
   "execution_count": 38,
   "metadata": {
    "collapsed": true
   },
   "outputs": [
    {
     "name": "stdout",
     "output_type": "stream",
     "text": [
      "[  3.13776391e-01   0.00000000e+00   0.00000000e+00   3.29495448e-10\n",
      "   0.00000000e+00   1.25821399e-09   1.39125455e-11   2.78983267e-09\n",
      "   2.47468734e-08   2.37904277e-08   4.31859909e-09   2.88204188e-07\n",
      "   2.12238380e-09   1.00606506e-01   1.07700343e-02   8.52753914e-06\n",
      "   8.15353478e-08   5.86827040e-08   4.23270610e-07   4.46686401e-01\n",
      "   2.15456824e+00   7.94325088e+00   2.95500487e-01   5.30912415e-02\n",
      "  -8.41536677e-03  -4.08655001e-02  -2.68498636e-02  -1.28606933e-02\n",
      "  -1.87707278e-02   3.66075072e-03   3.33845242e-03  -8.97952259e-03\n",
      "   5.16566100e-02   2.94477899e-04   3.24280573e-05  -1.72639614e-05\n",
      "   1.05907159e-04  -3.56382051e-05   8.93740573e-06   7.47903048e-05\n",
      "   4.05671216e-05   3.61448232e-05   2.25448859e-05  -2.16391626e-05\n",
      "  -2.50377181e-05  -1.43404700e-05   2.16046300e-06  -5.82294412e-06]\n",
      "61\n",
      "bnds 19 61\n",
      "LAG, TEMP, RAIN, AVGRH 19 9 15 12\n",
      "ws_csv\n",
      "prev_ws 48\n",
      "62\n",
      "all_prev_ws 61\n",
      "LAG, TEMP, RAIN, AVGRH 19 9 15 13\n",
      "bnds 19 62\n",
      "ws_csv\n",
      "prev_ws 48\n",
      "all_prev_ws 62\n",
      "ws_csv\n",
      "bnds 19 63\n",
      "LAG, TEMP, RAIN, AVGRH 19 9 15 14\n",
      "63\n",
      "prev_ws 48\n",
      "all_prev_ws 63\n",
      "64\n",
      "LAG, TEMP, RAIN, AVGRH 19 9 15 15\n",
      "bnds 19 64\n",
      "ws_csv\n",
      "prev_ws 48\n",
      "all_prev_ws 64\n",
      "[(16, [3123.8553763298155, 1885.7618252027746, 2116.6077645062333, 2121.5516495155202, 2161.1200964992399], array([  3.13776391e-01,   0.00000000e+00,   0.00000000e+00,\n",
      "         3.29495448e-10,   0.00000000e+00,   1.25821399e-09,\n",
      "         1.39125455e-11,   2.78983267e-09,   2.47468734e-08,\n",
      "         2.37904277e-08,   4.31859909e-09,   2.88204188e-07,\n",
      "         2.12238380e-09,   1.00606506e-01,   1.07700343e-02,\n",
      "         8.52753914e-06,   8.15353478e-08,   5.86827040e-08,\n",
      "         4.23270610e-07,   4.46686401e-01,   2.14798378e+00,\n",
      "         7.94325719e+00,   2.93972463e-01,   9.62602238e-03,\n",
      "        -5.14226133e-02,  -8.34571588e-02,  -6.92041772e-02,\n",
      "        -5.50454029e-02,  -6.08073536e-02,  -3.83381266e-02,\n",
      "        -3.85694559e-02,  -5.08091495e-02,   5.14987449e-02,\n",
      "         2.63741138e-04,   2.87925670e-05,  -1.53437849e-05,\n",
      "         9.33359266e-05,  -3.14412530e-05,   7.90688555e-06,\n",
      "         6.64412960e-05,   3.54497711e-05,   3.12728403e-05,\n",
      "         1.98752982e-05,  -1.89177356e-05,  -2.17697684e-05,\n",
      "        -1.24883486e-05,   1.88101389e-06,  -5.07176502e-06,\n",
      "         9.96943952e-02,   7.75968767e-02,   7.68203632e-02,\n",
      "         7.61789425e-02,   7.57766944e-02,   7.55063838e-02,\n",
      "         7.52690164e-02,   7.51367177e-02,   7.49468773e-02,\n",
      "         7.48196388e-02,   7.48159501e-02,   7.47336648e-02,\n",
      "         7.45892614e-02,   7.45760964e-02,   7.45524087e-02,\n",
      "         7.45794873e-02,   7.45379751e-02])), (12, [161.65308135681275, 271.90443642980688, 503.55273683733986, 783.54564242243418, 1295.4300883438912], array([  3.13515957e-01,   0.00000000e+00,   0.00000000e+00,\n",
      "         0.00000000e+00,   1.27673934e-12,   2.16834140e-11,\n",
      "         6.35241777e-09,   2.07361131e-09,   2.94896862e-09,\n",
      "         2.91561928e-09,   0.00000000e+00,   8.15226946e-08,\n",
      "         1.32951836e-08,   9.98452939e-02,   1.39570797e-02,\n",
      "         9.82713682e-06,   1.30275470e-07,   8.81939182e-08,\n",
      "         4.80003257e-07,   4.46218883e-01,   2.15657326e+00,\n",
      "         7.94691663e+00,   2.95971662e-01,   5.31598321e-02,\n",
      "        -8.42309445e-03,  -4.09532211e-02,  -2.68982710e-02,\n",
      "        -1.29128521e-02,  -1.87857504e-02,   3.68017540e-03,\n",
      "         3.30834477e-03,  -9.14388245e-03,   5.17047687e-02,\n",
      "        -5.93694061e-07,   6.63770523e-07,  -2.55496998e-07,\n",
      "         1.61906098e-06,  -6.06850771e-07,   1.44848746e-08,\n",
      "        -7.63697110e-07,   6.99838430e-08,   5.57516904e-08,\n",
      "         1.21933808e-07,  -3.51962321e-07,   1.02136554e-06,\n",
      "        -6.75875971e-08,  -3.78049011e-09,  -1.36006733e-07,\n",
      "         1.00093141e-01,   3.83596316e-05,   8.97575575e-05,\n",
      "         2.87368621e-05,  -1.99947423e-04,   4.72443919e-05,\n",
      "         7.45925871e-05,   3.10378394e-05,   1.20721801e-05,\n",
      "         7.91451407e-06,  -3.79362307e-05,  -9.29983546e-05,\n",
      "        -6.60939350e-05])), (14, [161.65254465092059, 271.88851367448234, 503.5078566639101, 783.72132848909177, 1295.6011142228738], array([  3.13041250e-01,   0.00000000e+00,   0.00000000e+00,\n",
      "         0.00000000e+00,   0.00000000e+00,   0.00000000e+00,\n",
      "         2.53489248e-10,   0.00000000e+00,   1.94971927e-08,\n",
      "         3.52911073e-10,   2.45049069e-10,   2.58891881e-07,\n",
      "         0.00000000e+00,   9.88437450e-02,   1.80295255e-02,\n",
      "         1.36790523e-05,   9.41642455e-08,   6.53555878e-08,\n",
      "         6.28092914e-07,   4.45671281e-01,   2.16218528e+00,\n",
      "         7.94804285e+00,   2.95855592e-01,   5.31450142e-02,\n",
      "        -8.47870058e-03,  -4.09379488e-02,  -2.69552563e-02,\n",
      "        -1.28817301e-02,  -1.88552318e-02,   3.60771622e-03,\n",
      "         3.20434178e-03,  -9.25732134e-03,   5.17278054e-02,\n",
      "         7.16369538e-05,   7.52389416e-06,  -1.53059662e-06,\n",
      "         2.53081442e-05,  -2.77119070e-06,   4.90931456e-08,\n",
      "        -3.30570601e-07,   1.11641708e-07,   9.77271779e-08,\n",
      "        -1.93641493e-07,   3.12547174e-07,  -7.80625166e-06,\n",
      "         1.33249531e-07,   1.79821516e-07,  -1.42139640e-08,\n",
      "         1.00151236e-01,   3.08477299e-05,   1.79747064e-05,\n",
      "         7.62531764e-05,  -6.49047207e-04,   9.25913820e-05,\n",
      "         1.55249747e-04,   1.08319184e-05,  -8.43473692e-05,\n",
      "        -4.34787094e-05,  -2.13114757e-06,  -3.15772436e-05,\n",
      "        -2.86055674e-05,  -1.19788473e-05,  -5.70635014e-05])), (15, [161.66137673635103, 271.92676975548602, 503.56778470015297, 783.44896600168966, 1295.2327912091016], array([  3.13733317e-01,   0.00000000e+00,   0.00000000e+00,\n",
      "         0.00000000e+00,   0.00000000e+00,   0.00000000e+00,\n",
      "         0.00000000e+00,   2.12626405e-09,   1.11643708e-09,\n",
      "         4.94298960e-09,   4.10480558e-09,   1.05490369e-07,\n",
      "         3.72021485e-09,   1.00064229e-01,   1.37823597e-02,\n",
      "         1.08434144e-05,   1.00271237e-07,   6.53966088e-08,\n",
      "         4.51025634e-07,   4.46427334e-01,   2.15479642e+00,\n",
      "         7.94761032e+00,   2.95579765e-01,   5.31156060e-02,\n",
      "        -8.40817495e-03,  -4.09192324e-02,  -2.68355903e-02,\n",
      "        -1.28968067e-02,  -1.87566397e-02,   3.63401406e-03,\n",
      "         3.29396075e-03,  -9.08184320e-03,   5.16621081e-02,\n",
      "        -1.13449757e-05,  -1.01580580e-06,   4.19730450e-08,\n",
      "        -2.84361119e-06,   1.08978435e-07,   2.33867039e-08,\n",
      "        -2.55041623e-07,   1.03881172e-07,   6.75591086e-08,\n",
      "         1.89015912e-09,  -4.20464782e-08,   2.95358703e-06,\n",
      "        -1.38447289e-08,  -1.60780691e-08,  -1.47449550e-08,\n",
      "         1.00010653e-01,   2.70404786e-05,   3.44277651e-05,\n",
      "         1.09421247e-05,   2.50830578e-04,  -1.86058005e-05,\n",
      "        -2.36216336e-05,  -1.44081605e-05,  -6.57165214e-05,\n",
      "        -7.60933888e-05,   7.61538920e-05,   1.16693291e-05,\n",
      "         1.33546395e-05,  -6.98679932e-07,  -1.54512079e-05,\n",
      "        -8.66032139e-06]))]\n",
      "CPU times: user 256 ms, sys: 328 ms, total: 584 ms\n",
      "Wall time: 5h 36min 49s\n"
     ]
    }
   ],
   "source": [
    "%%time\n",
    "# Setup a list of processes that we want to run\n",
    "train = cm_dengues_train\n",
    "real = cm_dengues_weather\n",
    "processes = [Process(target=validation, args=(19, 9, 15, weeks, train, real, output)) for weeks in range(12,16)]\n",
    "print ws_csv\n",
    "\n",
    "# Run processes\n",
    "for p in processes:\n",
    "    p.start()\n",
    "\n",
    "# Exit the completed processes\n",
    "for p in processes:\n",
    "    p.join()\n",
    "\n",
    "# Get process results from the output queue\n",
    "results = [output.get() for p in processes]\n",
    "\n",
    "print(results)"
   ]
  },
  {
   "cell_type": "code",
   "execution_count": 39,
   "metadata": {
    "collapsed": true
   },
   "outputs": [],
   "source": [
    "def get_best(validations):\n",
    "\n",
    "    all_score = []\n",
    "    for i in range(len(validations)):\n",
    "        cur_score = validations[i][1] # since idx 1 is validated results \n",
    "        week_16th_pred_score = cur_score[-1] # check with the furthest guess\n",
    "        all_score.append(week_16th_pred_score)\n",
    "    min_score_idx = np.argmin(all_score)\n",
    "    return validations[min_score_idx]\n",
    "        \n",
    "    \n",
    "best_param = get_best(results)\n",
    "pd.DataFrame(best_param[2]).to_csv(\"best-with-humidity-but-needs-renaming-2nd-iter.csv\",index=False)"
   ]
  },
  {
   "cell_type": "code",
   "execution_count": 40,
   "metadata": {
    "collapsed": true
   },
   "outputs": [
    {
     "name": "stdout",
     "output_type": "stream",
     "text": [
      "(15, [161.66137673635103, 271.92676975548602, 503.56778470015297, 783.44896600168966, 1295.2327912091016], array([  3.13733317e-01,   0.00000000e+00,   0.00000000e+00,\n",
      "         0.00000000e+00,   0.00000000e+00,   0.00000000e+00,\n",
      "         0.00000000e+00,   2.12626405e-09,   1.11643708e-09,\n",
      "         4.94298960e-09,   4.10480558e-09,   1.05490369e-07,\n",
      "         3.72021485e-09,   1.00064229e-01,   1.37823597e-02,\n",
      "         1.08434144e-05,   1.00271237e-07,   6.53966088e-08,\n",
      "         4.51025634e-07,   4.46427334e-01,   2.15479642e+00,\n",
      "         7.94761032e+00,   2.95579765e-01,   5.31156060e-02,\n",
      "        -8.40817495e-03,  -4.09192324e-02,  -2.68355903e-02,\n",
      "        -1.28968067e-02,  -1.87566397e-02,   3.63401406e-03,\n",
      "         3.29396075e-03,  -9.08184320e-03,   5.16621081e-02,\n",
      "        -1.13449757e-05,  -1.01580580e-06,   4.19730450e-08,\n",
      "        -2.84361119e-06,   1.08978435e-07,   2.33867039e-08,\n",
      "        -2.55041623e-07,   1.03881172e-07,   6.75591086e-08,\n",
      "         1.89015912e-09,  -4.20464782e-08,   2.95358703e-06,\n",
      "        -1.38447289e-08,  -1.60780691e-08,  -1.47449550e-08,\n",
      "         1.00010653e-01,   2.70404786e-05,   3.44277651e-05,\n",
      "         1.09421247e-05,   2.50830578e-04,  -1.86058005e-05,\n",
      "        -2.36216336e-05,  -1.44081605e-05,  -6.57165214e-05,\n",
      "        -7.60933888e-05,   7.61538920e-05,   1.16693291e-05,\n",
      "         1.33546395e-05,  -6.98679932e-07,  -1.54512079e-05,\n",
      "        -8.66032139e-06]))\n"
     ]
    }
   ],
   "source": [
    "print best_param\n"
   ]
  },
  {
   "cell_type": "code",
   "execution_count": 31,
   "metadata": {},
   "outputs": [
    {
     "data": {
      "text/plain": [
       "50"
      ]
     },
     "execution_count": 31,
     "metadata": {},
     "output_type": "execute_result"
    }
   ],
   "source": [
    "ws = np.array(pd.read_csv(\"best-with-humidity-but-needs-renaming-2nd-iter.csv\").T)[0]\n",
    "len(ws)"
   ]
  },
  {
   "cell_type": "code",
   "execution_count": null,
   "metadata": {
    "collapsed": true
   },
   "outputs": [],
   "source": []
  },
  {
   "cell_type": "code",
   "execution_count": 28,
   "metadata": {},
   "outputs": [
    {
     "data": {
      "image/png": "[encoded data removed]",
      "text/plain": [
       "<matplotlib.figure.Figure at 0x7f6f0c309950>"
      ]
     },
     "metadata": {},
     "output_type": "display_data"
    }
   ],
   "source": [
    "ws = np.array(pd.read_csv(\"best-with-19-lags-9-temps-15-rains-1-humidity-ws-2nd-iter-model-a.csv\").T)[0]\n",
    "# ww = best_param[2]\n",
    "real = cm_dengues_weather\n",
    "train = cm_dengues_train\n",
    "# show_predictions([20,14,14], real, \"ChiangMai\", ww)\n",
    "show_predictions([19,9,15,1], real, train, \"ChiangMai\", ws)"
   ]
  },
  {
   "cell_type": "code",
   "execution_count": 68,
   "metadata": {
    "collapsed": true
   },
   "outputs": [
    {
     "name": "stdout",
     "output_type": "stream",
     "text": [
      "[  3.21054441e-01   0.00000000e+00   0.00000000e+00   0.00000000e+00\n",
      "   0.00000000e+00   3.06743893e-10   0.00000000e+00   4.91407915e-03\n",
      "   1.43409511e-09   1.89011211e-08   3.11351051e-10   6.40373267e-08\n",
      "   4.85527645e-03   1.04118796e-01   4.05540896e-03   2.49841382e-05\n",
      "   7.94461642e-08   1.96793807e-07   1.20570113e-07   4.51518575e-01\n",
      "   2.08551264e+00   7.88858736e+00   2.78996285e-01   5.46502177e-02\n",
      "  -8.64375449e-03  -3.96804634e-02  -2.59688551e-02  -1.38771312e-02\n",
      "  -1.73065055e-02   1.22372078e-03   2.01429506e-03  -1.34128787e-02\n",
      "   1.18130553e-02   5.78498717e-02  -6.62364528e-04   1.05350738e-05\n",
      "   2.69878102e-04  -6.71625623e-05  -2.37068034e-04  -3.23881804e-04\n",
      "  -4.33580193e-04  -5.11991776e-05  -3.58679531e-05  -4.01191685e-05\n",
      "  -1.04682886e-06  -1.27993349e-05  -1.01790769e-04   1.28556842e-04\n",
      "  -4.08379936e-05]\n",
      "[ 7.88858736  0.27899628]\n"
     ]
    }
   ],
   "source": [
    "print ws\n",
    "print ws[21:23]\n",
    "# a = prediction.get_predictions(19, 10, 15, real, ws, \"CM\")\n",
    "# print validate.get_validations(19,a,real)"
   ]
  },
  {
   "cell_type": "code",
   "execution_count": 27,
   "metadata": {
    "collapsed": true
   },
   "outputs": [],
   "source": [
    "# pd.DataFrame(best_param[2]).to_csv(\"best-with-19-lags-10-temps-14-rains-ws-1st-iter-model-a.csv\",index=False)\n",
    "# np.array(pd.read_csv(\"best-for-19-lags-ws-3rd-iter.csv\").T)[0]"
   ]
  },
  {
   "cell_type": "code",
   "execution_count": 32,
   "metadata": {
    "collapsed": true
   },
   "outputs": [
    {
     "name": "stdout",
     "output_type": "stream",
     "text": [
      "LAG 23 [205.82624824351581, 374.86547851071168, 726.02637891644849, 1284.8735497820055, 1627.4597425170004]\n",
      "LAG 21 [166.85156662968512, 292.0898130079363, 564.366573591867, 1035.0747400189584, 1527.0827702830245]\n",
      "LAG 22 [168.91992707974032, 294.43310789395724, 581.26512237641293, 1094.9170235354613, 1583.9765963384611]\n",
      "LAG 19 [166.58144315243547, 288.90438923758734, 543.77910579020795, 947.7903870066549, 1391.3705312824545]\n"
     ]
    }
   ],
   "source": [
    "chosen_ws = glob.glob(\"best-*.csv\")\n",
    "for ws_set_file in chosen_ws:\n",
    "    ws_set = np.array(pd.read_csv(ws_set_file).T)[0]\n",
    "#     print ws_set_file\n",
    "    LAG = int(ws_set_file[9:11])\n",
    "    to_validate = prediction.get_predictions(LAG, 9, 10, real, ws_set)\n",
    "    print \"LAG %d\"%LAG,validate.get_validations(LAG, to_validate, real)"
   ]
  },
  {
   "cell_type": "code",
   "execution_count": 147,
   "metadata": {},
   "outputs": [
    {
     "name": "stdout",
     "output_type": "stream",
     "text": [
      "les\n"
     ]
    },
    {
     "data": {
      "text/plain": [
       "19"
      ]
     },
     "execution_count": 147,
     "metadata": {},
     "output_type": "execute_result"
    }
   ],
   "source": [
    "# # pd.DataFrame(best_param[2]).to_csv(\"best-for-18-lags-ws.csv\",index=False)\n",
    "\n",
    "# lg = [16,17,18,20,22]\n",
    "# a = np.array(pd.read_csv(\"best-for-18-lags-ws.csv\").T)[0]\n",
    "\n",
    "# # for i in lg:\n",
    "# #     if i == len(a):\n",
    "# #         arr = a\n",
    "# #         print len(arr)\n",
    "# #     elif i < len(a):\n",
    "# #         arr = a[:-(18-i)]\n",
    "# #         print len(arr)\n",
    "# #     else:\n",
    "# #         mean_val = 1/float(i)\n",
    "# #         arr = np.append(a,[mean_val]*(i-len(a)))\n",
    "# #         print arr\n",
    "        \n",
    "# def ws_helper(LAG, ws, 18):\n",
    "#     n_ws = len(ws)\n",
    "#     if LAG == n_ws:\n",
    "#         print \"eq\"\n",
    "#         arr = ws[:LAG+1]\n",
    "#     elif LAG < n_ws:\n",
    "#         print \"les\"\n",
    "#         arr = ws[:-(n_ws - LAG + 1)]\n",
    "#     else:\n",
    "#         print \"else\"\n",
    "#         tail = (LAG - n_ws) - 1\n",
    "#         mean_val = 1/(float(LAG)*tail)\n",
    "#         arr = np.append(ws,[mean_val]*tail)\n",
    "#     return arr\n",
    "\n",
    "# len(ws_helper(20,a))"
   ]
  },
  {
   "cell_type": "code",
   "execution_count": 69,
   "metadata": {
    "collapsed": true
   },
   "outputs": [
    {
     "ename": "NameError",
     "evalue": "name 'compute_ret' is not defined",
     "output_type": "error",
     "traceback": [
      "\u001b[0;31m---------------------------------------------------------------------------\u001b[0m",
      "\u001b[0;31mNameError\u001b[0m                                 Traceback (most recent call last)",
      "\u001b[0;32m<ipython-input-69-0d7a799813d4>\u001b[0m in \u001b[0;36m<module>\u001b[0;34m()\u001b[0m\n\u001b[0;32m----> 1\u001b[0;31m \u001b[0mget_ipython\u001b[0m\u001b[0;34m(\u001b[0m\u001b[0;34m)\u001b[0m\u001b[0;34m.\u001b[0m\u001b[0mrun_cell_magic\u001b[0m\u001b[0;34m(\u001b[0m\u001b[0;34mu'time'\u001b[0m\u001b[0;34m,\u001b[0m \u001b[0;34mu''\u001b[0m\u001b[0;34m,\u001b[0m \u001b[0;34mu'[compute_ret(temp.get_alphas(i,9,10)) for i in range(16,26)]'\u001b[0m\u001b[0;34m)\u001b[0m\u001b[0;34m\u001b[0m\u001b[0m\n\u001b[0m",
      "\u001b[0;32m/home/senior-project/.local/lib/python2.7/site-packages/IPython/core/interactiveshell.pyc\u001b[0m in \u001b[0;36mrun_cell_magic\u001b[0;34m(self, magic_name, line, cell)\u001b[0m\n\u001b[1;32m   2115\u001b[0m             \u001b[0mmagic_arg_s\u001b[0m \u001b[0;34m=\u001b[0m \u001b[0mself\u001b[0m\u001b[0;34m.\u001b[0m\u001b[0mvar_expand\u001b[0m\u001b[0;34m(\u001b[0m\u001b[0mline\u001b[0m\u001b[0;34m,\u001b[0m \u001b[0mstack_depth\u001b[0m\u001b[0;34m)\u001b[0m\u001b[0;34m\u001b[0m\u001b[0m\n\u001b[1;32m   2116\u001b[0m             \u001b[0;32mwith\u001b[0m \u001b[0mself\u001b[0m\u001b[0;34m.\u001b[0m\u001b[0mbuiltin_trap\u001b[0m\u001b[0;34m:\u001b[0m\u001b[0;34m\u001b[0m\u001b[0m\n\u001b[0;32m-> 2117\u001b[0;31m                 \u001b[0mresult\u001b[0m \u001b[0;34m=\u001b[0m \u001b[0mfn\u001b[0m\u001b[0;34m(\u001b[0m\u001b[0mmagic_arg_s\u001b[0m\u001b[0;34m,\u001b[0m \u001b[0mcell\u001b[0m\u001b[0;34m)\u001b[0m\u001b[0;34m\u001b[0m\u001b[0m\n\u001b[0m\u001b[1;32m   2118\u001b[0m             \u001b[0;32mreturn\u001b[0m \u001b[0mresult\u001b[0m\u001b[0;34m\u001b[0m\u001b[0m\n\u001b[1;32m   2119\u001b[0m \u001b[0;34m\u001b[0m\u001b[0m\n",
      "\u001b[0;32m<decorator-gen-60>\u001b[0m in \u001b[0;36mtime\u001b[0;34m(self, line, cell, local_ns)\u001b[0m\n",
      "\u001b[0;32m/home/senior-project/.local/lib/python2.7/site-packages/IPython/core/magic.pyc\u001b[0m in \u001b[0;36m<lambda>\u001b[0;34m(f, *a, **k)\u001b[0m\n\u001b[1;32m    186\u001b[0m     \u001b[0;31m# but it's overkill for just that one bit of state.\u001b[0m\u001b[0;34m\u001b[0m\u001b[0;34m\u001b[0m\u001b[0m\n\u001b[1;32m    187\u001b[0m     \u001b[0;32mdef\u001b[0m \u001b[0mmagic_deco\u001b[0m\u001b[0;34m(\u001b[0m\u001b[0marg\u001b[0m\u001b[0;34m)\u001b[0m\u001b[0;34m:\u001b[0m\u001b[0;34m\u001b[0m\u001b[0m\n\u001b[0;32m--> 188\u001b[0;31m         \u001b[0mcall\u001b[0m \u001b[0;34m=\u001b[0m \u001b[0;32mlambda\u001b[0m \u001b[0mf\u001b[0m\u001b[0;34m,\u001b[0m \u001b[0;34m*\u001b[0m\u001b[0ma\u001b[0m\u001b[0;34m,\u001b[0m \u001b[0;34m**\u001b[0m\u001b[0mk\u001b[0m\u001b[0;34m:\u001b[0m \u001b[0mf\u001b[0m\u001b[0;34m(\u001b[0m\u001b[0;34m*\u001b[0m\u001b[0ma\u001b[0m\u001b[0;34m,\u001b[0m \u001b[0;34m**\u001b[0m\u001b[0mk\u001b[0m\u001b[0;34m)\u001b[0m\u001b[0;34m\u001b[0m\u001b[0m\n\u001b[0m\u001b[1;32m    189\u001b[0m \u001b[0;34m\u001b[0m\u001b[0m\n\u001b[1;32m    190\u001b[0m         \u001b[0;32mif\u001b[0m \u001b[0mcallable\u001b[0m\u001b[0;34m(\u001b[0m\u001b[0marg\u001b[0m\u001b[0;34m)\u001b[0m\u001b[0;34m:\u001b[0m\u001b[0;34m\u001b[0m\u001b[0m\n",
      "\u001b[0;32m/home/senior-project/.local/lib/python2.7/site-packages/IPython/core/magics/execution.pyc\u001b[0m in \u001b[0;36mtime\u001b[0;34m(self, line, cell, local_ns)\u001b[0m\n\u001b[1;32m   1179\u001b[0m         \u001b[0;32mif\u001b[0m \u001b[0mmode\u001b[0m\u001b[0;34m==\u001b[0m\u001b[0;34m'eval'\u001b[0m\u001b[0;34m:\u001b[0m\u001b[0;34m\u001b[0m\u001b[0m\n\u001b[1;32m   1180\u001b[0m             \u001b[0mst\u001b[0m \u001b[0;34m=\u001b[0m \u001b[0mclock2\u001b[0m\u001b[0;34m(\u001b[0m\u001b[0;34m)\u001b[0m\u001b[0;34m\u001b[0m\u001b[0m\n\u001b[0;32m-> 1181\u001b[0;31m             \u001b[0mout\u001b[0m \u001b[0;34m=\u001b[0m \u001b[0meval\u001b[0m\u001b[0;34m(\u001b[0m\u001b[0mcode\u001b[0m\u001b[0;34m,\u001b[0m \u001b[0mglob\u001b[0m\u001b[0;34m,\u001b[0m \u001b[0mlocal_ns\u001b[0m\u001b[0;34m)\u001b[0m\u001b[0;34m\u001b[0m\u001b[0m\n\u001b[0m\u001b[1;32m   1182\u001b[0m             \u001b[0mend\u001b[0m \u001b[0;34m=\u001b[0m \u001b[0mclock2\u001b[0m\u001b[0;34m(\u001b[0m\u001b[0;34m)\u001b[0m\u001b[0;34m\u001b[0m\u001b[0m\n\u001b[1;32m   1183\u001b[0m         \u001b[0;32melse\u001b[0m\u001b[0;34m:\u001b[0m\u001b[0;34m\u001b[0m\u001b[0m\n",
      "\u001b[0;32m<timed eval>\u001b[0m in \u001b[0;36m<module>\u001b[0;34m()\u001b[0m\n",
      "\u001b[0;31mNameError\u001b[0m: name 'compute_ret' is not defined"
     ]
    }
   ],
   "source": [
    "%%time\n",
    "[compute_ret(temp.get_alphas(i,9,10)) for i in range(16,26)]"
   ]
  },
  {
   "cell_type": "code",
   "execution_count": 10,
   "metadata": {},
   "outputs": [
    {
     "name": "stdout",
     "output_type": "stream",
     "text": [
      "im done\n"
     ]
    }
   ],
   "source": [
    "print \"im done\""
   ]
  },
  {
   "cell_type": "code",
   "execution_count": 63,
   "metadata": {},
   "outputs": [
    {
     "data": {
      "text/plain": [
       "[15, 16]"
      ]
     },
     "execution_count": 63,
     "metadata": {},
     "output_type": "execute_result"
    }
   ],
   "source": [
    "#extract temp given LAG\n",
    "lg = 5\n",
    "tmp = 2\n",
    "a = [1,2,3,4,5,15,16,155]\n",
    "def extract_temperature(LAG,TEMPERATURE_WEEKS, arr ):\n",
    "    return arr[LAG:LAG+TEMPERATURE_WEEKS]\n",
    "extract_temperature(5,2,a)"
   ]
  },
  {
   "cell_type": "code",
   "execution_count": null,
   "metadata": {
    "collapsed": true
   },
   "outputs": [],
   "source": []
  }
 ],
 "metadata": {
  "kernelspec": {
   "display_name": "Python 2",
   "language": "python",
   "name": "python2"
  },
  "language_info": {
   "codemirror_mode": {
    "name": "ipython",
    "version": 2
   },
   "file_extension": ".py",
   "mimetype": "text/x-python",
   "name": "python",
   "nbconvert_exporter": "python",
   "pygments_lexer": "ipython2",
   "version": "2.7.12"
  }
 },
 "nbformat": 4,
 "nbformat_minor": 1
}
