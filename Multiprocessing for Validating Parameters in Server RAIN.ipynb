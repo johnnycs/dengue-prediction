{
 "cells": [
  {
   "cell_type": "code",
   "execution_count": 34,
   "metadata": {
    "scrolled": true
   },
   "outputs": [
    {
     "name": "stdout",
     "output_type": "stream",
     "text": [
      "production of summation of dengue with season and weather\n",
      "The autoreload extension is already loaded. To reload it, use:\n",
      "  %reload_ext autoreload\n"
     ]
    }
   ],
   "source": [
    "%matplotlib inline\n",
    "import pandas as pd\n",
    "import numpy as np\n",
    "import matplotlib.pyplot as plt\n",
    "import datetime\n",
    "from dateutil.relativedelta import relativedelta\n",
    "from scipy.special import expit\n",
    "from scipy.optimize import fmin, minimize\n",
    "import glob as glob\n",
    "import matplotlib\n",
    "matplotlib.style.use('ggplot')\n",
    "\n",
    "# .py\n",
    "%load_ext autoreload\n",
    "%autoreload 2\n",
    "import weather_rain_alphas, weather_costs, model_01, validate, prediction"
   ]
  },
  {
   "cell_type": "code",
   "execution_count": 35,
   "metadata": {
    "collapsed": true
   },
   "outputs": [],
   "source": [
    "def split_data(data):\n",
    "    train_mask = (data.index < \"2011\")\n",
    "    train = data[train_mask]\n",
    "    test_mask = (data.index > \"2011\")\n",
    "    test = data[test_mask]\n",
    "    return train, test"
   ]
  },
  {
   "cell_type": "code",
   "execution_count": 36,
   "metadata": {
    "collapsed": true
   },
   "outputs": [],
   "source": [
    "all_weather = pd.read_csv(\"weather01-16.csv\")"
   ]
  },
  {
   "cell_type": "code",
   "execution_count": 37,
   "metadata": {
    "collapsed": true
   },
   "outputs": [],
   "source": [
    "cm_weather = all_weather[all_weather.stn_name == \"Chiang Mai\"]\n",
    "cm_weather.index = pd.DatetimeIndex(cm_weather.date)\n",
    "mask = (cm_weather.index > \"2003\") & (cm_weather.index < \"2016\")\n",
    "cm_weather = cm_weather[mask]\n",
    "\n",
    "provinces_df = pd.read_csv(\"all-dengues.csv\")\n",
    "provinces_df.index = pd.DatetimeIndex(provinces_df.date)\n",
    "provinces_df = provinces_df.drop(['date','date.1'],axis=1)\n",
    "cm_dengues = provinces_df[provinces_df['จังหวัด'] == 'ChiangMai'].resample('W').size()\n",
    "cm_dengues_df = pd.DataFrame(cm_dengues,columns=['cases'])"
   ]
  },
  {
   "cell_type": "code",
   "execution_count": 38,
   "metadata": {
    "collapsed": true
   },
   "outputs": [],
   "source": [
    "cm_avg_weather = cm_weather[['avgrh','dday','meantemp']].resample('W').mean()\n",
    "cm_avg_weather['rain'] = cm_weather[['rain']].resample('W').sum() # cumulative rainfall\n",
    "cm_dengues_weather = pd.concat([cm_avg_weather,cm_dengues_df[:-52]],axis=1)\n",
    "\n",
    "cm_dengues_weather_split = split_data(cm_dengues_weather)\n",
    "cm_dengues_train, cm_dengues_test = cm_dengues_weather_split[0], cm_dengues_weather_split[1]"
   ]
  },
  {
   "cell_type": "code",
   "execution_count": 39,
   "metadata": {
    "collapsed": true
   },
   "outputs": [],
   "source": [
    "def make_line(start_week,real,predictions,title,x_axis,y_axis,\n",
    "              real_legend='Real',predict_legend='Prediction'):\n",
    "    plt.figure(figsize=(12,6))\n",
    "    plt.plot(range(len(real)),real,'-r',label=real_legend)\n",
    "    plt.plot(range(start_week,len(predictions)+start_week),predictions,'-k',label=predict_legend,alpha=0.4)\n",
    "    plt.axvline(start_week)\n",
    "    plt.text((start_week*2)+10,300,'Prediction Start',horizontalalignment='center',verticalalignment='center')\n",
    "    plt.xlabel(x_axis)\n",
    "    plt.ylabel(y_axis)\n",
    "    plt.legend()\n",
    "    plt.title(title)\n",
    "    \n",
    "def plot_all_predictions(LAG, real, province, nweeks_to_predict, all_predictions):\n",
    "    \n",
    "    plt.figure(figsize=(13,6))\n",
    "    plt.plot(range(len(real)),real,label='real')\n",
    "    graph_title = \"%s's Dengue Prediction with Mean Temperature\"%province\n",
    "    plt.title(graph_title)\n",
    "    for i in range(len(all_predictions)):\n",
    "        cur_week_guess = nweeks_to_predict[i]\n",
    "        start_predict_week = LAG+(cur_week_guess-1)\n",
    "        predicted_cases = all_predictions[i]\n",
    "        x_weeks = range(start_predict_week,len(predicted_cases)+start_predict_week)\n",
    "        line_label = \"%d week guess\"%cur_week_guess\n",
    "        plt.plot(x_weeks,predicted_cases,label=line_label,alpha=0.8)\n",
    "    \n",
    "    seperate_train_test(cm_dengues_df.cases,cm_dengues_train)\n",
    "    plt.axvline(LAG)\n",
    "    plt.text((LAG*2)+10,300,'Prediction Start',horizontalalignment='center',verticalalignment='center')\n",
    "    plt.xlabel(\"# week starting 2003\")\n",
    "    plt.ylabel(\"Dengue cases\")\n",
    "    plt.legend()\n",
    "    plt.savefig(\"16-lags-16-weeks-9-temp-wks-chiangmai-00.png\")\n",
    "    \n",
    "def seperate_train_test(all_data,train_data):\n",
    "    plt.axvspan(0, len(train_data), color='blue', alpha=0.1)\n",
    "    plt.text((len(train_data)/2)-25,700,'Train Period',size=16)\n",
    "    plt.axvline(len(train_data)+1,linewidth=0.5, color='green')\n",
    "    plt.text(len(train_data)+20,700,'Test Period',size=16)\n",
    "    plt.axvspan(len(train_data)+1, len(all_data), color='green', alpha=0.1)\n",
    "    \n",
    "def show_predictions(params, real, province, ws):\n",
    "    LAG, TEMPERATURE_WEEKS, RAIN_WEEKS = params[0], params[1], params[2]\n",
    "    \n",
    "    predictions_to_plot = prediction.get_predictions(\n",
    "        LAG, \n",
    "        TEMPERATURE_WEEKS,\n",
    "        RAIN_WEEKS,\n",
    "        real,\n",
    "        ws,\n",
    "        province)\n",
    "    \n",
    "    plot_all_predictions(LAG, \n",
    "                         real.cases,\n",
    "                         province,\n",
    "                         [1,2,4,8,16],\n",
    "                         predictions_to_plot)\n",
    "    \n",
    "    "
   ]
  },
  {
   "cell_type": "code",
   "execution_count": 49,
   "metadata": {
    "scrolled": true
   },
   "outputs": [],
   "source": [
    "import multiprocessing as mp\n",
    "from multiprocessing import Process, Queue\n",
    "\n",
    "# Define an output queue\n",
    "output = Queue()\n",
    "\n",
    "# def validate\n",
    "\n",
    "# def compute_ret(temp):\n",
    "#     for i in range(int(1e5)): pass\n",
    "#     return temp/2.\n",
    "\n",
    "\n",
    "ws_csv = np.array(pd.read_csv(\"best-with-19-lags-10-temps-15-rains-ws-1st-iter-model-a.csv\").T)[0]\n",
    "    \n",
    "def validation(LAG, TEMPERATURE_WEEKS, RAIN_WEEKS, train, real, output):\n",
    "                                    # get_alphas takes 4 args, if theres no input csv\n",
    "    alphas = weather_rain_alphas.get_alphas(LAG, TEMPERATURE_WEEKS, RAIN_WEEKS, train, ws_csv)\n",
    "                                    # get_predictions takes 6 args\n",
    "    predictions_to_validate = prediction.get_predictions(LAG, TEMPERATURE_WEEKS, RAIN_WEEKS, real, alphas.x, \"CM\")\n",
    "                                    # get_validations takes 3 argsg\n",
    "    validated_result = validate.get_validations(LAG, predictions_to_validate, real)\n",
    "    output.put((RAIN_WEEKS,validated_result,alphas.x)) # add in ws as well alphas.x\n"
   ]
  },
  {
   "cell_type": "code",
   "execution_count": 51,
   "metadata": {
    "collapsed": true
   },
   "outputs": [
    {
     "name": "stdout",
     "output_type": "stream",
     "text": [
      "[  3.21054441e-01   0.00000000e+00   0.00000000e+00   0.00000000e+00\n",
      "   0.00000000e+00   3.06743893e-10   0.00000000e+00   4.91407915e-03\n",
      "   1.43409511e-09   1.89011211e-08   3.11351051e-10   6.40373267e-08\n",
      "   4.85527645e-03   1.04118796e-01   4.05540896e-03   2.49841382e-05\n",
      "   7.94461642e-08   1.96793807e-07   1.20570113e-07   4.51518575e-01\n",
      "   2.08551264e+00   7.88858736e+00   2.78996285e-01   5.46502177e-02\n",
      "  -8.64375449e-03  -3.96804634e-02  -2.59688551e-02  -1.38771312e-02\n",
      "  -1.73065055e-02   1.22372078e-03   2.01429506e-03  -1.34128787e-02\n",
      "   1.18130553e-02   5.78498717e-02  -6.62364528e-04   1.05350738e-05\n",
      "   2.69878102e-04  -6.71625623e-05  -2.37068034e-04  -3.23881804e-04\n",
      "  -4.33580193e-04  -5.11991776e-05  -3.58679531e-05  -4.01191685e-05\n",
      "  -1.04682886e-06  -1.27993349e-05  -1.01790769e-04   1.28556842e-04\n",
      "  -4.08379936e-05]\n",
      "50\n",
      "all_prev_ws 50\n",
      "LAG 20\n",
      "bnds 20 50\n",
      "ws_csv\n",
      "prev_ws 38\n",
      "51\n",
      "LAG 20\n",
      "all_prev_ws 52\n",
      "52\n",
      "LAG 20\n",
      "bnds 20 52\n",
      "ws_csv\n",
      "prev_ws 38\n",
      "53\n",
      "bnds 20 51\n",
      "LAG 20\n",
      "bnds 20 53\n",
      "ws_csv\n",
      "ws_csv\n",
      "prev_ws 38\n",
      "all_prev_ws 51\n",
      "prev_ws 38\n",
      "all_prev_ws 53\n",
      "54\n",
      "LAG 20\n",
      "bnds 20 54\n",
      "55\n",
      "LAG 20\n",
      "ws_csv\n",
      "bnds 20 55\n",
      "prev_ws 38\n",
      "ws_csv\n",
      "all_prev_ws 54\n",
      "prev_ws 38\n",
      "all_prev_ws 55\n",
      "56\n",
      "LAG 20\n",
      "bnds 20 56\n",
      "ws_csv\n",
      "prev_ws 38\n",
      "all_prev_ws 56\n",
      "57\n",
      "LAG 20\n",
      "bnds 20 57\n",
      "ws_csv\n",
      "prev_ws 38\n",
      "all_prev_ws 57\n",
      "[(15, [5482.0522670248229, 1380.5165364894706, 2008.3771132164677, 2144.6872481337364, 2107.0413654032332], array([  3.09805646e-01,   0.00000000e+00,   0.00000000e+00,\n",
      "         0.00000000e+00,   0.00000000e+00,   0.00000000e+00,\n",
      "         6.78613361e-11,   3.91444330e-03,   2.61028946e-10,\n",
      "         1.01881183e-08,   5.18484777e-10,   4.21563432e-08,\n",
      "         4.85026947e-03,   7.45162938e-02,   4.69441033e-03,\n",
      "         1.33693069e-05,   1.11315584e-07,   5.32532855e-08,\n",
      "         1.67242808e-07,   1.28875860e-01,   3.25466788e-01,\n",
      "         7.50197209e+00,   1.00001714e+00,   2.96534416e-02,\n",
      "        -2.98500000e-01,  -2.23716407e-01,  -1.75348012e-01,\n",
      "        -1.15390603e-01,  -6.56001674e-02,  -2.67979302e-02,\n",
      "        -5.38528146e-02,  -6.59120437e-02,  -1.04731439e-01,\n",
      "        -1.05571979e-01,  -1.69350333e-01,  -2.23988601e-01,\n",
      "        -2.89482196e-01,  -3.42786813e-01,   4.75495409e-02,\n",
      "         1.16311472e-04,   5.65180978e-03,   1.77202437e-02,\n",
      "         3.01617612e-02,   5.59082675e-02,   7.58432229e-02,\n",
      "         9.21521890e-02,   1.13873547e-01,   1.22180511e-01,\n",
      "         1.19198117e-01,   1.29922560e-01,   1.55990683e-01,\n",
      "         1.39991492e-01,   1.19700015e-01,   1.16596209e-01])), (18, [15817.956596040374, 2658.8440583113388, 2844.1063535021954, 2757.6396698310314, 2294.5835533724426], array([  3.13878288e-01,   3.22877158e-11,   3.32535013e-11,\n",
      "         2.01401690e-11,   3.02932677e-11,   9.45374952e-11,\n",
      "         2.51064465e-11,   4.33006876e-03,   2.07044465e-09,\n",
      "         2.07534879e-08,   2.43174059e-10,   6.41852988e-08,\n",
      "         4.36705940e-03,   9.08038396e-02,   4.18183072e-03,\n",
      "         1.80941804e-05,   1.01043165e-07,   1.06454705e-07,\n",
      "         1.61348843e-07,   2.41842230e-01,   3.30109875e-01,\n",
      "         7.48767720e+00,   1.00000207e+00,   2.84219300e-02,\n",
      "        -3.39458718e-01,  -2.69008751e-01,  -1.85238867e-01,\n",
      "        -1.26319082e-01,  -8.22656822e-02,  -3.26618082e-02,\n",
      "        -6.38148646e-02,  -7.38773848e-02,  -1.07793194e-01,\n",
      "        -1.03607694e-01,  -1.69970256e-01,  -2.24622238e-01,\n",
      "        -3.01882584e-01,  -3.58021279e-01,   4.74589169e-02,\n",
      "        -5.39422597e-03,  -2.80124663e-03,   7.70141192e-03,\n",
      "         2.48913135e-02,   3.96194321e-02,   7.80182668e-02,\n",
      "         7.24667274e-02,   9.26610058e-02,   1.20479323e-01,\n",
      "         1.32121594e-01,   1.00582381e-01,   1.13543888e-01,\n",
      "         1.21696679e-01,   1.35526010e-01,   9.37039401e-02,\n",
      "         9.45816365e-02,   7.98153772e-02,   1.53964971e-01])), (17, [14156.983932592011, 2338.0970814453353, 3707.0152944489555, 6371.8321327170215, 22267631.014634904], array([  3.13443504e-01,   0.00000000e+00,   0.00000000e+00,\n",
      "         0.00000000e+00,   0.00000000e+00,   0.00000000e+00,\n",
      "         0.00000000e+00,   4.28195345e-03,   0.00000000e+00,\n",
      "         1.61447409e-08,   0.00000000e+00,   6.12955405e-08,\n",
      "         4.27333985e-03,   8.99046984e-02,   4.22139783e-03,\n",
      "         1.76472952e-05,   1.01627119e-07,   1.17700469e-07,\n",
      "         1.44881777e-07,   3.03229588e-01,   3.91380379e-01,\n",
      "         7.54153640e+00,   1.00000259e+00,   3.20643640e-02,\n",
      "        -2.93918396e-01,  -2.44037257e-01,  -1.79970657e-01,\n",
      "        -1.28923755e-01,  -9.20227555e-02,  -4.88898152e-02,\n",
      "        -7.38517613e-02,  -8.63344558e-02,  -1.10234519e-01,\n",
      "        -9.91093322e-02,  -1.63454582e-01,  -2.09744728e-01,\n",
      "        -2.67964090e-01,  -3.15723742e-01,   4.78003252e-02,\n",
      "         2.98516553e-03,   7.46534688e-03,   1.44468653e-02,\n",
      "         2.60953485e-02,   4.65819551e-02,   6.78826243e-02,\n",
      "         7.36237578e-02,   9.06892636e-02,   1.15949407e-01,\n",
      "         1.37326968e-01,   9.16319707e-02,   1.27193616e-01,\n",
      "         1.19050681e-01,   1.28326643e-01,   9.49024494e-02,\n",
      "         9.96009146e-02,   1.03537896e-01])), (12, [454.88604080590886, 474.64808148263324, 994.87233208623763, 1714.8411591335341, 2071.2060075354548], array([  1.55138623e-01,   0.00000000e+00,   0.00000000e+00,\n",
      "         0.00000000e+00,   0.00000000e+00,   0.00000000e+00,\n",
      "         0.00000000e+00,   0.00000000e+00,   0.00000000e+00,\n",
      "         0.00000000e+00,   0.00000000e+00,   0.00000000e+00,\n",
      "         0.00000000e+00,   0.00000000e+00,   0.00000000e+00,\n",
      "         0.00000000e+00,   3.21087750e-06,   2.73263542e-06,\n",
      "         1.40659920e-05,   9.46223320e-02,   1.76301519e-02,\n",
      "         7.45508192e+00,   1.00412243e+00,   2.70803294e-02,\n",
      "        -2.35497413e-01,  -2.48268726e-02,   3.72730510e-02,\n",
      "         9.12701754e-02,   2.21248614e-01,   2.98636219e-01,\n",
      "         2.54184090e-01,   2.50990481e-01,   1.56443418e-01,\n",
      "         9.58352593e-02,   6.07566388e-02,  -5.16880068e-02,\n",
      "        -2.22859566e-01,  -3.07036571e-01,   4.72523847e-02,\n",
      "        -1.37241605e-02,   1.55268973e-03,   1.02437235e-02,\n",
      "         6.16661474e-03,   6.97906747e-03,  -4.52363266e-03,\n",
      "        -2.13185413e-02,  -1.50970003e-02,  -5.26916230e-02,\n",
      "        -1.24433222e-01,  -2.12168814e-02,  -4.67989366e-02])), (11, [422.53497856504652, 494.87180027545321, 1030.2428566743861, 1743.3303101439978, 2080.52066932047], array([  1.28057908e-01,   0.00000000e+00,   0.00000000e+00,\n",
      "         0.00000000e+00,   0.00000000e+00,   0.00000000e+00,\n",
      "         0.00000000e+00,   0.00000000e+00,   0.00000000e+00,\n",
      "         0.00000000e+00,   0.00000000e+00,   0.00000000e+00,\n",
      "         0.00000000e+00,   0.00000000e+00,   0.00000000e+00,\n",
      "         0.00000000e+00,   0.00000000e+00,   0.00000000e+00,\n",
      "         3.33630120e-06,   7.67647141e-02,   3.36113146e-02,\n",
      "         7.44430434e+00,   1.00392878e+00,   2.64709654e-02,\n",
      "        -1.71216110e-01,   5.62447390e-02,   1.17356824e-01,\n",
      "         1.67220926e-01,   3.26368048e-01,   3.94947748e-01,\n",
      "         3.34506239e-01,   3.36613792e-01,   2.30346167e-01,\n",
      "         1.49086691e-01,   1.23517917e-01,  -1.14021242e-02,\n",
      "        -1.95365866e-01,  -2.86062683e-01,   4.71840238e-02,\n",
      "        -2.32188505e-02,   5.34408421e-04,   1.24622042e-02,\n",
      "         1.41083078e-02,   1.39349027e-02,   2.12218591e-02,\n",
      "         4.23943379e-03,   7.42673674e-03,  -1.00895624e-02,\n",
      "        -5.13276341e-02,   9.77367667e-03])), (14, [403.00138397111249, 430.01682979090606, 890.1497950957795, 1576.4817019510567, 1996.1229953948362], array([  1.58111855e-01,   0.00000000e+00,   0.00000000e+00,\n",
      "         0.00000000e+00,   0.00000000e+00,   0.00000000e+00,\n",
      "         0.00000000e+00,   0.00000000e+00,   0.00000000e+00,\n",
      "         0.00000000e+00,   0.00000000e+00,   0.00000000e+00,\n",
      "         0.00000000e+00,   0.00000000e+00,   1.17161563e-03,\n",
      "         1.61834874e-05,   1.17256021e-07,   2.36634552e-07,\n",
      "         3.26355126e-07,   1.73782229e-01,   4.99847775e-02,\n",
      "         7.42573838e+00,   1.00228556e+00,   2.48787158e-02,\n",
      "        -2.93343396e-01,  -1.30109809e-01,  -7.06157396e-02,\n",
      "        -2.50990018e-02,   8.63409372e-02,   1.39302295e-01,\n",
      "         8.59164086e-02,   7.78616391e-02,   3.03210844e-04,\n",
      "        -4.62353008e-02,  -8.35913590e-02,  -1.81870030e-01,\n",
      "        -3.20422079e-01,  -3.90793506e-01,   4.70663025e-02,\n",
      "        -9.58273939e-03,  -1.01350612e-03,   8.10037301e-03,\n",
      "         1.65011885e-02,   1.84699731e-02,   3.18915564e-02,\n",
      "         3.40011372e-02,   3.48239746e-02,   4.14475126e-02,\n",
      "         3.92095046e-02,   3.66607441e-02,   4.65900562e-02,\n",
      "         5.27083928e-02,   6.19907982e-02])), (16, [3117.814143613401, 1912.5880287414607, 2126.5137935065522, 2147.6521202119379, 2158.3591511623526], array([  3.09731679e-01,   0.00000000e+00,   0.00000000e+00,\n",
      "         0.00000000e+00,   0.00000000e+00,   0.00000000e+00,\n",
      "         0.00000000e+00,   2.04212078e-03,   0.00000000e+00,\n",
      "         5.86466455e-09,   0.00000000e+00,   2.51498863e-08,\n",
      "         3.28700046e-03,   3.89523960e-02,   3.57989956e-03,\n",
      "         6.06511040e-06,   9.61313754e-08,   0.00000000e+00,\n",
      "         1.77290508e-07,   0.00000000e+00,   2.44223925e-01,\n",
      "         7.50477540e+00,   1.00005353e+00,   2.97893519e-02,\n",
      "        -2.92874346e-01,  -2.46341091e-01,  -1.92275679e-01,\n",
      "        -1.13201133e-01,  -7.47549802e-02,  -2.96466916e-02,\n",
      "        -7.20398042e-02,  -7.19104594e-02,  -9.92174423e-02,\n",
      "        -8.93668062e-02,  -1.63721649e-01,  -2.08126614e-01,\n",
      "        -2.76505813e-01,  -3.23717570e-01,   4.75672607e-02,\n",
      "        -2.33412333e-03,   1.15929190e-03,   6.71398805e-03,\n",
      "         2.44197900e-02,   5.98840681e-02,   4.43754276e-02,\n",
      "         9.99087259e-02,   1.11945666e-01,   1.53015045e-01,\n",
      "         1.15607387e-01,   1.15934829e-01,   1.49079674e-01,\n",
      "         1.65546653e-01,   6.39719440e-02,   1.62316622e-01,\n",
      "         1.39353496e-01])), (13, [431.26166360186699, 465.07410922818258, 975.73431881132717, 1707.5529977259077, 2094.887047550852], array([  1.15982438e-01,   0.00000000e+00,   0.00000000e+00,\n",
      "         0.00000000e+00,   0.00000000e+00,   0.00000000e+00,\n",
      "         0.00000000e+00,   0.00000000e+00,   0.00000000e+00,\n",
      "         0.00000000e+00,   0.00000000e+00,   0.00000000e+00,\n",
      "         0.00000000e+00,   0.00000000e+00,   7.81074383e-05,\n",
      "         3.31343936e-06,   0.00000000e+00,   0.00000000e+00,\n",
      "         1.93317406e-06,   1.06568457e-01,   2.91938048e-02,\n",
      "         7.42514950e+00,   1.00147538e+00,   2.50051166e-02,\n",
      "        -2.11496365e-01,  -2.36072943e-02,   4.06120044e-02,\n",
      "         8.62343797e-02,   2.08688538e-01,   2.54919488e-01,\n",
      "         2.02138376e-01,   1.91968370e-01,   9.21340690e-02,\n",
      "         2.57813549e-02,  -8.73410842e-03,  -1.29350434e-01,\n",
      "        -2.85590347e-01,  -3.73095204e-01,   4.70625834e-02,\n",
      "        -2.40684165e-02,  -1.62116414e-07,   1.68941626e-02,\n",
      "         3.34439944e-02,   3.64852455e-02,   7.16074780e-02,\n",
      "         6.76632837e-02,   7.35962611e-02,   9.41317096e-02,\n",
      "         8.52713299e-02,   8.52796233e-02,   1.01785510e-01,\n",
      "         1.12601752e-01]))]\n",
      "CPU times: user 360 ms, sys: 340 ms, total: 700 ms\n",
      "Wall time: 4h 55min 18s\n"
     ]
    }
   ],
   "source": [
    "%%time\n",
    "# Setup a list of processes that we want to run\n",
    "train = cm_dengues_train\n",
    "real = cm_dengues_weather\n",
    "processes = [Process(target=validation, args=(20, 14, weeks, train, real, output)) for weeks in range(11,19)]\n",
    "print ws_csv\n",
    "\n",
    "# Run processes\n",
    "for p in processes:\n",
    "    p.start()\n",
    "\n",
    "# Exit the completed processes\n",
    "for p in processes:\n",
    "    p.join()\n",
    "\n",
    "# Get process results from the output queue\n",
    "results = [output.get() for p in processes]\n",
    "\n",
    "print(results)"
   ]
  },
  {
   "cell_type": "code",
   "execution_count": 102,
   "metadata": {},
   "outputs": [
    {
     "data": {
      "text/plain": [
       "4"
      ]
     },
     "execution_count": 102,
     "metadata": {},
     "output_type": "execute_result"
    }
   ],
   "source": [
    "a = [1,2,4,62,0]\n",
    "np.argmin(a)"
   ]
  },
  {
   "cell_type": "code",
   "execution_count": 106,
   "metadata": {},
   "outputs": [],
   "source": [
    "def get_best(validations):\n",
    "    idx = None\n",
    "    best_so_far = validations[0][1][-1]\n",
    "    print best_so_far\n",
    "    for i in range(len(validations)):\n",
    "        cur_validation = validations[i][1]\n",
    "#         print cur_validation\n",
    "        if cur_validation[0] <= best_so_far:\n",
    "            best_so_far = cur_validation[0]\n",
    "            idx = i\n",
    "    return validations[idx]\n",
    "        \n",
    "    \n",
    "best_param = get_best(results)"
   ]
  },
  {
   "cell_type": "code",
   "execution_count": 107,
   "metadata": {
    "collapsed": true
   },
   "outputs": [
    {
     "name": "stdout",
     "output_type": "stream",
     "text": [
      "(14, [403.00138397111249, 430.01682979090606, 890.1497950957795, 1576.4817019510567, 1996.1229953948362], array([  1.58111855e-01,   0.00000000e+00,   0.00000000e+00,\n",
      "         0.00000000e+00,   0.00000000e+00,   0.00000000e+00,\n",
      "         0.00000000e+00,   0.00000000e+00,   0.00000000e+00,\n",
      "         0.00000000e+00,   0.00000000e+00,   0.00000000e+00,\n",
      "         0.00000000e+00,   0.00000000e+00,   1.17161563e-03,\n",
      "         1.61834874e-05,   1.17256021e-07,   2.36634552e-07,\n",
      "         3.26355126e-07,   1.73782229e-01,   4.99847775e-02,\n",
      "         7.42573838e+00,   1.00228556e+00,   2.48787158e-02,\n",
      "        -2.93343396e-01,  -1.30109809e-01,  -7.06157396e-02,\n",
      "        -2.50990018e-02,   8.63409372e-02,   1.39302295e-01,\n",
      "         8.59164086e-02,   7.78616391e-02,   3.03210844e-04,\n",
      "        -4.62353008e-02,  -8.35913590e-02,  -1.81870030e-01,\n",
      "        -3.20422079e-01,  -3.90793506e-01,   4.70663025e-02,\n",
      "        -9.58273939e-03,  -1.01350612e-03,   8.10037301e-03,\n",
      "         1.65011885e-02,   1.84699731e-02,   3.18915564e-02,\n",
      "         3.40011372e-02,   3.48239746e-02,   4.14475126e-02,\n",
      "         3.92095046e-02,   3.66607441e-02,   4.65900562e-02,\n",
      "         5.27083928e-02,   6.19907982e-02]))\n"
     ]
    }
   ],
   "source": [
    "print best_param\n"
   ]
  },
  {
   "cell_type": "code",
   "execution_count": 58,
   "metadata": {
    "scrolled": false
   },
   "outputs": [
    {
     "data": {
      "image/png": "[encoded data removed]",
      "text/plain": [
       "<matplotlib.figure.Figure at 0x7f878447aa50>"
      ]
     },
     "metadata": {},
     "output_type": "display_data"
    }
   ],
   "source": [
    "ws = np.array(pd.read_csv(\"best-with-19-lags-10-temps-15-rains-ws-1st-iter-model-a.csv\").T)[0]\n",
    "ww = best_param[2]\n",
    "real = cm_dengues_weather\n",
    "# show_predictions([20,14,14], real, \"ChiangMai\", ww)\n",
    "show_predictions([19,10,15], real, \"Ch liangMai\", ws)"
   ]
  },
  {
   "cell_type": "code",
   "execution_count": 68,
   "metadata": {
    "collapsed": true
   },
   "outputs": [
    {
     "name": "stdout",
     "output_type": "stream",
     "text": [
      "[  3.21054441e-01   0.00000000e+00   0.00000000e+00   0.00000000e+00\n",
      "   0.00000000e+00   3.06743893e-10   0.00000000e+00   4.91407915e-03\n",
      "   1.43409511e-09   1.89011211e-08   3.11351051e-10   6.40373267e-08\n",
      "   4.85527645e-03   1.04118796e-01   4.05540896e-03   2.49841382e-05\n",
      "   7.94461642e-08   1.96793807e-07   1.20570113e-07   4.51518575e-01\n",
      "   2.08551264e+00   7.88858736e+00   2.78996285e-01   5.46502177e-02\n",
      "  -8.64375449e-03  -3.96804634e-02  -2.59688551e-02  -1.38771312e-02\n",
      "  -1.73065055e-02   1.22372078e-03   2.01429506e-03  -1.34128787e-02\n",
      "   1.18130553e-02   5.78498717e-02  -6.62364528e-04   1.05350738e-05\n",
      "   2.69878102e-04  -6.71625623e-05  -2.37068034e-04  -3.23881804e-04\n",
      "  -4.33580193e-04  -5.11991776e-05  -3.58679531e-05  -4.01191685e-05\n",
      "  -1.04682886e-06  -1.27993349e-05  -1.01790769e-04   1.28556842e-04\n",
      "  -4.08379936e-05]\n",
      "[ 7.88858736  0.27899628]\n"
     ]
    }
   ],
   "source": [
    "print ws\n",
    "print ws[21:23]\n",
    "# a = prediction.get_predictions(19, 10, 15, real, ws, \"CM\")\n",
    "# print validate.get_validations(19,a,real)"
   ]
  },
  {
   "cell_type": "code",
   "execution_count": 27,
   "metadata": {},
   "outputs": [],
   "source": [
    "# pd.DataFrame(best_param[2]).to_csv(\"best-with-19-lags-10-temps-14-rains-ws-1st-iter-model-a.csv\",index=False)\n",
    "# np.array(pd.read_csv(\"best-for-19-lags-ws-3rd-iter.csv\").T)[0]"
   ]
  },
  {
   "cell_type": "code",
   "execution_count": 32,
   "metadata": {},
   "outputs": [
    {
     "name": "stdout",
     "output_type": "stream",
     "text": [
      "LAG 23 [205.82624824351581, 374.86547851071168, 726.02637891644849, 1284.8735497820055, 1627.4597425170004]\n",
      "LAG 21 [166.85156662968512, 292.0898130079363, 564.366573591867, 1035.0747400189584, 1527.0827702830245]\n",
      "LAG 22 [168.91992707974032, 294.43310789395724, 581.26512237641293, 1094.9170235354613, 1583.9765963384611]\n",
      "LAG 19 [166.58144315243547, 288.90438923758734, 543.77910579020795, 947.7903870066549, 1391.3705312824545]\n"
     ]
    }
   ],
   "source": [
    "chosen_ws = glob.glob(\"best-*.csv\")\n",
    "for ws_set_file in chosen_ws:\n",
    "    ws_set = np.array(pd.read_csv(ws_set_file).T)[0]\n",
    "#     print ws_set_file\n",
    "    LAG = int(ws_set_file[9:11])\n",
    "    to_validate = prediction.get_predictions(LAG, 9, 10, real, ws_set)\n",
    "    print \"LAG %d\"%LAG,validate.get_validations(LAG, to_validate, real)"
   ]
  },
  {
   "cell_type": "code",
   "execution_count": 147,
   "metadata": {},
   "outputs": [
    {
     "name": "stdout",
     "output_type": "stream",
     "text": [
      "les\n"
     ]
    },
    {
     "data": {
      "text/plain": [
       "19"
      ]
     },
     "execution_count": 147,
     "metadata": {},
     "output_type": "execute_result"
    }
   ],
   "source": [
    "# # pd.DataFrame(best_param[2]).to_csv(\"best-for-18-lags-ws.csv\",index=False)\n",
    "\n",
    "# lg = [16,17,18,20,22]\n",
    "# a = np.array(pd.read_csv(\"best-for-18-lags-ws.csv\").T)[0]\n",
    "\n",
    "# # for i in lg:\n",
    "# #     if i == len(a):\n",
    "# #         arr = a\n",
    "# #         print len(arr)\n",
    "# #     elif i < len(a):\n",
    "# #         arr = a[:-(18-i)]\n",
    "# #         print len(arr)\n",
    "# #     else:\n",
    "# #         mean_val = 1/float(i)\n",
    "# #         arr = np.append(a,[mean_val]*(i-len(a)))\n",
    "# #         print arr\n",
    "        \n",
    "# def ws_helper(LAG, ws, 18):\n",
    "#     n_ws = len(ws)\n",
    "#     if LAG == n_ws:\n",
    "#         print \"eq\"\n",
    "#         arr = ws[:LAG+1]\n",
    "#     elif LAG < n_ws:\n",
    "#         print \"les\"\n",
    "#         arr = ws[:-(n_ws - LAG + 1)]\n",
    "#     else:\n",
    "#         print \"else\"\n",
    "#         tail = (LAG - n_ws) - 1\n",
    "#         mean_val = 1/(float(LAG)*tail)\n",
    "#         arr = np.append(ws,[mean_val]*tail)\n",
    "#     return arr\n",
    "\n",
    "# len(ws_helper(20,a))"
   ]
  },
  {
   "cell_type": "code",
   "execution_count": 69,
   "metadata": {
    "collapsed": true
   },
   "outputs": [
    {
     "ename": "NameError",
     "evalue": "name 'compute_ret' is not defined",
     "output_type": "error",
     "traceback": [
      "\u001b[0;31m---------------------------------------------------------------------------\u001b[0m",
      "\u001b[0;31mNameError\u001b[0m                                 Traceback (most recent call last)",
      "\u001b[0;32m<ipython-input-69-0d7a799813d4>\u001b[0m in \u001b[0;36m<module>\u001b[0;34m()\u001b[0m\n\u001b[0;32m----> 1\u001b[0;31m \u001b[0mget_ipython\u001b[0m\u001b[0;34m(\u001b[0m\u001b[0;34m)\u001b[0m\u001b[0;34m.\u001b[0m\u001b[0mrun_cell_magic\u001b[0m\u001b[0;34m(\u001b[0m\u001b[0;34mu'time'\u001b[0m\u001b[0;34m,\u001b[0m \u001b[0;34mu''\u001b[0m\u001b[0;34m,\u001b[0m \u001b[0;34mu'[compute_ret(temp.get_alphas(i,9,10)) for i in range(16,26)]'\u001b[0m\u001b[0;34m)\u001b[0m\u001b[0;34m\u001b[0m\u001b[0m\n\u001b[0m",
      "\u001b[0;32m/home/senior-project/.local/lib/python2.7/site-packages/IPython/core/interactiveshell.pyc\u001b[0m in \u001b[0;36mrun_cell_magic\u001b[0;34m(self, magic_name, line, cell)\u001b[0m\n\u001b[1;32m   2115\u001b[0m             \u001b[0mmagic_arg_s\u001b[0m \u001b[0;34m=\u001b[0m \u001b[0mself\u001b[0m\u001b[0;34m.\u001b[0m\u001b[0mvar_expand\u001b[0m\u001b[0;34m(\u001b[0m\u001b[0mline\u001b[0m\u001b[0;34m,\u001b[0m \u001b[0mstack_depth\u001b[0m\u001b[0;34m)\u001b[0m\u001b[0;34m\u001b[0m\u001b[0m\n\u001b[1;32m   2116\u001b[0m             \u001b[0;32mwith\u001b[0m \u001b[0mself\u001b[0m\u001b[0;34m.\u001b[0m\u001b[0mbuiltin_trap\u001b[0m\u001b[0;34m:\u001b[0m\u001b[0;34m\u001b[0m\u001b[0m\n\u001b[0;32m-> 2117\u001b[0;31m                 \u001b[0mresult\u001b[0m \u001b[0;34m=\u001b[0m \u001b[0mfn\u001b[0m\u001b[0;34m(\u001b[0m\u001b[0mmagic_arg_s\u001b[0m\u001b[0;34m,\u001b[0m \u001b[0mcell\u001b[0m\u001b[0;34m)\u001b[0m\u001b[0;34m\u001b[0m\u001b[0m\n\u001b[0m\u001b[1;32m   2118\u001b[0m             \u001b[0;32mreturn\u001b[0m \u001b[0mresult\u001b[0m\u001b[0;34m\u001b[0m\u001b[0m\n\u001b[1;32m   2119\u001b[0m \u001b[0;34m\u001b[0m\u001b[0m\n",
      "\u001b[0;32m<decorator-gen-60>\u001b[0m in \u001b[0;36mtime\u001b[0;34m(self, line, cell, local_ns)\u001b[0m\n",
      "\u001b[0;32m/home/senior-project/.local/lib/python2.7/site-packages/IPython/core/magic.pyc\u001b[0m in \u001b[0;36m<lambda>\u001b[0;34m(f, *a, **k)\u001b[0m\n\u001b[1;32m    186\u001b[0m     \u001b[0;31m# but it's overkill for just that one bit of state.\u001b[0m\u001b[0;34m\u001b[0m\u001b[0;34m\u001b[0m\u001b[0m\n\u001b[1;32m    187\u001b[0m     \u001b[0;32mdef\u001b[0m \u001b[0mmagic_deco\u001b[0m\u001b[0;34m(\u001b[0m\u001b[0marg\u001b[0m\u001b[0;34m)\u001b[0m\u001b[0;34m:\u001b[0m\u001b[0;34m\u001b[0m\u001b[0m\n\u001b[0;32m--> 188\u001b[0;31m         \u001b[0mcall\u001b[0m \u001b[0;34m=\u001b[0m \u001b[0;32mlambda\u001b[0m \u001b[0mf\u001b[0m\u001b[0;34m,\u001b[0m \u001b[0;34m*\u001b[0m\u001b[0ma\u001b[0m\u001b[0;34m,\u001b[0m \u001b[0;34m**\u001b[0m\u001b[0mk\u001b[0m\u001b[0;34m:\u001b[0m \u001b[0mf\u001b[0m\u001b[0;34m(\u001b[0m\u001b[0;34m*\u001b[0m\u001b[0ma\u001b[0m\u001b[0;34m,\u001b[0m \u001b[0;34m**\u001b[0m\u001b[0mk\u001b[0m\u001b[0;34m)\u001b[0m\u001b[0;34m\u001b[0m\u001b[0m\n\u001b[0m\u001b[1;32m    189\u001b[0m \u001b[0;34m\u001b[0m\u001b[0m\n\u001b[1;32m    190\u001b[0m         \u001b[0;32mif\u001b[0m \u001b[0mcallable\u001b[0m\u001b[0;34m(\u001b[0m\u001b[0marg\u001b[0m\u001b[0;34m)\u001b[0m\u001b[0;34m:\u001b[0m\u001b[0;34m\u001b[0m\u001b[0m\n",
      "\u001b[0;32m/home/senior-project/.local/lib/python2.7/site-packages/IPython/core/magics/execution.pyc\u001b[0m in \u001b[0;36mtime\u001b[0;34m(self, line, cell, local_ns)\u001b[0m\n\u001b[1;32m   1179\u001b[0m         \u001b[0;32mif\u001b[0m \u001b[0mmode\u001b[0m\u001b[0;34m==\u001b[0m\u001b[0;34m'eval'\u001b[0m\u001b[0;34m:\u001b[0m\u001b[0;34m\u001b[0m\u001b[0m\n\u001b[1;32m   1180\u001b[0m             \u001b[0mst\u001b[0m \u001b[0;34m=\u001b[0m \u001b[0mclock2\u001b[0m\u001b[0;34m(\u001b[0m\u001b[0;34m)\u001b[0m\u001b[0;34m\u001b[0m\u001b[0m\n\u001b[0;32m-> 1181\u001b[0;31m             \u001b[0mout\u001b[0m \u001b[0;34m=\u001b[0m \u001b[0meval\u001b[0m\u001b[0;34m(\u001b[0m\u001b[0mcode\u001b[0m\u001b[0;34m,\u001b[0m \u001b[0mglob\u001b[0m\u001b[0;34m,\u001b[0m \u001b[0mlocal_ns\u001b[0m\u001b[0;34m)\u001b[0m\u001b[0;34m\u001b[0m\u001b[0m\n\u001b[0m\u001b[1;32m   1182\u001b[0m             \u001b[0mend\u001b[0m \u001b[0;34m=\u001b[0m \u001b[0mclock2\u001b[0m\u001b[0;34m(\u001b[0m\u001b[0;34m)\u001b[0m\u001b[0;34m\u001b[0m\u001b[0m\n\u001b[1;32m   1183\u001b[0m         \u001b[0;32melse\u001b[0m\u001b[0;34m:\u001b[0m\u001b[0;34m\u001b[0m\u001b[0m\n",
      "\u001b[0;32m<timed eval>\u001b[0m in \u001b[0;36m<module>\u001b[0;34m()\u001b[0m\n",
      "\u001b[0;31mNameError\u001b[0m: name 'compute_ret' is not defined"
     ]
    }
   ],
   "source": [
    "%%time\n",
    "[compute_ret(temp.get_alphas(i,9,10)) for i in range(16,26)]"
   ]
  },
  {
   "cell_type": "code",
   "execution_count": 10,
   "metadata": {},
   "outputs": [
    {
     "name": "stdout",
     "output_type": "stream",
     "text": [
      "im done\n"
     ]
    }
   ],
   "source": [
    "print \"im done\""
   ]
  },
  {
   "cell_type": "code",
   "execution_count": 63,
   "metadata": {},
   "outputs": [
    {
     "data": {
      "text/plain": [
       "[15, 16]"
      ]
     },
     "execution_count": 63,
     "metadata": {},
     "output_type": "execute_result"
    }
   ],
   "source": [
    "#extract temp given LAG\n",
    "lg = 5\n",
    "tmp = 2\n",
    "a = [1,2,3,4,5,15,16,155]\n",
    "def extract_temperature(LAG,TEMPERATURE_WEEKS, arr ):\n",
    "    return arr[LAG:LAG+TEMPERATURE_WEEKS]\n",
    "extract_temperature(5,2,a)"
   ]
  },
  {
   "cell_type": "code",
   "execution_count": null,
   "metadata": {
    "collapsed": true
   },
   "outputs": [],
   "source": []
  }
 ],
 "metadata": {
  "kernelspec": {
   "display_name": "Python 2",
   "language": "python",
   "name": "python2"
  },
  "language_info": {
   "codemirror_mode": {
    "name": "ipython",
    "version": 2
   },
   "file_extension": ".py",
   "mimetype": "text/x-python",
   "name": "python",
   "nbconvert_exporter": "python",
   "pygments_lexer": "ipython2",
   "version": "2.7.12"
  }
 },
 "nbformat": 4,
 "nbformat_minor": 1
}
