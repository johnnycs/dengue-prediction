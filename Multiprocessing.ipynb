{
 "cells": [
  {
   "cell_type": "code",
   "execution_count": 11,
   "metadata": {
    "collapsed": true
   },
   "outputs": [],
   "source": [
    "%load_ext autoreload\n",
    "%autoreload 2\n",
    "import temp"
   ]
  },
  {
   "cell_type": "code",
   "execution_count": 25,
   "metadata": {
    "collapsed": false
   },
   "outputs": [
    {
     "name": "stdout",
     "output_type": "stream",
     "text": [
      "[(7, 130.0), (8, 135.0), (9, 140.0), (6, 125.0), (10, 145.0)]\n",
      "CPU times: user 5.63 ms, sys: 13.3 ms, total: 18.9 ms\n",
      "Wall time: 61.3 ms\n"
     ]
    }
   ],
   "source": [
    "%%time\n",
    "import multiprocessing as mp\n",
    "from multiprocessing import Process, Queue\n",
    "\n",
    "# Define an output queue\n",
    "output = Queue()\n",
    "\n",
    "def validate\n",
    "\n",
    "def compute_ret(temp):\n",
    "    return temp/2.\n",
    "    \n",
    "def get_alphas(LAG, TEMPERATURE_WEEKS, RAIN_WEEKS, output):\n",
    "    _ = temp.get_alphas(LAG, TEMPERATURE_WEEKS, RAIN_WEEKS)\n",
    "    ret = compute_ret(_)\n",
    "    output.put((LAG,ret))\n",
    "\n",
    "# Setup a list of processes that we want to run\n",
    "processes = [Process(target=get_alphas, args=(weeks, 9, 10, output)) for weeks in range(6,11)]\n",
    "\n",
    "# Run processes\n",
    "for p in processes:\n",
    "    p.start()\n",
    "\n",
    "# Exit the completed processes\n",
    "for p in processes:\n",
    "    p.join()\n",
    "\n",
    "# Get process results from the output queue\n",
    "results = [output.get() for p in processes]\n",
    "\n",
    "print(results)"
   ]
  },
  {
   "cell_type": "code",
   "execution_count": 20,
   "metadata": {
    "collapsed": false
   },
   "outputs": [
    {
     "name": "stdout",
     "output_type": "stream",
     "text": [
      "CPU times: user 14 µs, sys: 11 µs, total: 25 µs\n",
      "Wall time: 27.2 µs\n"
     ]
    },
    {
     "data": {
      "text/plain": [
       "[250, 260, 270, 280, 290]"
      ]
     },
     "execution_count": 20,
     "metadata": {},
     "output_type": "execute_result"
    }
   ],
   "source": [
    "%%time\n",
    "[temp.get_alphas(i,9,10) for i in range(6,11)]"
   ]
  },
  {
   "cell_type": "code",
   "execution_count": null,
   "metadata": {
    "collapsed": true
   },
   "outputs": [],
   "source": []
  }
 ],
 "metadata": {
  "kernelspec": {
   "display_name": "Python [conda root]",
   "language": "python",
   "name": "conda-root-py"
  },
  "language_info": {
   "codemirror_mode": {
    "name": "ipython",
    "version": 2
   },
   "file_extension": ".py",
   "mimetype": "text/x-python",
   "name": "python",
   "nbconvert_exporter": "python",
   "pygments_lexer": "ipython2",
   "version": "2.7.13"
  }
 },
 "nbformat": 4,
 "nbformat_minor": 1
}
