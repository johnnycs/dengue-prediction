{
 "cells": [
  {
   "cell_type": "code",
   "execution_count": 1,
   "metadata": {
    "scrolled": true
   },
   "outputs": [
    {
     "name": "stderr",
     "output_type": "stream",
     "text": [
      "/usr/local/lib/python2.7/dist-packages/pandas/core/computation/__init__.py:18: UserWarning: The installed version of numexpr 2.4.3 is not supported in pandas and will be not be used\n",
      "The minimum supported version is 2.4.6\n",
      "\n",
      "  ver=ver, min_ver=_MIN_NUMEXPR_VERSION), UserWarning)\n"
     ]
    },
    {
     "name": "stdout",
     "output_type": "stream",
     "text": [
      "running model\n",
      "getting cost from nweek ahead\n",
      "getting bounded alphas ...\n",
      "done getting alphas ...\n",
      "running model\n"
     ]
    }
   ],
   "source": [
    "%matplotlib inline\n",
    "import pandas as pd\n",
    "import numpy as np\n",
    "import matplotlib.pyplot as plt\n",
    "import datetime\n",
    "from dateutil.relativedelta import relativedelta\n",
    "from scipy.special import expit\n",
    "from scipy.optimize import fmin, minimize\n",
    "import glob as glob\n",
    "import matplotlib\n",
    "matplotlib.style.use('ggplot')\n",
    "\n",
    "# .py\n",
    "%load_ext autoreload\n",
    "%autoreload 2\n",
    "import weather_alphas, weather_costs, model, model_01, validate, prediction"
   ]
  },
  {
   "cell_type": "code",
   "execution_count": 2,
   "metadata": {
    "collapsed": true
   },
   "outputs": [],
   "source": [
    "def split_data(data):\n",
    "    train_mask = (data.index < \"2011\")\n",
    "    train = data[train_mask]\n",
    "    test_mask = (data.index > \"2011\")\n",
    "    test = data[test_mask]\n",
    "    return train, test"
   ]
  },
  {
   "cell_type": "code",
   "execution_count": 3,
   "metadata": {
    "collapsed": true
   },
   "outputs": [],
   "source": [
    "all_weather = pd.read_csv(\"weather01-16.csv\")"
   ]
  },
  {
   "cell_type": "code",
   "execution_count": 4,
   "metadata": {
    "collapsed": true
   },
   "outputs": [],
   "source": [
    "cm_weather = all_weather[all_weather.stn_name == \"Chiang Mai\"]\n",
    "cm_weather.index = pd.DatetimeIndex(cm_weather.date)\n",
    "mask = (cm_weather.index > \"2003\") & (cm_weather.index < \"2016\")\n",
    "cm_weather = cm_weather[mask]\n",
    "\n",
    "provinces_df = pd.read_csv(\"all-dengues.csv\")\n",
    "provinces_df.index = pd.DatetimeIndex(provinces_df.date)\n",
    "provinces_df = provinces_df.drop(['date','date.1'],axis=1)\n",
    "cm_dengues = provinces_df[provinces_df['จังหวัด'] == 'ChiangMai'].resample('W').size()\n",
    "cm_dengues_df = pd.DataFrame(cm_dengues,columns=['cases'])"
   ]
  },
  {
   "cell_type": "code",
   "execution_count": 5,
   "metadata": {
    "collapsed": true
   },
   "outputs": [],
   "source": [
    "cm_avg_weather = cm_weather[['avgrh','dday','meantemp']].resample('W').mean()\n",
    "cm_avg_weather['rain'] = cm_weather[['rain']].resample('W').sum() # cumulative rainfall\n",
    "cm_dengues_weather = pd.concat([cm_avg_weather,cm_dengues_df[:-52]],axis=1)\n",
    "\n",
    "cm_dengues_weather_split = split_data(cm_dengues_weather)\n",
    "cm_dengues_train, cm_dengues_test = cm_dengues_weather_split[0], cm_dengues_weather_split[1]"
   ]
  },
  {
   "cell_type": "code",
   "execution_count": 6,
   "metadata": {
    "collapsed": true
   },
   "outputs": [],
   "source": [
    "def make_line(start_week,real,predictions,title,x_axis,y_axis,\n",
    "              real_legend='Real',predict_legend='Prediction'):\n",
    "    plt.figure(figsize=(12,6))\n",
    "    plt.plot(range(len(real)),real,'-r',label=real_legend)\n",
    "    plt.plot(range(start_week,len(predictions)+start_week),predictions,'-k',label=predict_legend,alpha=0.4)\n",
    "    plt.axvline(start_week)\n",
    "    plt.text((start_week*2)+10,300,'Prediction Start',horizontalalignment='center',verticalalignment='center')\n",
    "    plt.xlabel(x_axis)\n",
    "    plt.ylabel(y_axis)\n",
    "    plt.legend()\n",
    "    plt.title(title)\n",
    "    \n",
    "def plot_all_predictions(LAG, real, province, nweeks_to_predict, all_predictions):\n",
    "    \n",
    "    plt.figure(figsize=(13,6))\n",
    "    plt.plot(range(len(real)),real,label='real')\n",
    "    graph_title = \"%s's Dengue Prediction with Mean Temperature\"%province\n",
    "    plt.title(graph_title)\n",
    "    for i in range(len(all_predictions)):\n",
    "        cur_week_guess = nweeks_to_predict[i]\n",
    "        start_predict_week = LAG+(cur_week_guess-1)\n",
    "        predicted_cases = all_predictions[i]\n",
    "        x_weeks = range(start_predict_week,len(predicted_cases)+start_predict_week)\n",
    "        line_label = \"%d week guess\"%cur_week_guess\n",
    "        plt.plot(x_weeks,predicted_cases,label=line_label,alpha=0.8)\n",
    "    \n",
    "    seperate_train_test(cm_dengues_df.cases,cm_dengues_train)\n",
    "    plt.axvline(LAG)\n",
    "    plt.text((LAG*2)+10,300,'Prediction Start',horizontalalignment='center',verticalalignment='center')\n",
    "    plt.xlabel(\"# week starting 2003\")\n",
    "    plt.ylabel(\"Dengue cases\")\n",
    "    plt.legend()\n",
    "    plt.savefig(\"16-lags-16-weeks-9-temp-wks-chiangmai-00.png\")\n",
    "    \n",
    "def seperate_train_test(all_data,train_data):\n",
    "    plt.axvspan(0, len(train_data), color='blue', alpha=0.1)\n",
    "    plt.text((len(train_data)/2)-25,700,'Train Period',size=16)\n",
    "    plt.axvline(len(train_data)+1,linewidth=0.5, color='green')\n",
    "    plt.text(len(train_data)+20,700,'Test Period',size=16)\n",
    "    plt.axvspan(len(train_data)+1, len(all_data), color='green', alpha=0.1)"
   ]
  },
  {
   "cell_type": "code",
   "execution_count": 7,
   "metadata": {
    "collapsed": true,
    "scrolled": true
   },
   "outputs": [],
   "source": [
    "import multiprocessing as mp\n",
    "from multiprocessing import Process, Queue\n",
    "\n",
    "# Define an output queue\n",
    "output = Queue()\n",
    "\n",
    "# def validate\n",
    "\n",
    "# def compute_ret(temp):\n",
    "#     for i in range(int(1e5)): pass\n",
    "#     return temp/2.\n",
    "\n",
    "\n",
    "ws_csv = np.array(pd.read_csv(\"best-for-22-lags-ws.csv\").T)[0]\n",
    "    \n",
    "def validation(LAG, TEMPERATURE_WEEKS, RAIN_WEEKS, train, real, output):\n",
    "                                    # get_alphas takes 4 args, if theres no input csv\n",
    "    alphas = weather_alphas.get_alphas(LAG, TEMPERATURE_WEEKS, RAIN_WEEKS, train, ws_csv)\n",
    "                                    # get_predictions takes 6 args\n",
    "    predictions_to_validate = prediction.get_predictions(LAG, TEMPERATURE_WEEKS, RAIN_WEEKS, real, alphas.x, \"CM\")\n",
    "                                    # get_validations takes 3 argsg\n",
    "    validated_result = validate.get_validations(LAG, predictions_to_validate, real)\n",
    "    output.put((LAG,validated_result,alphas.x)) # add in ws as well alphas.x\n"
   ]
  },
  {
   "cell_type": "code",
   "execution_count": 9,
   "metadata": {},
   "outputs": [
    {
     "name": "stdout",
     "output_type": "stream",
     "text": [
      "43\n",
      "bnds 43\n",
      "ws_csv\n",
      "44\n",
      "prev_ws 43\n",
      "45\n",
      "bnds 44\n",
      "ws_csv\n",
      "bnds 45\n",
      "46\n",
      "ws_csv\n",
      "prev_ws 44\n",
      "bnds 46\n",
      "prev_ws 45\n",
      "ws_csv\n",
      "47\n",
      "prev_ws 46\n",
      "bnds 47\n",
      "ws_csv\n",
      "48\n",
      "prev_ws 47\n",
      "bnds 48\n",
      "49\n",
      "bnds 49\n",
      "ws_csv\n",
      "ws_csv\n",
      "prev_ws 49\n",
      "51\n",
      "prev_ws 48\n",
      "bnds 51\n",
      "52\n",
      "ws_csv\n",
      "bnds 52\n",
      "50\n",
      "prev_ws 51\n",
      "ws_csv\n",
      "bnds 50\n",
      "ws_csv\n",
      "prev_ws 52\n",
      "prev_ws 50\n",
      "[(28, [238.68440771959951, 333.98675844456238, 628.97375259711259, 1088.5052949338437, 1494.2309652728031], array([  1.11179702e+00,   1.91072806e-10,   2.44118551e-10,\n",
      "         0.00000000e+00,   2.09882553e-10,   9.88341128e-03,\n",
      "         0.00000000e+00,   0.00000000e+00,   5.87555908e-05,\n",
      "         5.45288352e-03,   3.00065362e-02,   1.39235869e-01,\n",
      "         2.28433225e-01,   1.59313504e-02,   2.31287849e-04,\n",
      "         5.14480842e-05,   1.62542679e-05,   3.81501234e-07,\n",
      "         1.75792159e-07,   8.87055488e-08,   3.19903701e-09,\n",
      "         0.00000000e+00,   0.00000000e+00,   2.24686207e-09,\n",
      "         0.00000000e+00,   3.08344958e-08,   1.11972195e-01,\n",
      "         4.63928140e-01,   4.27883577e-01,  -7.74837254e-01,\n",
      "         1.22230172e+01,   9.23473410e-02,   1.11476522e+00,\n",
      "         7.45264215e-01,   6.38613566e-01,   9.24175605e-01,\n",
      "         7.92761232e-01,   2.54078107e-01,  -4.88854185e-01,\n",
      "        -1.44258035e+00,  -2.75798604e+00,   2.95597249e-01,\n",
      "         3.41020489e-02,   2.61441928e-02,  -9.77523200e-03,\n",
      "        -2.54797173e-03,  -1.49219329e-03,   1.61269702e-03,\n",
      "        -1.62156170e-02,   1.42910217e-02,   2.26382509e-03,\n",
      "         1.75886272e-03])), (23, [168.2121354504269, 280.27879499673219, 532.90249563352711, 955.10011219889668, 1438.164770430252], array([  8.43623733e-01,   0.00000000e+00,   0.00000000e+00,\n",
      "         7.87637321e-12,   1.69691988e-05,   2.85436682e-03,\n",
      "         1.82629587e-04,   6.98137916e-02,   1.54922350e-03,\n",
      "         3.73867973e-02,   6.98471231e-02,   4.31460275e-02,\n",
      "         9.02216978e-03,   2.63780133e-03,   3.07225812e-04,\n",
      "         3.17737496e-05,   4.17418807e-06,   3.33729172e-07,\n",
      "         2.49202836e-07,   1.45541675e-11,   2.71475209e-07,\n",
      "         4.63954514e-10,   1.83147648e-01,   4.73628491e-01,\n",
      "         1.49521223e+00,   9.73555407e+00,   9.35427514e-01,\n",
      "         3.30803870e-01,   1.05520997e+00,   8.09365467e-01,\n",
      "         1.28262028e+00,  -8.24431205e-01,  -1.63600516e+00,\n",
      "        -1.31411162e+00,  -5.09637067e-01,   6.09810358e-02,\n",
      "         3.11793472e-01,  -1.25964493e-04,   1.15139152e-03,\n",
      "         1.23741551e-03,  -1.26694986e-03,  -6.73553212e-03,\n",
      "         5.85536741e-04,  -1.28743198e-04,  -3.43995378e-04,\n",
      "         2.53875560e-03,   3.36753256e-03])), (27, [776.10514645758485, 776.28247758330951, 777.70420882387714, 1410.0208700568785, 1823.2323257944436], array([  2.48989801e+00,   5.61438461e-06,   5.41267219e-07,\n",
      "         1.48380323e-07,   6.13771719e-07,   2.88222788e-07,\n",
      "         3.00770980e-07,   3.99829858e-07,   5.51609102e-07,\n",
      "         3.45323538e-07,   2.29883449e-07,   2.46974369e-07,\n",
      "         1.01531276e-07,   4.63907788e-08,   3.91372141e-09,\n",
      "         2.93250193e-07,   7.67175694e-09,   1.01335158e-07,\n",
      "         3.51125359e-09,   2.29801444e-07,   6.71301817e-08,\n",
      "         2.57396579e-12,   1.28471233e-07,   7.86444725e-09,\n",
      "         5.37098391e-01,   5.50079633e-06,   1.56628784e-05,\n",
      "         1.07399495e-05,  -5.51435263e-01,   1.70388604e+01,\n",
      "         3.91176349e-01,   5.45395558e-03,   5.91022051e-05,\n",
      "        -1.73483649e-03,  -1.37511388e-03,   9.49617272e-04,\n",
      "        -1.60735233e-03,  -1.13157494e-03,  -7.38158622e-03,\n",
      "        -8.31731979e-03,   4.63033995e-02,  -4.59164024e-01,\n",
      "        -4.14152847e-01,  -4.09704647e-01,  -2.42830102e-01,\n",
      "        -4.11601219e-02,   2.00666454e-01,   4.24458426e-01,\n",
      "         5.26005529e-01,   4.76614994e-01,   2.15794576e-01])), (22, [182.60981806572761, 329.94780520888287, 669.87889506648798, 1269.050455818814, 1754.5073501982345], array([  6.28303809e-01,   1.04412355e-04,   3.50589382e-02,\n",
      "         1.28608454e-05,   2.98265590e-09,   3.62063787e-02,\n",
      "         0.00000000e+00,   0.00000000e+00,   0.00000000e+00,\n",
      "         0.00000000e+00,   0.00000000e+00,   0.00000000e+00,\n",
      "         0.00000000e+00,   0.00000000e+00,   0.00000000e+00,\n",
      "         0.00000000e+00,   0.00000000e+00,   0.00000000e+00,\n",
      "         0.00000000e+00,   0.00000000e+00,   0.00000000e+00,\n",
      "         0.00000000e+00,   3.84679267e-01,   2.12196781e+00,\n",
      "         1.36243598e+01,   5.14705505e-01,   3.33391640e-03,\n",
      "        -2.05481193e-03,  -3.94228938e-03,   1.22330023e-03,\n",
      "        -6.37291663e-04,  -2.76039483e-03,  -6.76542177e-03,\n",
      "        -2.61359814e-03,  -6.12540943e-03,   8.79853534e-02,\n",
      "         1.66572574e-01,   2.04232134e-01,   6.23657357e-02,\n",
      "         1.80493812e-02,   1.37799977e-02,   4.80821528e-01,\n",
      "         5.14439008e-01,  -1.94756072e-01,  -9.56858921e-02,\n",
      "        -4.08582620e-01])), (24, [301.40877742118073, 581.6681130916545, 1043.2195956145304, 1598.0204902549885, 1819.6610450396731], array([  1.76660099e+00,   0.00000000e+00,   1.80871011e-01,\n",
      "         0.00000000e+00,   0.00000000e+00,   0.00000000e+00,\n",
      "         0.00000000e+00,   0.00000000e+00,   0.00000000e+00,\n",
      "         0.00000000e+00,   0.00000000e+00,   0.00000000e+00,\n",
      "         0.00000000e+00,   0.00000000e+00,   0.00000000e+00,\n",
      "         0.00000000e+00,   0.00000000e+00,   0.00000000e+00,\n",
      "         0.00000000e+00,   4.13260281e-11,   4.78396040e-11,\n",
      "         1.02397825e-10,   1.62033102e-01,   1.49932751e-02,\n",
      "         5.75909367e-01,   6.26163935e-01,   1.89118358e+01,\n",
      "         7.00914277e-02,   1.38021092e-01,  -6.24636323e-02,\n",
      "        -3.71079882e-02,  -3.43035465e-02,   2.15290612e-03,\n",
      "         3.79072822e-02,   2.52246425e-02,   2.21258833e-02,\n",
      "        -9.92702086e-02,   8.81052537e-02,   2.16058645e-01,\n",
      "         1.81367509e-01,   3.43659646e-02,  -8.19663305e-02,\n",
      "        -7.19098297e-02,  -1.02893115e-02,   6.52217570e-02,\n",
      "         1.29303293e-01,   1.78363005e-01,   6.39847181e-02])), (26, [179.3011173608694, 314.02407438540354, 605.9882512372028, 1125.6893893137233, 1615.7464998608423], array([  1.00380192e+00,   0.00000000e+00,   4.56753091e-02,\n",
      "         2.22920857e-05,   9.88656735e-05,   1.18788875e-05,\n",
      "         7.57712647e-05,   3.98765926e-03,   1.05754278e-03,\n",
      "         5.99296014e-02,   7.27546849e-02,   2.30368920e-02,\n",
      "         4.19940244e-03,   3.58412234e-03,   1.11918604e-03,\n",
      "         1.64815196e-03,   4.19806111e-04,   1.25722166e-06,\n",
      "         2.38744328e-06,   1.53762220e-08,   3.32219063e-08,\n",
      "         7.54640222e-08,   1.75833446e-09,   2.24276131e-08,\n",
      "         1.14670120e-01,   4.30989002e-02,   4.54796970e-01,\n",
      "        -1.63302582e+00,   1.18704714e+01,   5.00771919e-01,\n",
      "         3.17033994e-01,   3.13990739e-02,   4.33842748e-01,\n",
      "         8.03931075e-01,  -2.44764785e-02,  -1.45978970e-01,\n",
      "        -6.73421341e-01,  -6.23157854e-01,  -6.44917444e-01,\n",
      "         4.71533751e-01,  -7.04880701e-03,  -2.09756082e-02,\n",
      "         9.28935924e-03,   2.92382620e-03,  -7.15417693e-03,\n",
      "        -3.83837722e-03,  -9.58985462e-05,  -2.67542153e-03,\n",
      "         1.04281223e-02,   3.72230639e-03])), (21, [380.33968209940042, 385.56214457053431, 770.03035971150098, 1356.4065574799406, 1722.9824088007013], array([  2.02310142e+00,   5.58188093e-10,   5.07714641e-07,\n",
      "         2.28773051e-07,   2.20226694e-09,   1.31297308e-08,\n",
      "         3.22152156e-09,   5.11020009e-07,   2.05466496e-08,\n",
      "         1.65054952e-07,   1.52610492e-10,   2.29049492e-10,\n",
      "         5.66167491e-10,   4.65960736e-10,   3.13235427e-10,\n",
      "         1.79668454e-10,   1.46437520e-09,   2.84375611e-09,\n",
      "         2.88885521e-09,   1.78529263e-10,   6.22748993e-01,\n",
      "         8.80968294e-02,   4.66182314e-01,   1.65814508e+01,\n",
      "         2.70563094e-01,   1.41024001e-03,   4.04443600e-04,\n",
      "        -9.12347043e-04,  -2.69563305e-03,  -4.81912257e-04,\n",
      "        -1.67223962e-03,  -9.94156896e-05,  -3.46893413e-03,\n",
      "        -2.49533354e-03,   4.28229741e-02,  -1.83491867e-02,\n",
      "        -9.14076132e-02,  -4.89615589e-02,   2.10073328e-02,\n",
      "        -5.16841858e-02,  -8.70223726e-01,  -2.50070503e-01,\n",
      "         1.34201944e+00,   5.92887396e-01,  -7.27881256e-01])), (20, [168.62965692701405, 277.82159012419135, 517.50013845318028, 912.56229202894531, 1417.4219752525389], array([  6.58148160e-01,   0.00000000e+00,   0.00000000e+00,\n",
      "         2.81062825e-10,   1.42229689e-03,   1.54144484e-02,\n",
      "         1.20773748e-02,   1.16219502e-01,   7.24293748e-02,\n",
      "         2.93782966e-03,   1.41767554e-03,   3.01883723e-03,\n",
      "         3.32389000e-04,   6.78580895e-05,   4.48946107e-05,\n",
      "         1.31947190e-06,   4.59654799e-08,   1.07179280e-07,\n",
      "         9.79383175e-04,   2.20891144e-01,   4.99980048e-01,\n",
      "         1.30425912e+00,   9.34660507e+00,   1.16032235e+00,\n",
      "         2.06881078e+00,  -6.44455576e-01,  -1.07026861e+00,\n",
      "        -2.51933523e-01,   1.74243502e+00,  -5.83037153e-01,\n",
      "         7.50033803e-01,  -6.17864298e-01,  -2.26161586e+00,\n",
      "         2.14605058e-02,  -1.24647683e-02,   1.01292726e-02,\n",
      "        -9.81483807e-03,   4.90084652e-03,  -6.93701682e-03,\n",
      "         3.57046486e-03,  -7.25607194e-03,   7.77688249e-03,\n",
      "         9.92953599e-03,  -1.01389731e-02])), (25, [321.98672870031282, 321.83962477939599, 641.99191206937383, 1194.1576539646233, 1612.7820719288275], array([  1.63413387e+00,   1.84217356e-01,   5.67871912e-05,\n",
      "         6.82214557e-03,   4.90433023e-02,   4.94687967e-02,\n",
      "         1.93952650e-03,   3.43867569e-02,   1.14570371e-03,\n",
      "         1.56230629e-03,   2.86565000e-06,   6.65679810e-05,\n",
      "         2.38507272e-05,   5.77760788e-06,   6.23591630e-07,\n",
      "         3.59038655e-07,   1.99101149e-07,   5.69716283e-08,\n",
      "         2.20222653e-08,   8.98356992e-08,   7.10598248e-09,\n",
      "         1.59327543e-07,   2.26695725e-08,   1.35167687e-05,\n",
      "         5.93817211e-01,   2.60131504e-02,  -9.03481206e-01,\n",
      "         1.40877128e+01,   3.45771502e-01,   5.04198857e-01,\n",
      "         2.20130985e-01,   2.81846526e-01,   1.30378170e-01,\n",
      "         1.49716333e-01,  -2.27926451e-01,  -5.79668628e-01,\n",
      "        -5.15152167e-01,  -1.52024343e-01,   7.79594240e-01,\n",
      "         1.27402001e-02,   1.20473042e-02,  -1.73891754e-02,\n",
      "         1.22034546e-02,   8.71709243e-03,   1.59832333e-02,\n",
      "        -2.40251929e-03,   5.22216577e-03,  -2.45373710e-02,\n",
      "         7.72792317e-03])), (19, [166.58144315240938, 288.90438923752112, 543.77910579009665, 947.79038700618275, 1391.3705312808502], array([  6.33935672e-01,   1.67666287e-08,   2.31639456e-08,\n",
      "         3.50209373e-08,   0.00000000e+00,   4.31120912e-03,\n",
      "         1.34822610e-01,   5.01089508e-04,   5.38066447e-05,\n",
      "         1.03042846e-05,   7.44309154e-07,   1.09314887e-01,\n",
      "         1.38345504e-06,   1.11136595e-05,   1.54229262e-06,\n",
      "         1.94576579e-07,   9.57191545e-08,   6.70262672e-08,\n",
      "         2.86149822e-02,   5.53266735e-01,   1.23621866e+00,\n",
      "         9.96473843e+00,   2.57910558e-01,   3.72814121e-01,\n",
      "         6.90528824e-02,  -7.37570214e-02,   9.27721001e-04,\n",
      "        -6.53165618e-02,   1.08420525e-01,   1.45659515e-03,\n",
      "        -8.82658404e-02,  -3.66435643e-01,  -2.32713124e-03,\n",
      "        -1.06584138e-02,  -4.24314530e-03,   3.08463440e-03,\n",
      "         8.57890639e-03,   1.10691040e-02,   2.86555863e-03,\n",
      "         4.52966854e-02,  -7.53315559e-02,  -9.34975403e-02,\n",
      "         7.47375805e-02]))]\n",
      "CPU times: user 344 ms, sys: 244 ms, total: 588 ms\n",
      "Wall time: 4h 49min 28s\n"
     ]
    }
   ],
   "source": [
    "%%time\n",
    "# Setup a list of processes that we want to run\n",
    "train = cm_dengues_train\n",
    "real = cm_dengues_weather\n",
    "processes = [Process(target=validation, args=(weeks, 9, 10, train, real, output)) for weeks in range(19,29)]\n",
    "\n",
    "# Run processes\n",
    "for p in processes:\n",
    "    p.start()\n",
    "\n",
    "# Exit the completed processes\n",
    "for p in processes:\n",
    "    p.join()\n",
    "\n",
    "# Get process results from the output queue\n",
    "results = [output.get() for p in processes]\n",
    "\n",
    "print(results)"
   ]
  },
  {
   "cell_type": "code",
   "execution_count": 21,
   "metadata": {},
   "outputs": [
    {
     "name": "stdout",
     "output_type": "stream",
     "text": [
      "1658.87429138\n"
     ]
    }
   ],
   "source": [
    "def get_best(validations):\n",
    "    idx = None\n",
    "    best_so_far = validations[0][1][-1]\n",
    "    print best_so_far\n",
    "    for i in range(len(validations)):\n",
    "        cur_validation = validations[i][1]\n",
    "#         print cur_validation\n",
    "        if cur_validation[0] <= best_so_far:\n",
    "            best_so_far = cur_validation[0]\n",
    "            idx = i\n",
    "    return validations[idx]\n",
    "        \n",
    "    \n",
    "best_param = get_best(results)"
   ]
  },
  {
   "cell_type": "code",
   "execution_count": 22,
   "metadata": {},
   "outputs": [
    {
     "data": {
      "text/plain": [
       "(22,\n",
       " [168.91992707941367,\n",
       "  294.43310789284749,\n",
       "  581.26512237331235,\n",
       "  1094.9170235268389,\n",
       "  1583.9765963195935],\n",
       " array([  1.06285782e+00,   3.18700091e-09,   7.32517050e-02,\n",
       "          2.47404558e-05,   1.80339246e-04,   4.42235741e-03,\n",
       "          8.05425584e-03,   1.40797148e-02,   3.70112369e-03,\n",
       "          5.80911759e-02,   2.59760472e-03,   8.49970251e-04,\n",
       "          1.75154465e-04,   7.70080825e-05,   2.34779063e-05,\n",
       "          9.25569626e-07,   2.78796997e-07,   8.92087310e-08,\n",
       "          5.36438747e-08,   1.10259113e-08,   3.72087335e-08,\n",
       "          1.67251300e-08,   4.45071577e-01,   1.78414402e+00,\n",
       "          1.14920133e+01,   5.28767936e-01,   2.91518901e-01,\n",
       "          1.39171499e-01,  -1.12398539e-01,  -1.24287564e-01,\n",
       "         -1.99536889e-01,   3.83116461e-02,  -4.25686363e-02,\n",
       "         -1.85499470e-01,  -3.30833805e-01,   5.49950430e-01,\n",
       "          6.64274568e-03,   2.89012569e-03,  -6.17473643e-06,\n",
       "          7.22101455e-04,   5.23957335e-03,  -5.45793794e-03,\n",
       "          4.71011960e-03,   3.31687058e-05,  -1.22100536e-03,\n",
       "         -5.51318494e-03]))"
      ]
     },
     "execution_count": 22,
     "metadata": {},
     "output_type": "execute_result"
    }
   ],
   "source": [
    "best_param"
   ]
  },
  {
   "cell_type": "code",
   "execution_count": 23,
   "metadata": {
    "collapsed": true
   },
   "outputs": [],
   "source": [
    "# pd.DataFrame(best_param[2]).to_csv(\"best-for-22-lags-ws.csv\",index=False)\n",
    "# np.array(pd.read_csv(\"best-for-21-lags-ws.csv\").T)[0]"
   ]
  },
  {
   "cell_type": "code",
   "execution_count": 147,
   "metadata": {},
   "outputs": [
    {
     "name": "stdout",
     "output_type": "stream",
     "text": [
      "les\n"
     ]
    },
    {
     "data": {
      "text/plain": [
       "19"
      ]
     },
     "execution_count": 147,
     "metadata": {},
     "output_type": "execute_result"
    }
   ],
   "source": [
    "# # pd.DataFrame(best_param[2]).to_csv(\"best-for-18-lags-ws.csv\",index=False)\n",
    "\n",
    "# lg = [16,17,18,20,22]\n",
    "# a = np.array(pd.read_csv(\"best-for-18-lags-ws.csv\").T)[0]\n",
    "\n",
    "# # for i in lg:\n",
    "# #     if i == len(a):\n",
    "# #         arr = a\n",
    "# #         print len(arr)\n",
    "# #     elif i < len(a):\n",
    "# #         arr = a[:-(18-i)]\n",
    "# #         print len(arr)\n",
    "# #     else:\n",
    "# #         mean_val = 1/float(i)\n",
    "# #         arr = np.append(a,[mean_val]*(i-len(a)))\n",
    "# #         print arr\n",
    "        \n",
    "# def ws_helper(LAG, ws, 18):\n",
    "#     n_ws = len(ws)\n",
    "#     if LAG == n_ws:\n",
    "#         print \"eq\"\n",
    "#         arr = ws[:LAG+1]\n",
    "#     elif LAG < n_ws:\n",
    "#         print \"les\"\n",
    "#         arr = ws[:-(n_ws - LAG + 1)]\n",
    "#     else:\n",
    "#         print \"else\"\n",
    "#         tail = (LAG - n_ws) - 1\n",
    "#         mean_val = 1/(float(LAG)*tail)\n",
    "#         arr = np.append(ws,[mean_val]*tail)\n",
    "#     return arr\n",
    "\n",
    "# len(ws_helper(20,a))"
   ]
  },
  {
   "cell_type": "code",
   "execution_count": 69,
   "metadata": {
    "collapsed": true
   },
   "outputs": [
    {
     "ename": "NameError",
     "evalue": "name 'compute_ret' is not defined",
     "output_type": "error",
     "traceback": [
      "\u001b[0;31m---------------------------------------------------------------------------\u001b[0m",
      "\u001b[0;31mNameError\u001b[0m                                 Traceback (most recent call last)",
      "\u001b[0;32m<ipython-input-69-0d7a799813d4>\u001b[0m in \u001b[0;36m<module>\u001b[0;34m()\u001b[0m\n\u001b[0;32m----> 1\u001b[0;31m \u001b[0mget_ipython\u001b[0m\u001b[0;34m(\u001b[0m\u001b[0;34m)\u001b[0m\u001b[0;34m.\u001b[0m\u001b[0mrun_cell_magic\u001b[0m\u001b[0;34m(\u001b[0m\u001b[0;34mu'time'\u001b[0m\u001b[0;34m,\u001b[0m \u001b[0;34mu''\u001b[0m\u001b[0;34m,\u001b[0m \u001b[0;34mu'[compute_ret(temp.get_alphas(i,9,10)) for i in range(16,26)]'\u001b[0m\u001b[0;34m)\u001b[0m\u001b[0;34m\u001b[0m\u001b[0m\n\u001b[0m",
      "\u001b[0;32m/home/senior-project/.local/lib/python2.7/site-packages/IPython/core/interactiveshell.pyc\u001b[0m in \u001b[0;36mrun_cell_magic\u001b[0;34m(self, magic_name, line, cell)\u001b[0m\n\u001b[1;32m   2115\u001b[0m             \u001b[0mmagic_arg_s\u001b[0m \u001b[0;34m=\u001b[0m \u001b[0mself\u001b[0m\u001b[0;34m.\u001b[0m\u001b[0mvar_expand\u001b[0m\u001b[0;34m(\u001b[0m\u001b[0mline\u001b[0m\u001b[0;34m,\u001b[0m \u001b[0mstack_depth\u001b[0m\u001b[0;34m)\u001b[0m\u001b[0;34m\u001b[0m\u001b[0m\n\u001b[1;32m   2116\u001b[0m             \u001b[0;32mwith\u001b[0m \u001b[0mself\u001b[0m\u001b[0;34m.\u001b[0m\u001b[0mbuiltin_trap\u001b[0m\u001b[0;34m:\u001b[0m\u001b[0;34m\u001b[0m\u001b[0m\n\u001b[0;32m-> 2117\u001b[0;31m                 \u001b[0mresult\u001b[0m \u001b[0;34m=\u001b[0m \u001b[0mfn\u001b[0m\u001b[0;34m(\u001b[0m\u001b[0mmagic_arg_s\u001b[0m\u001b[0;34m,\u001b[0m \u001b[0mcell\u001b[0m\u001b[0;34m)\u001b[0m\u001b[0;34m\u001b[0m\u001b[0m\n\u001b[0m\u001b[1;32m   2118\u001b[0m             \u001b[0;32mreturn\u001b[0m \u001b[0mresult\u001b[0m\u001b[0;34m\u001b[0m\u001b[0m\n\u001b[1;32m   2119\u001b[0m \u001b[0;34m\u001b[0m\u001b[0m\n",
      "\u001b[0;32m<decorator-gen-60>\u001b[0m in \u001b[0;36mtime\u001b[0;34m(self, line, cell, local_ns)\u001b[0m\n",
      "\u001b[0;32m/home/senior-project/.local/lib/python2.7/site-packages/IPython/core/magic.pyc\u001b[0m in \u001b[0;36m<lambda>\u001b[0;34m(f, *a, **k)\u001b[0m\n\u001b[1;32m    186\u001b[0m     \u001b[0;31m# but it's overkill for just that one bit of state.\u001b[0m\u001b[0;34m\u001b[0m\u001b[0;34m\u001b[0m\u001b[0m\n\u001b[1;32m    187\u001b[0m     \u001b[0;32mdef\u001b[0m \u001b[0mmagic_deco\u001b[0m\u001b[0;34m(\u001b[0m\u001b[0marg\u001b[0m\u001b[0;34m)\u001b[0m\u001b[0;34m:\u001b[0m\u001b[0;34m\u001b[0m\u001b[0m\n\u001b[0;32m--> 188\u001b[0;31m         \u001b[0mcall\u001b[0m \u001b[0;34m=\u001b[0m \u001b[0;32mlambda\u001b[0m \u001b[0mf\u001b[0m\u001b[0;34m,\u001b[0m \u001b[0;34m*\u001b[0m\u001b[0ma\u001b[0m\u001b[0;34m,\u001b[0m \u001b[0;34m**\u001b[0m\u001b[0mk\u001b[0m\u001b[0;34m:\u001b[0m \u001b[0mf\u001b[0m\u001b[0;34m(\u001b[0m\u001b[0;34m*\u001b[0m\u001b[0ma\u001b[0m\u001b[0;34m,\u001b[0m \u001b[0;34m**\u001b[0m\u001b[0mk\u001b[0m\u001b[0;34m)\u001b[0m\u001b[0;34m\u001b[0m\u001b[0m\n\u001b[0m\u001b[1;32m    189\u001b[0m \u001b[0;34m\u001b[0m\u001b[0m\n\u001b[1;32m    190\u001b[0m         \u001b[0;32mif\u001b[0m \u001b[0mcallable\u001b[0m\u001b[0;34m(\u001b[0m\u001b[0marg\u001b[0m\u001b[0;34m)\u001b[0m\u001b[0;34m:\u001b[0m\u001b[0;34m\u001b[0m\u001b[0m\n",
      "\u001b[0;32m/home/senior-project/.local/lib/python2.7/site-packages/IPython/core/magics/execution.pyc\u001b[0m in \u001b[0;36mtime\u001b[0;34m(self, line, cell, local_ns)\u001b[0m\n\u001b[1;32m   1179\u001b[0m         \u001b[0;32mif\u001b[0m \u001b[0mmode\u001b[0m\u001b[0;34m==\u001b[0m\u001b[0;34m'eval'\u001b[0m\u001b[0;34m:\u001b[0m\u001b[0;34m\u001b[0m\u001b[0m\n\u001b[1;32m   1180\u001b[0m             \u001b[0mst\u001b[0m \u001b[0;34m=\u001b[0m \u001b[0mclock2\u001b[0m\u001b[0;34m(\u001b[0m\u001b[0;34m)\u001b[0m\u001b[0;34m\u001b[0m\u001b[0m\n\u001b[0;32m-> 1181\u001b[0;31m             \u001b[0mout\u001b[0m \u001b[0;34m=\u001b[0m \u001b[0meval\u001b[0m\u001b[0;34m(\u001b[0m\u001b[0mcode\u001b[0m\u001b[0;34m,\u001b[0m \u001b[0mglob\u001b[0m\u001b[0;34m,\u001b[0m \u001b[0mlocal_ns\u001b[0m\u001b[0;34m)\u001b[0m\u001b[0;34m\u001b[0m\u001b[0m\n\u001b[0m\u001b[1;32m   1182\u001b[0m             \u001b[0mend\u001b[0m \u001b[0;34m=\u001b[0m \u001b[0mclock2\u001b[0m\u001b[0;34m(\u001b[0m\u001b[0;34m)\u001b[0m\u001b[0;34m\u001b[0m\u001b[0m\n\u001b[1;32m   1183\u001b[0m         \u001b[0;32melse\u001b[0m\u001b[0;34m:\u001b[0m\u001b[0;34m\u001b[0m\u001b[0m\n",
      "\u001b[0;32m<timed eval>\u001b[0m in \u001b[0;36m<module>\u001b[0;34m()\u001b[0m\n",
      "\u001b[0;31mNameError\u001b[0m: name 'compute_ret' is not defined"
     ]
    }
   ],
   "source": [
    "%%time\n",
    "[compute_ret(temp.get_alphas(i,9,10)) for i in range(16,26)]"
   ]
  },
  {
   "cell_type": "code",
   "execution_count": 10,
   "metadata": {},
   "outputs": [
    {
     "name": "stdout",
     "output_type": "stream",
     "text": [
      "im done\n"
     ]
    }
   ],
   "source": [
    "print \"im done\""
   ]
  },
  {
   "cell_type": "code",
   "execution_count": null,
   "metadata": {
    "collapsed": true
   },
   "outputs": [],
   "source": []
  }
 ],
 "metadata": {
  "kernelspec": {
   "display_name": "Python 2",
   "language": "python",
   "name": "python2"
  },
  "language_info": {
   "codemirror_mode": {
    "name": "ipython",
    "version": 2
   },
   "file_extension": ".py",
   "mimetype": "text/x-python",
   "name": "python",
   "nbconvert_exporter": "python",
   "pygments_lexer": "ipython2",
   "version": "2.7.12"
  }
 },
 "nbformat": 4,
 "nbformat_minor": 1
}
