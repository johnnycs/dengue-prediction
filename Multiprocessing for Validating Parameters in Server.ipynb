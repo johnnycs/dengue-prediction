{
 "cells": [
  {
   "cell_type": "code",
   "execution_count": 1,
   "metadata": {
    "collapsed": false,
    "scrolled": true
   },
   "outputs": [
    {
     "name": "stdout",
     "output_type": "stream",
     "text": [
      "running model\n",
      "getting cost from nweek ahead\n",
      "getting bounded alphas ...\n",
      "done getting alphas ...\n",
      "running model\n"
     ]
    }
   ],
   "source": [
    "%matplotlib inline\n",
    "import pandas as pd\n",
    "import numpy as np\n",
    "import matplotlib.pyplot as plt\n",
    "import datetime\n",
    "from dateutil.relativedelta import relativedelta\n",
    "from scipy.special import expit\n",
    "from scipy.optimize import fmin, minimize\n",
    "import glob as glob\n",
    "import matplotlib\n",
    "matplotlib.style.use('ggplot')\n",
    "\n",
    "# .py\n",
    "%load_ext autoreload\n",
    "%autoreload 2\n",
    "import weather_alphas, weather_costs, model, model_01, validate, prediction"
   ]
  },
  {
   "cell_type": "code",
   "execution_count": 2,
   "metadata": {
    "collapsed": true
   },
   "outputs": [],
   "source": [
    "def split_data(data):\n",
    "    train_mask = (data.index < \"2011\")\n",
    "    train = data[train_mask]\n",
    "    test_mask = (data.index > \"2011\")\n",
    "    test = data[test_mask]\n",
    "    return train, test"
   ]
  },
  {
   "cell_type": "code",
   "execution_count": 3,
   "metadata": {
    "collapsed": true
   },
   "outputs": [],
   "source": [
    "all_weather = pd.read_csv(\"weather01-16.csv\")"
   ]
  },
  {
   "cell_type": "code",
   "execution_count": 4,
   "metadata": {
    "collapsed": true
   },
   "outputs": [],
   "source": [
    "cm_weather = all_weather[all_weather.stn_name == \"Chiang Mai\"]\n",
    "cm_weather.index = pd.DatetimeIndex(cm_weather.date)\n",
    "mask = (cm_weather.index > \"2003\") & (cm_weather.index < \"2016\")\n",
    "cm_weather = cm_weather[mask]\n",
    "\n",
    "provinces_df = pd.read_csv(\"all-dengues.csv\")\n",
    "provinces_df.index = pd.DatetimeIndex(provinces_df.date)\n",
    "provinces_df = provinces_df.drop(['date','date.1'],axis=1)\n",
    "cm_dengues = provinces_df[provinces_df['จังหวัด'] == 'ChiangMai'].resample('W').size()\n",
    "cm_dengues_df = pd.DataFrame(cm_dengues,columns=['cases'])"
   ]
  },
  {
   "cell_type": "code",
   "execution_count": 5,
   "metadata": {
    "collapsed": true
   },
   "outputs": [],
   "source": [
    "cm_avg_weather = cm_weather[['avgrh','dday','meantemp']].resample('W').mean()\n",
    "cm_avg_weather['rain'] = cm_weather[['rain']].resample('W').sum() # cumulative rainfall\n",
    "cm_dengues_weather = pd.concat([cm_avg_weather,cm_dengues_df[:-52]],axis=1)\n",
    "\n",
    "cm_dengues_weather_split = split_data(cm_dengues_weather)\n",
    "cm_dengues_train, cm_dengues_test = cm_dengues_weather_split[0], cm_dengues_weather_split[1]"
   ]
  },
  {
   "cell_type": "code",
   "execution_count": 6,
   "metadata": {
    "collapsed": true
   },
   "outputs": [],
   "source": [
    "def make_line(start_week,real,predictions,title,x_axis,y_axis,\n",
    "              real_legend='Real',predict_legend='Prediction'):\n",
    "    plt.figure(figsize=(12,6))\n",
    "    plt.plot(range(len(real)),real,'-r',label=real_legend)\n",
    "    plt.plot(range(start_week,len(predictions)+start_week),predictions,'-k',label=predict_legend,alpha=0.4)\n",
    "    plt.axvline(start_week)\n",
    "    plt.text((start_week*2)+10,300,'Prediction Start',horizontalalignment='center',verticalalignment='center')\n",
    "    plt.xlabel(x_axis)\n",
    "    plt.ylabel(y_axis)\n",
    "    plt.legend()\n",
    "    plt.title(title)\n",
    "    \n",
    "def plot_all_predictions(LAG, real, province, nweeks_to_predict, all_predictions):\n",
    "    \n",
    "    plt.figure(figsize=(13,6))\n",
    "    plt.plot(range(len(real)),real,label='real')\n",
    "    graph_title = \"%s's Dengue Prediction with Mean Temperature\"%province\n",
    "    plt.title(graph_title)\n",
    "    for i in range(len(all_predictions)):\n",
    "        cur_week_guess = nweeks_to_predict[i]\n",
    "        start_predict_week = LAG+(cur_week_guess-1)\n",
    "        predicted_cases = all_predictions[i]\n",
    "        x_weeks = range(start_predict_week,len(predicted_cases)+start_predict_week)\n",
    "        line_label = \"%d week guess\"%cur_week_guess\n",
    "        plt.plot(x_weeks,predicted_cases,label=line_label,alpha=0.8)\n",
    "    \n",
    "    seperate_train_test(cm_dengues_df.cases,cm_dengues_train)\n",
    "    plt.axvline(LAG)\n",
    "    plt.text((LAG*2)+10,300,'Prediction Start',horizontalalignment='center',verticalalignment='center')\n",
    "    plt.xlabel(\"# week starting 2003\")\n",
    "    plt.ylabel(\"Dengue cases\")\n",
    "    plt.legend()\n",
    "    plt.savefig(\"16-lags-16-weeks-9-temp-wks-chiangmai-00.png\")\n",
    "    \n",
    "def seperate_train_test(all_data,train_data):\n",
    "    plt.axvspan(0, len(train_data), color='blue', alpha=0.1)\n",
    "    plt.text((len(train_data)/2)-25,700,'Train Period',size=16)\n",
    "    plt.axvline(len(train_data)+1,linewidth=0.5, color='green')\n",
    "    plt.text(len(train_data)+20,700,'Test Period',size=16)\n",
    "    plt.axvspan(len(train_data)+1, len(all_data), color='green', alpha=0.1)"
   ]
  },
  {
   "cell_type": "code",
   "execution_count": 19,
   "metadata": {
    "collapsed": true,
    "scrolled": true
   },
   "outputs": [],
   "source": [
    "import multiprocessing as mp\n",
    "from multiprocessing import Process, Queue\n",
    "\n",
    "# Define an output queue\n",
    "output = Queue()\n",
    "\n",
    "# def validate\n",
    "\n",
    "# def compute_ret(temp):\n",
    "#     for i in range(int(1e5)): pass\n",
    "#     return temp/2.\n",
    "\n",
    "\n",
    "ws_csv = np.array(pd.read_csv(\"best-for-21-lags-ws.csv\").T)[0]\n",
    "    \n",
    "def validation(LAG, TEMPERATURE_WEEKS, RAIN_WEEKS, train, real, output):\n",
    "                                    # get_alphas takes 4 args, if theres no input csv\n",
    "    alphas = weather_alphas.get_alphas(LAG, TEMPERATURE_WEEKS, RAIN_WEEKS, train, ws_csv)\n",
    "                                    # get_predictions takes 6 args\n",
    "    predictions_to_validate = prediction.get_predictions(LAG, TEMPERATURE_WEEKS, RAIN_WEEKS, real, alphas.x, \"CM\")\n",
    "                                    # get_validations takes 3 argsg\n",
    "    validated_result = validate.get_validations(LAG, predictions_to_validate, real)\n",
    "    output.put((LAG,validated_result,alphas.x)) # add in ws as well alphas.x\n"
   ]
  },
  {
   "cell_type": "code",
   "execution_count": null,
   "metadata": {
    "collapsed": true
   },
   "outputs": [
    {
     "name": "stdout",
     "output_type": "stream",
     "text": [
      "43\n",
      "44\n",
      "bnds 43\n",
      "bnds 44\n",
      "prev_ws 45\n",
      "ws_csv\n",
      "ws_csv\n",
      "45\n",
      "prev_ws 43\n",
      "46\n",
      "bnds 45\n",
      "bnds 46\n",
      "ws_csv\n",
      "ws_csv\n",
      "prev_ws 46\n",
      "prev_ws 44\n",
      "47\n",
      "48\n",
      "50\n",
      "bnds 50\n",
      "bnds 48\n",
      "51\n",
      "49\n",
      "ws_csv\n",
      "ws_csv\n",
      "bnds 47\n",
      "prev_ws 50\n",
      "prev_ws 48\n",
      "bnds 49\n",
      "bnds 51\n",
      "ws_csv\n",
      "ws_csv\n",
      "prev_ws 51\n",
      "prev_ws 47\n",
      "ws_csv\n",
      "prev_ws 49\n"
     ]
    }
   ],
   "source": [
    "%%time\n",
    "# Setup a list of processes that we want to run\n",
    "train = cm_dengues_train\n",
    "real = cm_dengues_weather\n",
    "processes = [Process(target=validation, args=(weeks, 9, 10, train, real, output)) for weeks in range(19,28)]\n",
    "\n",
    "# Run processes\n",
    "for p in processes:\n",
    "    p.start()\n",
    "\n",
    "# Exit the completed processes\n",
    "for p in processes:\n",
    "    p.join()\n",
    "\n",
    "# Get process results from the output queue\n",
    "results = [output.get() for p in processes]\n",
    "\n",
    "print(results)"
   ]
  },
  {
   "cell_type": "code",
   "execution_count": 10,
   "metadata": {
    "collapsed": false
   },
   "outputs": [
    {
     "name": "stdout",
     "output_type": "stream",
     "text": [
      "2299.5581899\n"
     ]
    }
   ],
   "source": [
    "def get_best(validations):\n",
    "    idx = None\n",
    "    best_so_far = validations[0][1][-1]\n",
    "    print best_so_far\n",
    "    for i in range(len(validations)):\n",
    "        cur_validation = validations[i][1]\n",
    "#         print cur_validation\n",
    "        if cur_validation[0] <= best_so_far:\n",
    "            best_so_far = cur_validation[0]\n",
    "            idx = i\n",
    "    return validations[idx]\n",
    "        \n",
    "    \n",
    "best_param = get_best(results)"
   ]
  },
  {
   "cell_type": "code",
   "execution_count": 11,
   "metadata": {
    "collapsed": true
   },
   "outputs": [
    {
     "data": {
      "text/plain": [
       "(21,\n",
       " [166.85156662978127,\n",
       "  292.08981300795017,\n",
       "  564.36657359209823,\n",
       "  1035.0747400172374,\n",
       "  1527.0827702719544],\n",
       " array([  7.71015438e-01,   0.00000000e+00,   1.52370530e-03,\n",
       "          0.00000000e+00,   5.31392493e-02,   1.35030649e-01,\n",
       "          6.92165714e-05,   2.80015059e-05,   4.44525305e-06,\n",
       "          2.68477229e-06,   1.99995288e-06,   2.12478072e-06,\n",
       "          2.09810615e-06,   1.20135864e-06,   5.25325478e-07,\n",
       "          8.53575139e-07,   2.25703514e-07,   2.91735322e-07,\n",
       "          3.80337909e-07,   3.78992920e-08,   1.30146070e-08,\n",
       "          5.33704240e-01,   1.30338530e+00,   1.14734996e+01,\n",
       "          2.92601035e-01,   1.15981060e-01,   8.54652738e-02,\n",
       "          1.13036071e-01,   5.54779729e-02,   6.25187499e-02,\n",
       "         -3.73418462e-02,  -2.85982794e-01,  -3.79565438e-02,\n",
       "         -1.56748221e-01,   3.43701332e-01,   3.41783500e-02,\n",
       "          3.57185012e-02,  -2.67238368e-02,   1.74774433e-02,\n",
       "          8.65917163e-03,   2.46997964e-02,   3.56501205e-02,\n",
       "          1.74323266e-02,  -3.03576168e-02,  -5.30104636e-02]))"
      ]
     },
     "execution_count": 11,
     "metadata": {},
     "output_type": "execute_result"
    }
   ],
   "source": [
    "best_param"
   ]
  },
  {
   "cell_type": "code",
   "execution_count": 17,
   "metadata": {
    "collapsed": true
   },
   "outputs": [
    {
     "data": {
      "text/plain": [
       "array([  7.71015438e-01,   0.00000000e+00,   1.52370530e-03,\n",
       "         0.00000000e+00,   5.31392493e-02,   1.35030649e-01,\n",
       "         6.92165714e-05,   2.80015059e-05,   4.44525305e-06,\n",
       "         2.68477229e-06,   1.99995288e-06,   2.12478072e-06,\n",
       "         2.09810615e-06,   1.20135864e-06,   5.25325478e-07,\n",
       "         8.53575139e-07,   2.25703514e-07,   2.91735322e-07,\n",
       "         3.80337909e-07,   3.78992920e-08,   1.30146070e-08,\n",
       "         5.33704240e-01,   1.30338530e+00,   1.14734996e+01,\n",
       "         2.92601035e-01,   1.15981060e-01,   8.54652738e-02,\n",
       "         1.13036071e-01,   5.54779729e-02,   6.25187499e-02,\n",
       "        -3.73418462e-02,  -2.85982794e-01,  -3.79565438e-02,\n",
       "        -1.56748221e-01,   3.43701332e-01,   3.41783500e-02,\n",
       "         3.57185012e-02,  -2.67238368e-02,   1.74774433e-02,\n",
       "         8.65917163e-03,   2.46997964e-02,   3.56501205e-02,\n",
       "         1.74323266e-02,  -3.03576168e-02,  -5.30104636e-02])"
      ]
     },
     "execution_count": 17,
     "metadata": {},
     "output_type": "execute_result"
    }
   ],
   "source": [
    "# pd.DataFrame(best_param[2]).to_csv(\"best-for-21-lags-ws.csv\",index=False)\n",
    "# np.array(pd.read_csv(\"best-for-21-lags-ws.csv\").T)[0]"
   ]
  },
  {
   "cell_type": "code",
   "execution_count": 147,
   "metadata": {
    "collapsed": false
   },
   "outputs": [
    {
     "name": "stdout",
     "output_type": "stream",
     "text": [
      "les\n"
     ]
    },
    {
     "data": {
      "text/plain": [
       "19"
      ]
     },
     "execution_count": 147,
     "metadata": {},
     "output_type": "execute_result"
    }
   ],
   "source": [
    "# # pd.DataFrame(best_param[2]).to_csv(\"best-for-18-lags-ws.csv\",index=False)\n",
    "\n",
    "# lg = [16,17,18,20,22]\n",
    "# a = np.array(pd.read_csv(\"best-for-18-lags-ws.csv\").T)[0]\n",
    "\n",
    "# # for i in lg:\n",
    "# #     if i == len(a):\n",
    "# #         arr = a\n",
    "# #         print len(arr)\n",
    "# #     elif i < len(a):\n",
    "# #         arr = a[:-(18-i)]\n",
    "# #         print len(arr)\n",
    "# #     else:\n",
    "# #         mean_val = 1/float(i)\n",
    "# #         arr = np.append(a,[mean_val]*(i-len(a)))\n",
    "# #         print arr\n",
    "        \n",
    "# def ws_helper(LAG, ws, 18):\n",
    "#     n_ws = len(ws)\n",
    "#     if LAG == n_ws:\n",
    "#         print \"eq\"\n",
    "#         arr = ws[:LAG+1]\n",
    "#     elif LAG < n_ws:\n",
    "#         print \"les\"\n",
    "#         arr = ws[:-(n_ws - LAG + 1)]\n",
    "#     else:\n",
    "#         print \"else\"\n",
    "#         tail = (LAG - n_ws) - 1\n",
    "#         mean_val = 1/(float(LAG)*tail)\n",
    "#         arr = np.append(ws,[mean_val]*tail)\n",
    "#     return arr\n",
    "\n",
    "# len(ws_helper(20,a))"
   ]
  },
  {
   "cell_type": "code",
   "execution_count": 69,
   "metadata": {
    "collapsed": true
   },
   "outputs": [
    {
     "ename": "NameError",
     "evalue": "name 'compute_ret' is not defined",
     "output_type": "error",
     "traceback": [
      "\u001b[0;31m---------------------------------------------------------------------------\u001b[0m",
      "\u001b[0;31mNameError\u001b[0m                                 Traceback (most recent call last)",
      "\u001b[0;32m<ipython-input-69-0d7a799813d4>\u001b[0m in \u001b[0;36m<module>\u001b[0;34m()\u001b[0m\n\u001b[0;32m----> 1\u001b[0;31m \u001b[0mget_ipython\u001b[0m\u001b[0;34m(\u001b[0m\u001b[0;34m)\u001b[0m\u001b[0;34m.\u001b[0m\u001b[0mrun_cell_magic\u001b[0m\u001b[0;34m(\u001b[0m\u001b[0;34mu'time'\u001b[0m\u001b[0;34m,\u001b[0m \u001b[0;34mu''\u001b[0m\u001b[0;34m,\u001b[0m \u001b[0;34mu'[compute_ret(temp.get_alphas(i,9,10)) for i in range(16,26)]'\u001b[0m\u001b[0;34m)\u001b[0m\u001b[0;34m\u001b[0m\u001b[0m\n\u001b[0m",
      "\u001b[0;32m/home/senior-project/.local/lib/python2.7/site-packages/IPython/core/interactiveshell.pyc\u001b[0m in \u001b[0;36mrun_cell_magic\u001b[0;34m(self, magic_name, line, cell)\u001b[0m\n\u001b[1;32m   2115\u001b[0m             \u001b[0mmagic_arg_s\u001b[0m \u001b[0;34m=\u001b[0m \u001b[0mself\u001b[0m\u001b[0;34m.\u001b[0m\u001b[0mvar_expand\u001b[0m\u001b[0;34m(\u001b[0m\u001b[0mline\u001b[0m\u001b[0;34m,\u001b[0m \u001b[0mstack_depth\u001b[0m\u001b[0;34m)\u001b[0m\u001b[0;34m\u001b[0m\u001b[0m\n\u001b[1;32m   2116\u001b[0m             \u001b[0;32mwith\u001b[0m \u001b[0mself\u001b[0m\u001b[0;34m.\u001b[0m\u001b[0mbuiltin_trap\u001b[0m\u001b[0;34m:\u001b[0m\u001b[0;34m\u001b[0m\u001b[0m\n\u001b[0;32m-> 2117\u001b[0;31m                 \u001b[0mresult\u001b[0m \u001b[0;34m=\u001b[0m \u001b[0mfn\u001b[0m\u001b[0;34m(\u001b[0m\u001b[0mmagic_arg_s\u001b[0m\u001b[0;34m,\u001b[0m \u001b[0mcell\u001b[0m\u001b[0;34m)\u001b[0m\u001b[0;34m\u001b[0m\u001b[0m\n\u001b[0m\u001b[1;32m   2118\u001b[0m             \u001b[0;32mreturn\u001b[0m \u001b[0mresult\u001b[0m\u001b[0;34m\u001b[0m\u001b[0m\n\u001b[1;32m   2119\u001b[0m \u001b[0;34m\u001b[0m\u001b[0m\n",
      "\u001b[0;32m<decorator-gen-60>\u001b[0m in \u001b[0;36mtime\u001b[0;34m(self, line, cell, local_ns)\u001b[0m\n",
      "\u001b[0;32m/home/senior-project/.local/lib/python2.7/site-packages/IPython/core/magic.pyc\u001b[0m in \u001b[0;36m<lambda>\u001b[0;34m(f, *a, **k)\u001b[0m\n\u001b[1;32m    186\u001b[0m     \u001b[0;31m# but it's overkill for just that one bit of state.\u001b[0m\u001b[0;34m\u001b[0m\u001b[0;34m\u001b[0m\u001b[0m\n\u001b[1;32m    187\u001b[0m     \u001b[0;32mdef\u001b[0m \u001b[0mmagic_deco\u001b[0m\u001b[0;34m(\u001b[0m\u001b[0marg\u001b[0m\u001b[0;34m)\u001b[0m\u001b[0;34m:\u001b[0m\u001b[0;34m\u001b[0m\u001b[0m\n\u001b[0;32m--> 188\u001b[0;31m         \u001b[0mcall\u001b[0m \u001b[0;34m=\u001b[0m \u001b[0;32mlambda\u001b[0m \u001b[0mf\u001b[0m\u001b[0;34m,\u001b[0m \u001b[0;34m*\u001b[0m\u001b[0ma\u001b[0m\u001b[0;34m,\u001b[0m \u001b[0;34m**\u001b[0m\u001b[0mk\u001b[0m\u001b[0;34m:\u001b[0m \u001b[0mf\u001b[0m\u001b[0;34m(\u001b[0m\u001b[0;34m*\u001b[0m\u001b[0ma\u001b[0m\u001b[0;34m,\u001b[0m \u001b[0;34m**\u001b[0m\u001b[0mk\u001b[0m\u001b[0;34m)\u001b[0m\u001b[0;34m\u001b[0m\u001b[0m\n\u001b[0m\u001b[1;32m    189\u001b[0m \u001b[0;34m\u001b[0m\u001b[0m\n\u001b[1;32m    190\u001b[0m         \u001b[0;32mif\u001b[0m \u001b[0mcallable\u001b[0m\u001b[0;34m(\u001b[0m\u001b[0marg\u001b[0m\u001b[0;34m)\u001b[0m\u001b[0;34m:\u001b[0m\u001b[0;34m\u001b[0m\u001b[0m\n",
      "\u001b[0;32m/home/senior-project/.local/lib/python2.7/site-packages/IPython/core/magics/execution.pyc\u001b[0m in \u001b[0;36mtime\u001b[0;34m(self, line, cell, local_ns)\u001b[0m\n\u001b[1;32m   1179\u001b[0m         \u001b[0;32mif\u001b[0m \u001b[0mmode\u001b[0m\u001b[0;34m==\u001b[0m\u001b[0;34m'eval'\u001b[0m\u001b[0;34m:\u001b[0m\u001b[0;34m\u001b[0m\u001b[0m\n\u001b[1;32m   1180\u001b[0m             \u001b[0mst\u001b[0m \u001b[0;34m=\u001b[0m \u001b[0mclock2\u001b[0m\u001b[0;34m(\u001b[0m\u001b[0;34m)\u001b[0m\u001b[0;34m\u001b[0m\u001b[0m\n\u001b[0;32m-> 1181\u001b[0;31m             \u001b[0mout\u001b[0m \u001b[0;34m=\u001b[0m \u001b[0meval\u001b[0m\u001b[0;34m(\u001b[0m\u001b[0mcode\u001b[0m\u001b[0;34m,\u001b[0m \u001b[0mglob\u001b[0m\u001b[0;34m,\u001b[0m \u001b[0mlocal_ns\u001b[0m\u001b[0;34m)\u001b[0m\u001b[0;34m\u001b[0m\u001b[0m\n\u001b[0m\u001b[1;32m   1182\u001b[0m             \u001b[0mend\u001b[0m \u001b[0;34m=\u001b[0m \u001b[0mclock2\u001b[0m\u001b[0;34m(\u001b[0m\u001b[0;34m)\u001b[0m\u001b[0;34m\u001b[0m\u001b[0m\n\u001b[1;32m   1183\u001b[0m         \u001b[0;32melse\u001b[0m\u001b[0;34m:\u001b[0m\u001b[0;34m\u001b[0m\u001b[0m\n",
      "\u001b[0;32m<timed eval>\u001b[0m in \u001b[0;36m<module>\u001b[0;34m()\u001b[0m\n",
      "\u001b[0;31mNameError\u001b[0m: name 'compute_ret' is not defined"
     ]
    }
   ],
   "source": [
    "%%time\n",
    "[compute_ret(temp.get_alphas(i,9,10)) for i in range(16,26)]"
   ]
  },
  {
   "cell_type": "code",
   "execution_count": null,
   "metadata": {
    "collapsed": true
   },
   "outputs": [],
   "source": []
  }
 ],
 "metadata": {
  "anaconda-cloud": {},
  "kernelspec": {
   "display_name": "Python [default]",
   "language": "python",
   "name": "python2"
  },
  "language_info": {
   "codemirror_mode": {
    "name": "ipython",
    "version": 2
   },
   "file_extension": ".py",
   "mimetype": "text/x-python",
   "name": "python",
   "nbconvert_exporter": "python",
   "pygments_lexer": "ipython2",
   "version": "2.7.13"
  }
 },
 "nbformat": 4,
 "nbformat_minor": 1
}
