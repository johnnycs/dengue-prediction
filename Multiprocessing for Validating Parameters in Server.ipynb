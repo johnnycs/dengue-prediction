{
 "cells": [
  {
   "cell_type": "code",
   "execution_count": 1,
   "metadata": {
    "scrolled": true
   },
   "outputs": [
    {
     "name": "stdout",
     "output_type": "stream",
     "text": [
      "running model\n",
      "getting cost from nweek ahead\n",
      "getting bounded alphas ...\n",
      "done getting alphas ...\n",
      "running model\n"
     ]
    }
   ],
   "source": [
    "%matplotlib inline\n",
    "import pandas as pd\n",
    "import numpy as np\n",
    "import matplotlib.pyplot as plt\n",
    "import datetime\n",
    "from dateutil.relativedelta import relativedelta\n",
    "from scipy.special import expit\n",
    "from scipy.optimize import fmin, minimize\n",
    "import glob as glob\n",
    "import matplotlib\n",
    "matplotlib.style.use('ggplot')\n",
    "\n",
    "# .py\n",
    "%load_ext autoreload\n",
    "%autoreload 2\n",
    "import weather_alphas, weather_costs, model, model_01, validate, prediction"
   ]
  },
  {
   "cell_type": "code",
   "execution_count": 2,
   "metadata": {
    "collapsed": true
   },
   "outputs": [],
   "source": [
    "def split_data(data):\n",
    "    train_mask = (data.index < \"2011\")\n",
    "    train = data[train_mask]\n",
    "    test_mask = (data.index > \"2011\")\n",
    "    test = data[test_mask]\n",
    "    return train, test"
   ]
  },
  {
   "cell_type": "code",
   "execution_count": 3,
   "metadata": {
    "collapsed": true
   },
   "outputs": [],
   "source": [
    "all_weather = pd.read_csv(\"weather01-16.csv\")"
   ]
  },
  {
   "cell_type": "code",
   "execution_count": 4,
   "metadata": {
    "collapsed": true
   },
   "outputs": [],
   "source": [
    "cm_weather = all_weather[all_weather.stn_name == \"Chiang Mai\"]\n",
    "cm_weather.index = pd.DatetimeIndex(cm_weather.date)\n",
    "mask = (cm_weather.index > \"2003\") & (cm_weather.index < \"2016\")\n",
    "cm_weather = cm_weather[mask]\n",
    "\n",
    "provinces_df = pd.read_csv(\"all-dengues.csv\")\n",
    "provinces_df.index = pd.DatetimeIndex(provinces_df.date)\n",
    "provinces_df = provinces_df.drop(['date','date.1'],axis=1)\n",
    "cm_dengues = provinces_df[provinces_df['จังหวัด'] == 'ChiangMai'].resample('W').size()\n",
    "cm_dengues_df = pd.DataFrame(cm_dengues,columns=['cases'])"
   ]
  },
  {
   "cell_type": "code",
   "execution_count": 5,
   "metadata": {
    "collapsed": true
   },
   "outputs": [],
   "source": [
    "cm_avg_weather = cm_weather[['avgrh','dday','meantemp']].resample('W').mean()\n",
    "cm_avg_weather['rain'] = cm_weather[['rain']].resample('W').sum() # cumulative rainfall\n",
    "cm_dengues_weather = pd.concat([cm_avg_weather,cm_dengues_df[:-52]],axis=1)\n",
    "\n",
    "cm_dengues_weather_split = split_data(cm_dengues_weather)\n",
    "cm_dengues_train, cm_dengues_test = cm_dengues_weather_split[0], cm_dengues_weather_split[1]"
   ]
  },
  {
   "cell_type": "code",
   "execution_count": 6,
   "metadata": {
    "collapsed": true
   },
   "outputs": [],
   "source": [
    "def make_line(start_week,real,predictions,title,x_axis,y_axis,\n",
    "              real_legend='Real',predict_legend='Prediction'):\n",
    "    plt.figure(figsize=(12,6))\n",
    "    plt.plot(range(len(real)),real,'-r',label=real_legend)\n",
    "    plt.plot(range(start_week,len(predictions)+start_week),predictions,'-k',label=predict_legend,alpha=0.4)\n",
    "    plt.axvline(start_week)\n",
    "    plt.text((start_week*2)+10,300,'Prediction Start',horizontalalignment='center',verticalalignment='center')\n",
    "    plt.xlabel(x_axis)\n",
    "    plt.ylabel(y_axis)\n",
    "    plt.legend()\n",
    "    plt.title(title)\n",
    "    \n",
    "def plot_all_predictions(LAG, real, province, nweeks_to_predict, all_predictions):\n",
    "    \n",
    "    plt.figure(figsize=(13,6))\n",
    "    plt.plot(range(len(real)),real,label='real')\n",
    "    graph_title = \"%s's Dengue Prediction with Mean Temperature\"%province\n",
    "    plt.title(graph_title)\n",
    "    for i in range(len(all_predictions)):\n",
    "        cur_week_guess = nweeks_to_predict[i]\n",
    "        start_predict_week = LAG+(cur_week_guess-1)\n",
    "        predicted_cases = all_predictions[i]\n",
    "        x_weeks = range(start_predict_week,len(predicted_cases)+start_predict_week)\n",
    "        line_label = \"%d week guess\"%cur_week_guess\n",
    "        plt.plot(x_weeks,predicted_cases,label=line_label,alpha=0.8)\n",
    "    \n",
    "    seperate_train_test(cm_dengues_df.cases,cm_dengues_train)\n",
    "    plt.axvline(LAG)\n",
    "    plt.text((LAG*2)+10,300,'Prediction Start',horizontalalignment='center',verticalalignment='center')\n",
    "    plt.xlabel(\"# week starting 2003\")\n",
    "    plt.ylabel(\"Dengue cases\")\n",
    "    plt.legend()\n",
    "    plt.savefig(\"16-lags-16-weeks-9-temp-wks-chiangmai-00.png\")\n",
    "    \n",
    "def seperate_train_test(all_data,train_data):\n",
    "    plt.axvspan(0, len(train_data), color='blue', alpha=0.1)\n",
    "    plt.text((len(train_data)/2)-25,700,'Train Period',size=16)\n",
    "    plt.axvline(len(train_data)+1,linewidth=0.5, color='green')\n",
    "    plt.text(len(train_data)+20,700,'Test Period',size=16)\n",
    "    plt.axvspan(len(train_data)+1, len(all_data), color='green', alpha=0.1)"
   ]
  },
  {
   "cell_type": "code",
   "execution_count": 19,
   "metadata": {
    "collapsed": true,
    "scrolled": true
   },
   "outputs": [],
   "source": [
    "import multiprocessing as mp\n",
    "from multiprocessing import Process, Queue\n",
    "\n",
    "# Define an output queue\n",
    "output = Queue()\n",
    "\n",
    "# def validate\n",
    "\n",
    "# def compute_ret(temp):\n",
    "#     for i in range(int(1e5)): pass\n",
    "#     return temp/2.\n",
    "\n",
    "\n",
    "ws_csv = np.array(pd.read_csv(\"best-for-21-lags-ws.csv\").T)[0]\n",
    "    \n",
    "def validation(LAG, TEMPERATURE_WEEKS, RAIN_WEEKS, train, real, output):\n",
    "                                    # get_alphas takes 4 args, if theres no input csv\n",
    "    alphas = weather_alphas.get_alphas(LAG, TEMPERATURE_WEEKS, RAIN_WEEKS, train, ws_csv)\n",
    "                                    # get_predictions takes 6 args\n",
    "    predictions_to_validate = prediction.get_predictions(LAG, TEMPERATURE_WEEKS, RAIN_WEEKS, real, alphas.x, \"CM\")\n",
    "                                    # get_validations takes 3 argsg\n",
    "    validated_result = validate.get_validations(LAG, predictions_to_validate, real)\n",
    "    output.put((LAG,validated_result,alphas.x)) # add in ws as well alphas.x\n"
   ]
  },
  {
   "cell_type": "code",
   "execution_count": 20,
   "metadata": {
    "collapsed": true
   },
   "outputs": [
    {
     "name": "stdout",
     "output_type": "stream",
     "text": [
      "43\n",
      "44\n",
      "bnds 43\n",
      "bnds 44\n",
      "prev_ws 45\n",
      "ws_csv\n",
      "ws_csv\n",
      "45\n",
      "prev_ws 43\n",
      "46\n",
      "bnds 45\n",
      "bnds 46\n",
      "ws_csv\n",
      "ws_csv\n",
      "prev_ws 46\n",
      "prev_ws 44\n",
      "47\n",
      "48\n",
      "50\n",
      "bnds 50\n",
      "bnds 48\n",
      "51\n",
      "49\n",
      "ws_csv\n",
      "ws_csv\n",
      "bnds 47\n",
      "prev_ws 50\n",
      "prev_ws 48\n",
      "bnds 49\n",
      "bnds 51\n",
      "ws_csv\n",
      "ws_csv\n",
      "prev_ws 51\n",
      "prev_ws 47\n",
      "ws_csv\n",
      "prev_ws 49\n",
      "[(27, [435.25986202523751, 590.23980851332703, 904.25600831530176, 1408.5005904439438, 1658.8742913763524], array([  2.14187686e+00,   3.14603851e-06,   4.46182098e-01,\n",
      "         1.42965726e-06,   4.80822642e-08,   4.06330599e-08,\n",
      "         2.92177000e-08,   4.44109460e-08,   3.74697787e-08,\n",
      "         6.47118004e-08,   0.00000000e+00,   4.79766328e-09,\n",
      "         3.58420472e-09,   2.17255222e-09,   6.39649996e-09,\n",
      "         4.77253373e-10,   4.44516108e-09,   1.44972033e-12,\n",
      "         4.35649083e-09,   7.04162277e-10,   7.93815721e-10,\n",
      "         2.32549263e-02,   1.95854639e-09,   1.40744456e-09,\n",
      "         2.66955130e-01,   3.20717237e-01,   2.76244624e-01,\n",
      "         3.72358267e-01,   2.70025198e-01,   1.75680669e+01,\n",
      "         2.77993278e-01,   1.74139746e-02,  -6.33999235e-03,\n",
      "         5.94211859e-03,  -5.68623304e-04,   1.56454388e-02,\n",
      "        -7.69013234e-03,   5.69860381e-03,  -2.20177283e-02,\n",
      "        -1.97732060e-02,   7.09561651e-02,   5.69160652e-01,\n",
      "         4.00719083e-01,   2.55938983e-01,   1.22037695e-01,\n",
      "         2.66228954e-02,  -4.12178513e-02,  -1.11917767e-01,\n",
      "        -1.51380113e-01,  -2.02503392e-01,  -2.59545592e-01])), (23, [291.63288969654627, 581.7754042096617, 1101.0094333864836, 1675.3789913983169, 1855.2688462892725], array([  1.61206729e+00,   2.71048129e-09,   1.46883727e-02,\n",
      "         1.20679233e-08,   1.24155543e-01,   0.00000000e+00,\n",
      "         0.00000000e+00,   1.40203483e-09,   0.00000000e+00,\n",
      "         9.00812337e-10,   0.00000000e+00,   0.00000000e+00,\n",
      "         0.00000000e+00,   0.00000000e+00,   0.00000000e+00,\n",
      "         0.00000000e+00,   0.00000000e+00,   0.00000000e+00,\n",
      "         8.95637437e-07,   0.00000000e+00,   0.00000000e+00,\n",
      "         0.00000000e+00,   1.13229516e-02,   5.94810115e-01,\n",
      "         6.91587617e-01,   1.94311859e+01,   1.88692420e-02,\n",
      "         6.07019310e-02,   1.35941184e-02,   1.83785108e-02,\n",
      "         1.99940065e-02,   1.89858178e-02,   6.12686531e-03,\n",
      "        -2.59509447e-02,  -4.50460183e-02,  -7.32120784e-02,\n",
      "         8.71977611e-02,   2.15787206e-01,   1.70972129e-01,\n",
      "         1.07377437e-01,   7.84583681e-02,   7.59733407e-02,\n",
      "         7.48767045e-02,   1.10931498e-01,   1.48996433e-01,\n",
      "         1.91204931e-01,   2.03549491e-01])), (19, [279.86321015014425, 387.5244147988027, 777.49255131349139, 1378.2818658384149, 1766.1304363046086], array([  1.10809165e+00,   6.18868503e-07,   1.08576352e-06,\n",
      "         2.29391453e-07,   9.39321080e-08,   5.91617007e-09,\n",
      "         3.43668825e-09,   0.00000000e+00,   0.00000000e+00,\n",
      "         0.00000000e+00,   0.00000000e+00,   0.00000000e+00,\n",
      "         0.00000000e+00,   0.00000000e+00,   1.03863439e-08,\n",
      "         1.67343648e-08,   3.60982512e-08,   1.15135680e-08,\n",
      "         3.59531512e-01,   2.91306067e-01,  -1.50899357e+00,\n",
      "         1.59270171e+01,   4.03847232e-01,  -1.36608978e-03,\n",
      "        -8.82669987e-05,   1.95500992e-03,  -5.17996573e-03,\n",
      "        -8.67012727e-04,  -3.33195308e-03,  -1.83862592e-03,\n",
      "         1.51573379e-03,  -6.60740119e-03,   1.12043931e-01,\n",
      "         1.08866011e-01,  -4.46177902e-02,   1.02570619e-01,\n",
      "         1.07589430e-01,   2.33199576e-01,   2.01181696e-01,\n",
      "        -5.43747161e-01,   4.85006721e-01,   6.60078740e-01,\n",
      "        -7.59306162e-01])), (25, [569.17053741798384, 634.45298256466151, 1139.1962616550488, 1550.8062954726468, 1787.0697895482049], array([  2.62952261e+00,   8.40503422e-07,   4.10932221e-02,\n",
      "         3.40243265e-11,   2.80279389e-02,   4.38157791e-09,\n",
      "         3.18945870e-05,   2.33938130e-11,   6.99157986e-12,\n",
      "         4.20785508e-09,   8.55679250e-12,   3.24732367e-11,\n",
      "         4.21085280e-09,   4.16345894e-09,   4.86487589e-09,\n",
      "         4.95564864e-09,   4.48139453e-09,   4.18640698e-09,\n",
      "         3.94155326e-09,   6.01208702e-09,   1.18601298e-11,\n",
      "         1.01773462e-08,   4.92116640e-08,   4.49255491e-01,\n",
      "         2.60021828e-01,   2.01520743e-01,   4.42291316e-01,\n",
      "         1.85256525e+01,   2.90561365e-01,   1.22688125e-03,\n",
      "        -8.37364938e-04,  -4.81568646e-04,  -6.38869380e-04,\n",
      "        -1.74202545e-03,  -1.32100817e-03,  -2.17528642e-03,\n",
      "        -1.40281824e-03,  -3.51594010e-03,   1.05776512e-01,\n",
      "         1.13410024e+00,   8.32444347e-01,   5.48062884e-01,\n",
      "         2.62930336e-01,   4.31677239e-02,  -1.68137073e-01,\n",
      "        -3.72106661e-01,  -5.35636187e-01,  -7.36160691e-01,\n",
      "        -8.51993413e-01])), (24, [191.90307139300958, 350.44534732963587, 694.3272002272563, 1253.0491047467478, 1591.733077304159], array([  1.23129808e+00,   0.00000000e+00,   0.00000000e+00,\n",
      "         0.00000000e+00,   1.90536908e-01,   3.72484995e-06,\n",
      "         5.41089841e-06,   2.92530777e-05,   5.72864299e-05,\n",
      "         1.85322721e-04,   1.41386892e-04,   8.78758429e-05,\n",
      "         3.08694461e-04,   1.64494031e-04,   7.66725354e-05,\n",
      "         8.33410388e-06,   5.49649593e-06,   4.67019779e-06,\n",
      "         1.35719077e-05,   9.92734218e-06,   2.64465406e-06,\n",
      "         3.99473692e-07,   3.63543201e-06,   9.45801502e-07,\n",
      "         5.57859885e-01,  -1.11813055e+00,   1.47879428e+01,\n",
      "         1.49888670e-01,   4.86366621e-01,   2.32744265e-01,\n",
      "         2.63798450e-01,   1.51000438e-01,  -4.99163590e-02,\n",
      "        -1.15652545e-01,  -2.34769083e-01,  -2.96115518e-01,\n",
      "        -6.65884683e-01,   6.46204487e-01,  -6.48818500e-03,\n",
      "         5.41402953e-03,   1.68128085e-03,   4.94015204e-03,\n",
      "        -2.96789299e-03,   7.02010467e-03,  -5.32777279e-03,\n",
      "         1.84456095e-02,  -1.58144974e-03,   2.90753726e-03])), (20, [338.97674747255144, 352.79124973832063, 711.48492353928327, 1308.5659681583118, 1750.8007060173175], array([  1.66374794e+00,   7.43258831e-06,   3.72784860e-06,\n",
      "         2.22068831e-06,   8.05675703e-07,   1.93969270e-07,\n",
      "         2.03291941e-08,   8.54624537e-09,   0.00000000e+00,\n",
      "         0.00000000e+00,   0.00000000e+00,   0.00000000e+00,\n",
      "         0.00000000e+00,   0.00000000e+00,   0.00000000e+00,\n",
      "         1.99861336e-02,   7.18632865e-09,   0.00000000e+00,\n",
      "         3.16126236e-02,   5.91529626e-01,   1.32096179e-01,\n",
      "         7.50582517e-01,   1.52841894e+01,   3.68474848e-01,\n",
      "         6.19053087e-01,   4.57687244e-01,  -1.16246469e-02,\n",
      "        -4.77680118e-01,  -3.60271896e-01,  -1.90673448e-01,\n",
      "        -4.05467454e-01,   2.64798486e-01,   4.65884724e-02,\n",
      "         4.14151003e-01,  -2.51690075e-02,  -1.66437747e-02,\n",
      "         9.74104923e-03,  -1.30866062e-02,  -5.80081102e-02,\n",
      "         2.45359801e-02,   6.60028932e-02,  -2.93784520e-02,\n",
      "         3.23314281e-02,  -5.97447403e-02])), (22, [168.91992707941367, 294.43310789284749, 581.26512237331235, 1094.9170235268389, 1583.9765963195935], array([  1.06285782e+00,   3.18700091e-09,   7.32517050e-02,\n",
      "         2.47404558e-05,   1.80339246e-04,   4.42235741e-03,\n",
      "         8.05425584e-03,   1.40797148e-02,   3.70112369e-03,\n",
      "         5.80911759e-02,   2.59760472e-03,   8.49970251e-04,\n",
      "         1.75154465e-04,   7.70080825e-05,   2.34779063e-05,\n",
      "         9.25569626e-07,   2.78796997e-07,   8.92087310e-08,\n",
      "         5.36438747e-08,   1.10259113e-08,   3.72087335e-08,\n",
      "         1.67251300e-08,   4.45071577e-01,   1.78414402e+00,\n",
      "         1.14920133e+01,   5.28767936e-01,   2.91518901e-01,\n",
      "         1.39171499e-01,  -1.12398539e-01,  -1.24287564e-01,\n",
      "        -1.99536889e-01,   3.83116461e-02,  -4.25686363e-02,\n",
      "        -1.85499470e-01,  -3.30833805e-01,   5.49950430e-01,\n",
      "         6.64274568e-03,   2.89012569e-03,  -6.17473643e-06,\n",
      "         7.22101455e-04,   5.23957335e-03,  -5.45793794e-03,\n",
      "         4.71011960e-03,   3.31687058e-05,  -1.22100536e-03,\n",
      "        -5.51318494e-03])), (21, [225.77876648073334, 437.78539647146289, 876.88732260721201, 1475.1441865977683, 1764.9342267003749], array([  1.13475335e+00,   2.51094217e-08,   8.22696013e-02,\n",
      "         5.15916008e-11,   1.75564234e-08,   2.06477076e-10,\n",
      "         1.41252389e-10,   0.00000000e+00,   3.90714859e-12,\n",
      "         0.00000000e+00,   0.00000000e+00,   0.00000000e+00,\n",
      "         0.00000000e+00,   0.00000000e+00,   0.00000000e+00,\n",
      "         0.00000000e+00,   0.00000000e+00,   4.09717191e-12,\n",
      "         4.37565226e-07,   1.12488688e-08,   3.37370616e-07,\n",
      "         4.78982148e-01,   1.40217659e+00,   1.81744172e+01,\n",
      "         2.28802934e-01,   3.41949545e-04,  -3.68974676e-04,\n",
      "         2.27894264e-05,  -1.76552476e-03,  -1.35887707e-03,\n",
      "        -7.19443426e-04,  -4.90491812e-04,  -5.40050440e-04,\n",
      "        -4.01096560e-03,   7.47121158e-02,  -6.91348544e-01,\n",
      "        -2.99610932e-01,   1.42888022e-01,   2.04505778e-01,\n",
      "         2.73218122e-01,   1.69600844e-01,  -4.74931804e-01,\n",
      "        -8.37510946e-01,  -1.09632555e+00,  -8.90622273e-01])), (26, [392.56547756014504, 392.54045195481245, 776.64821908627914, 1352.9813842866861, 1678.9181849961965], array([  1.85245227e+00,   7.58255291e-05,   4.05710452e-01,\n",
      "         2.39171931e-07,   2.87410085e-04,   2.81734410e-09,\n",
      "         1.15956836e-08,   0.00000000e+00,   6.05310391e-09,\n",
      "         1.09736166e-09,   9.79558860e-10,   0.00000000e+00,\n",
      "         1.86635783e-09,   0.00000000e+00,   0.00000000e+00,\n",
      "         0.00000000e+00,   0.00000000e+00,   0.00000000e+00,\n",
      "         0.00000000e+00,   0.00000000e+00,   1.22364839e-09,\n",
      "         4.27374163e-09,   1.15634199e-08,   2.19565629e-08,\n",
      "         5.07467927e-03,   6.39154443e-01,   4.08998075e-06,\n",
      "        -3.49315098e-01,   1.71566842e+01,   7.16311224e-02,\n",
      "         1.71333570e-02,  -5.46747574e-03,  -3.95415106e-04,\n",
      "         9.62173278e-04,  -1.72574164e-03,  -1.50604332e-03,\n",
      "         2.09277744e-03,  -9.67379686e-03,  -5.15360859e-03,\n",
      "         1.69067784e-01,   1.50097123e-01,   2.37636631e-01,\n",
      "        -1.22356658e-01,  -1.06926601e-01,  -1.75607422e-01,\n",
      "        -3.52953925e-01,  -1.16990480e-01,   3.09507971e-01,\n",
      "         4.75605789e-01,   4.55384032e-01]))]\n",
      "CPU times: user 512 ms, sys: 236 ms, total: 748 ms\n",
      "Wall time: 6h 17s\n"
     ]
    }
   ],
   "source": [
    "%%time\n",
    "# Setup a list of processes that we want to run\n",
    "train = cm_dengues_train\n",
    "real = cm_dengues_weather\n",
    "processes = [Process(target=validation, args=(weeks, 9, 10, train, real, output)) for weeks in range(19,28)]\n",
    "\n",
    "# Run processes\n",
    "for p in processes:\n",
    "    p.start()\n",
    "\n",
    "# Exit the completed processes\n",
    "for p in processes:\n",
    "    p.join()\n",
    "\n",
    "# Get process results from the output queue\n",
    "results = [output.get() for p in processes]\n",
    "\n",
    "print(results)"
   ]
  },
  {
   "cell_type": "code",
   "execution_count": 21,
   "metadata": {},
   "outputs": [
    {
     "name": "stdout",
     "output_type": "stream",
     "text": [
      "1658.87429138\n"
     ]
    }
   ],
   "source": [
    "def get_best(validations):\n",
    "    idx = None\n",
    "    best_so_far = validations[0][1][-1]\n",
    "    print best_so_far\n",
    "    for i in range(len(validations)):\n",
    "        cur_validation = validations[i][1]\n",
    "#         print cur_validation\n",
    "        if cur_validation[0] <= best_so_far:\n",
    "            best_so_far = cur_validation[0]\n",
    "            idx = i\n",
    "    return validations[idx]\n",
    "        \n",
    "    \n",
    "best_param = get_best(results)"
   ]
  },
  {
   "cell_type": "code",
   "execution_count": 22,
   "metadata": {},
   "outputs": [
    {
     "data": {
      "text/plain": [
       "(22,\n",
       " [168.91992707941367,\n",
       "  294.43310789284749,\n",
       "  581.26512237331235,\n",
       "  1094.9170235268389,\n",
       "  1583.9765963195935],\n",
       " array([  1.06285782e+00,   3.18700091e-09,   7.32517050e-02,\n",
       "          2.47404558e-05,   1.80339246e-04,   4.42235741e-03,\n",
       "          8.05425584e-03,   1.40797148e-02,   3.70112369e-03,\n",
       "          5.80911759e-02,   2.59760472e-03,   8.49970251e-04,\n",
       "          1.75154465e-04,   7.70080825e-05,   2.34779063e-05,\n",
       "          9.25569626e-07,   2.78796997e-07,   8.92087310e-08,\n",
       "          5.36438747e-08,   1.10259113e-08,   3.72087335e-08,\n",
       "          1.67251300e-08,   4.45071577e-01,   1.78414402e+00,\n",
       "          1.14920133e+01,   5.28767936e-01,   2.91518901e-01,\n",
       "          1.39171499e-01,  -1.12398539e-01,  -1.24287564e-01,\n",
       "         -1.99536889e-01,   3.83116461e-02,  -4.25686363e-02,\n",
       "         -1.85499470e-01,  -3.30833805e-01,   5.49950430e-01,\n",
       "          6.64274568e-03,   2.89012569e-03,  -6.17473643e-06,\n",
       "          7.22101455e-04,   5.23957335e-03,  -5.45793794e-03,\n",
       "          4.71011960e-03,   3.31687058e-05,  -1.22100536e-03,\n",
       "         -5.51318494e-03]))"
      ]
     },
     "execution_count": 22,
     "metadata": {},
     "output_type": "execute_result"
    }
   ],
   "source": [
    "best_param"
   ]
  },
  {
   "cell_type": "code",
   "execution_count": 23,
   "metadata": {
    "collapsed": true
   },
   "outputs": [],
   "source": [
    "# pd.DataFrame(best_param[2]).to_csv(\"best-for-22-lags-ws.csv\",index=False)\n",
    "# np.array(pd.read_csv(\"best-for-21-lags-ws.csv\").T)[0]"
   ]
  },
  {
   "cell_type": "code",
   "execution_count": 147,
   "metadata": {},
   "outputs": [
    {
     "name": "stdout",
     "output_type": "stream",
     "text": [
      "les\n"
     ]
    },
    {
     "data": {
      "text/plain": [
       "19"
      ]
     },
     "execution_count": 147,
     "metadata": {},
     "output_type": "execute_result"
    }
   ],
   "source": [
    "# # pd.DataFrame(best_param[2]).to_csv(\"best-for-18-lags-ws.csv\",index=False)\n",
    "\n",
    "# lg = [16,17,18,20,22]\n",
    "# a = np.array(pd.read_csv(\"best-for-18-lags-ws.csv\").T)[0]\n",
    "\n",
    "# # for i in lg:\n",
    "# #     if i == len(a):\n",
    "# #         arr = a\n",
    "# #         print len(arr)\n",
    "# #     elif i < len(a):\n",
    "# #         arr = a[:-(18-i)]\n",
    "# #         print len(arr)\n",
    "# #     else:\n",
    "# #         mean_val = 1/float(i)\n",
    "# #         arr = np.append(a,[mean_val]*(i-len(a)))\n",
    "# #         print arr\n",
    "        \n",
    "# def ws_helper(LAG, ws, 18):\n",
    "#     n_ws = len(ws)\n",
    "#     if LAG == n_ws:\n",
    "#         print \"eq\"\n",
    "#         arr = ws[:LAG+1]\n",
    "#     elif LAG < n_ws:\n",
    "#         print \"les\"\n",
    "#         arr = ws[:-(n_ws - LAG + 1)]\n",
    "#     else:\n",
    "#         print \"else\"\n",
    "#         tail = (LAG - n_ws) - 1\n",
    "#         mean_val = 1/(float(LAG)*tail)\n",
    "#         arr = np.append(ws,[mean_val]*tail)\n",
    "#     return arr\n",
    "\n",
    "# len(ws_helper(20,a))"
   ]
  },
  {
   "cell_type": "code",
   "execution_count": 69,
   "metadata": {
    "collapsed": true
   },
   "outputs": [
    {
     "ename": "NameError",
     "evalue": "name 'compute_ret' is not defined",
     "output_type": "error",
     "traceback": [
      "\u001b[0;31m---------------------------------------------------------------------------\u001b[0m",
      "\u001b[0;31mNameError\u001b[0m                                 Traceback (most recent call last)",
      "\u001b[0;32m<ipython-input-69-0d7a799813d4>\u001b[0m in \u001b[0;36m<module>\u001b[0;34m()\u001b[0m\n\u001b[0;32m----> 1\u001b[0;31m \u001b[0mget_ipython\u001b[0m\u001b[0;34m(\u001b[0m\u001b[0;34m)\u001b[0m\u001b[0;34m.\u001b[0m\u001b[0mrun_cell_magic\u001b[0m\u001b[0;34m(\u001b[0m\u001b[0;34mu'time'\u001b[0m\u001b[0;34m,\u001b[0m \u001b[0;34mu''\u001b[0m\u001b[0;34m,\u001b[0m \u001b[0;34mu'[compute_ret(temp.get_alphas(i,9,10)) for i in range(16,26)]'\u001b[0m\u001b[0;34m)\u001b[0m\u001b[0;34m\u001b[0m\u001b[0m\n\u001b[0m",
      "\u001b[0;32m/home/senior-project/.local/lib/python2.7/site-packages/IPython/core/interactiveshell.pyc\u001b[0m in \u001b[0;36mrun_cell_magic\u001b[0;34m(self, magic_name, line, cell)\u001b[0m\n\u001b[1;32m   2115\u001b[0m             \u001b[0mmagic_arg_s\u001b[0m \u001b[0;34m=\u001b[0m \u001b[0mself\u001b[0m\u001b[0;34m.\u001b[0m\u001b[0mvar_expand\u001b[0m\u001b[0;34m(\u001b[0m\u001b[0mline\u001b[0m\u001b[0;34m,\u001b[0m \u001b[0mstack_depth\u001b[0m\u001b[0;34m)\u001b[0m\u001b[0;34m\u001b[0m\u001b[0m\n\u001b[1;32m   2116\u001b[0m             \u001b[0;32mwith\u001b[0m \u001b[0mself\u001b[0m\u001b[0;34m.\u001b[0m\u001b[0mbuiltin_trap\u001b[0m\u001b[0;34m:\u001b[0m\u001b[0;34m\u001b[0m\u001b[0m\n\u001b[0;32m-> 2117\u001b[0;31m                 \u001b[0mresult\u001b[0m \u001b[0;34m=\u001b[0m \u001b[0mfn\u001b[0m\u001b[0;34m(\u001b[0m\u001b[0mmagic_arg_s\u001b[0m\u001b[0;34m,\u001b[0m \u001b[0mcell\u001b[0m\u001b[0;34m)\u001b[0m\u001b[0;34m\u001b[0m\u001b[0m\n\u001b[0m\u001b[1;32m   2118\u001b[0m             \u001b[0;32mreturn\u001b[0m \u001b[0mresult\u001b[0m\u001b[0;34m\u001b[0m\u001b[0m\n\u001b[1;32m   2119\u001b[0m \u001b[0;34m\u001b[0m\u001b[0m\n",
      "\u001b[0;32m<decorator-gen-60>\u001b[0m in \u001b[0;36mtime\u001b[0;34m(self, line, cell, local_ns)\u001b[0m\n",
      "\u001b[0;32m/home/senior-project/.local/lib/python2.7/site-packages/IPython/core/magic.pyc\u001b[0m in \u001b[0;36m<lambda>\u001b[0;34m(f, *a, **k)\u001b[0m\n\u001b[1;32m    186\u001b[0m     \u001b[0;31m# but it's overkill for just that one bit of state.\u001b[0m\u001b[0;34m\u001b[0m\u001b[0;34m\u001b[0m\u001b[0m\n\u001b[1;32m    187\u001b[0m     \u001b[0;32mdef\u001b[0m \u001b[0mmagic_deco\u001b[0m\u001b[0;34m(\u001b[0m\u001b[0marg\u001b[0m\u001b[0;34m)\u001b[0m\u001b[0;34m:\u001b[0m\u001b[0;34m\u001b[0m\u001b[0m\n\u001b[0;32m--> 188\u001b[0;31m         \u001b[0mcall\u001b[0m \u001b[0;34m=\u001b[0m \u001b[0;32mlambda\u001b[0m \u001b[0mf\u001b[0m\u001b[0;34m,\u001b[0m \u001b[0;34m*\u001b[0m\u001b[0ma\u001b[0m\u001b[0;34m,\u001b[0m \u001b[0;34m**\u001b[0m\u001b[0mk\u001b[0m\u001b[0;34m:\u001b[0m \u001b[0mf\u001b[0m\u001b[0;34m(\u001b[0m\u001b[0;34m*\u001b[0m\u001b[0ma\u001b[0m\u001b[0;34m,\u001b[0m \u001b[0;34m**\u001b[0m\u001b[0mk\u001b[0m\u001b[0;34m)\u001b[0m\u001b[0;34m\u001b[0m\u001b[0m\n\u001b[0m\u001b[1;32m    189\u001b[0m \u001b[0;34m\u001b[0m\u001b[0m\n\u001b[1;32m    190\u001b[0m         \u001b[0;32mif\u001b[0m \u001b[0mcallable\u001b[0m\u001b[0;34m(\u001b[0m\u001b[0marg\u001b[0m\u001b[0;34m)\u001b[0m\u001b[0;34m:\u001b[0m\u001b[0;34m\u001b[0m\u001b[0m\n",
      "\u001b[0;32m/home/senior-project/.local/lib/python2.7/site-packages/IPython/core/magics/execution.pyc\u001b[0m in \u001b[0;36mtime\u001b[0;34m(self, line, cell, local_ns)\u001b[0m\n\u001b[1;32m   1179\u001b[0m         \u001b[0;32mif\u001b[0m \u001b[0mmode\u001b[0m\u001b[0;34m==\u001b[0m\u001b[0;34m'eval'\u001b[0m\u001b[0;34m:\u001b[0m\u001b[0;34m\u001b[0m\u001b[0m\n\u001b[1;32m   1180\u001b[0m             \u001b[0mst\u001b[0m \u001b[0;34m=\u001b[0m \u001b[0mclock2\u001b[0m\u001b[0;34m(\u001b[0m\u001b[0;34m)\u001b[0m\u001b[0;34m\u001b[0m\u001b[0m\n\u001b[0;32m-> 1181\u001b[0;31m             \u001b[0mout\u001b[0m \u001b[0;34m=\u001b[0m \u001b[0meval\u001b[0m\u001b[0;34m(\u001b[0m\u001b[0mcode\u001b[0m\u001b[0;34m,\u001b[0m \u001b[0mglob\u001b[0m\u001b[0;34m,\u001b[0m \u001b[0mlocal_ns\u001b[0m\u001b[0;34m)\u001b[0m\u001b[0;34m\u001b[0m\u001b[0m\n\u001b[0m\u001b[1;32m   1182\u001b[0m             \u001b[0mend\u001b[0m \u001b[0;34m=\u001b[0m \u001b[0mclock2\u001b[0m\u001b[0;34m(\u001b[0m\u001b[0;34m)\u001b[0m\u001b[0;34m\u001b[0m\u001b[0m\n\u001b[1;32m   1183\u001b[0m         \u001b[0;32melse\u001b[0m\u001b[0;34m:\u001b[0m\u001b[0;34m\u001b[0m\u001b[0m\n",
      "\u001b[0;32m<timed eval>\u001b[0m in \u001b[0;36m<module>\u001b[0;34m()\u001b[0m\n",
      "\u001b[0;31mNameError\u001b[0m: name 'compute_ret' is not defined"
     ]
    }
   ],
   "source": [
    "%%time\n",
    "[compute_ret(temp.get_alphas(i,9,10)) for i in range(16,26)]"
   ]
  },
  {
   "cell_type": "code",
   "execution_count": null,
   "metadata": {
    "collapsed": true
   },
   "outputs": [],
   "source": []
  }
 ],
 "metadata": {
  "kernelspec": {
   "display_name": "Python 2",
   "language": "python",
   "name": "python2"
  },
  "language_info": {
   "codemirror_mode": {
    "name": "ipython",
    "version": 2
   },
   "file_extension": ".py",
   "mimetype": "text/x-python",
   "name": "python",
   "nbconvert_exporter": "python",
   "pygments_lexer": "ipython2",
   "version": "2.7.12"
  }
 },
 "nbformat": 4,
 "nbformat_minor": 1
}
