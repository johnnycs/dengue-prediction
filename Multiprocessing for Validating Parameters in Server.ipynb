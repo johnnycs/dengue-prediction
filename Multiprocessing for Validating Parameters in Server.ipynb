{
 "cells": [
  {
   "cell_type": "code",
   "execution_count": 1,
   "metadata": {
    "collapsed": false,
    "scrolled": true
   },
   "outputs": [
    {
     "name": "stderr",
     "output_type": "stream",
     "text": [
      "/Users/JohnnyV/anaconda2/lib/python2.7/site-packages/matplotlib/font_manager.py:273: UserWarning: Matplotlib is building the font cache using fc-list. This may take a moment.\n",
      "  warnings.warn('Matplotlib is building the font cache using fc-list. This may take a moment.')\n"
     ]
    },
    {
     "name": "stdout",
     "output_type": "stream",
     "text": [
      "running model\n",
      "getting cost from nweek ahead\n",
      "getting bounded alphas ...\n",
      "done getting alphas ...\n",
      "running model\n"
     ]
    }
   ],
   "source": [
    "%matplotlib inline\n",
    "import pandas as pd\n",
    "import numpy as np\n",
    "import matplotlib.pyplot as plt\n",
    "import datetime\n",
    "from dateutil.relativedelta import relativedelta\n",
    "from scipy.special import expit\n",
    "from scipy.optimize import fmin, minimize\n",
    "import glob as glob\n",
    "import matplotlib\n",
    "matplotlib.style.use('ggplot')\n",
    "\n",
    "# .py\n",
    "%load_ext autoreload\n",
    "%autoreload 2\n",
    "import weather_alphas, weather_costs, model, model_01, validate, prediction, temp"
   ]
  },
  {
   "cell_type": "code",
   "execution_count": 2,
   "metadata": {
    "collapsed": true
   },
   "outputs": [],
   "source": [
    "def split_data(data):\n",
    "    train_mask = (data.index < \"2011\")\n",
    "    train = data[train_mask]\n",
    "    test_mask = (data.index > \"2011\")\n",
    "    test = data[test_mask]\n",
    "    return train, test"
   ]
  },
  {
   "cell_type": "code",
   "execution_count": 3,
   "metadata": {
    "collapsed": true
   },
   "outputs": [],
   "source": [
    "all_weather = pd.read_csv(\"weather01-16.csv\")"
   ]
  },
  {
   "cell_type": "code",
   "execution_count": 4,
   "metadata": {
    "collapsed": true
   },
   "outputs": [],
   "source": [
    "cm_weather = all_weather[all_weather.stn_name == \"Chiang Mai\"]\n",
    "cm_weather.index = pd.DatetimeIndex(cm_weather.date)\n",
    "mask = (cm_weather.index > \"2003\") & (cm_weather.index < \"2016\")\n",
    "cm_weather = cm_weather[mask]\n",
    "\n",
    "provinces_df = pd.read_csv(\"all-dengues.csv\")\n",
    "provinces_df.index = pd.DatetimeIndex(provinces_df.date)\n",
    "provinces_df = provinces_df.drop(['date','date.1'],axis=1)\n",
    "cm_dengues = provinces_df[provinces_df['จังหวัด'] == 'ChiangMai'].resample('W').size()\n",
    "cm_dengues_df = pd.DataFrame(cm_dengues,columns=['cases'])"
   ]
  },
  {
   "cell_type": "code",
   "execution_count": 5,
   "metadata": {
    "collapsed": false
   },
   "outputs": [],
   "source": [
    "cm_avg_weather = cm_weather[['avgrh','dday','meantemp']].resample('W').mean()\n",
    "cm_avg_weather['rain'] = cm_weather[['rain']].resample('W').sum() # cumulative rainfall\n",
    "cm_dengues_weather = pd.concat([cm_avg_weather,cm_dengues_df[:-52]],axis=1)\n",
    "\n",
    "cm_dengues_weather_split = split_data(cm_dengues_weather)\n",
    "cm_dengues_train, cm_dengues_test = cm_dengues_weather_split[0], cm_dengues_weather_split[1]"
   ]
  },
  {
   "cell_type": "code",
   "execution_count": 6,
   "metadata": {
    "collapsed": true
   },
   "outputs": [],
   "source": [
    "def make_line(start_week,real,predictions,title,x_axis,y_axis,\n",
    "              real_legend='Real',predict_legend='Prediction'):\n",
    "    plt.figure(figsize=(12,6))\n",
    "    plt.plot(range(len(real)),real,'-r',label=real_legend)\n",
    "    plt.plot(range(start_week,len(predictions)+start_week),predictions,'-k',label=predict_legend,alpha=0.4)\n",
    "    plt.axvline(start_week)\n",
    "    plt.text((start_week*2)+10,300,'Prediction Start',horizontalalignment='center',verticalalignment='center')\n",
    "    plt.xlabel(x_axis)\n",
    "    plt.ylabel(y_axis)\n",
    "    plt.legend()\n",
    "    plt.title(title)\n",
    "    \n",
    "def plot_all_predictions(LAG, real, province, nweeks_to_predict, all_predictions):\n",
    "    \n",
    "    plt.figure(figsize=(13,6))\n",
    "    plt.plot(range(len(real)),real,label='real')\n",
    "    graph_title = \"%s's Dengue Prediction with Mean Temperature\"%province\n",
    "    plt.title(graph_title)\n",
    "    for i in range(len(all_predictions)):\n",
    "        cur_week_guess = nweeks_to_predict[i]\n",
    "        start_predict_week = LAG+(cur_week_guess-1)\n",
    "        predicted_cases = all_predictions[i]\n",
    "        x_weeks = range(start_predict_week,len(predicted_cases)+start_predict_week)\n",
    "        line_label = \"%d week guess\"%cur_week_guess\n",
    "        plt.plot(x_weeks,predicted_cases,label=line_label,alpha=0.8)\n",
    "    \n",
    "    seperate_train_test(cm_dengues_df.cases,cm_dengues_train)\n",
    "    plt.axvline(LAG)\n",
    "    plt.text((LAG*2)+10,300,'Prediction Start',horizontalalignment='center',verticalalignment='center')\n",
    "    plt.xlabel(\"# week starting 2003\")\n",
    "    plt.ylabel(\"Dengue cases\")\n",
    "    plt.legend()\n",
    "    plt.savefig(\"16-lags-16-weeks-9-temp-wks-chiangmai-00.png\")\n",
    "    \n",
    "def seperate_train_test(all_data,train_data):\n",
    "    plt.axvspan(0, len(train_data), color='blue', alpha=0.1)\n",
    "    plt.text((len(train_data)/2)-25,700,'Train Period',size=16)\n",
    "    plt.axvline(len(train_data)+1,linewidth=0.5, color='green')\n",
    "    plt.text(len(train_data)+20,700,'Test Period',size=16)\n",
    "    plt.axvspan(len(train_data)+1, len(all_data), color='green', alpha=0.1)"
   ]
  },
  {
   "cell_type": "code",
   "execution_count": 9,
   "metadata": {
    "collapsed": false,
    "scrolled": true
   },
   "outputs": [],
   "source": [
    "import multiprocessing as mp\n",
    "from multiprocessing import Process, Queue\n",
    "\n",
    "# Define an output queue\n",
    "output = Queue()\n",
    "\n",
    "# def validate\n",
    "\n",
    "# def compute_ret(temp):\n",
    "#     for i in range(int(1e5)): pass\n",
    "#     return temp/2.\n",
    "    \n",
    "def validation(LAG, TEMPERATURE_WEEKS, RAIN_WEEKS, train, real, output):\n",
    "    alphas = weather_alphas.get_alphas(LAG, TEMPERATURE_WEEKS, RAIN_WEEKS, train)\n",
    "    predictions_to_validate = prediction.get_predictions(LAG, TEMPERATURE_WEEKS, RAIN_WEEKS, real, alphas.x)\n",
    "    validated_result = validate.get_validations(LAG, predictions_to_validate, real)\n",
    "    output.put((LAG,validated_result))\n"
   ]
  },
  {
   "cell_type": "code",
   "execution_count": 58,
   "metadata": {
    "collapsed": false
   },
   "outputs": [
    {
     "name": "stdout",
     "output_type": "stream",
     "text": [
      "[(16, 175.0), (18, 185.0), (17, 180.0), (19, 190.0), (21, 200.0), (20, 195.0), (22, 205.0), (23, 210.0), (24, 215.0), (25, 220.0)]\n",
      "CPU times: user 12 ms, sys: 30.6 ms, total: 42.6 ms\n",
      "Wall time: 115 ms\n"
     ]
    }
   ],
   "source": [
    "%%time\n",
    "# Setup a list of processes that we want to run\n",
    "train = cm_dengues_train\n",
    "real = cm_dengues_weather\n",
    "processes = [Process(target=validation, args=(weeks, 9, 10, output)) for weeks in range(16,18)]\n",
    "\n",
    "# Run processes\n",
    "for p in processes:\n",
    "    p.start()\n",
    "\n",
    "# Exit the completed processes\n",
    "for p in processes:\n",
    "    p.join()\n",
    "\n",
    "# Get process results from the output queue\n",
    "results = [output.get() for p in processes]\n",
    "\n",
    "print(results)"
   ]
  },
  {
   "cell_type": "code",
   "execution_count": 54,
   "metadata": {
    "collapsed": false
   },
   "outputs": [
    {
     "name": "stdout",
     "output_type": "stream",
     "text": [
      "CPU times: user 49 ms, sys: 3.37 ms, total: 52.3 ms\n",
      "Wall time: 51.5 ms\n"
     ]
    },
    {
     "data": {
      "text/plain": [
       "[175.0, 180.0, 185.0, 190.0, 195.0, 200.0, 205.0, 210.0, 215.0, 220.0]"
      ]
     },
     "execution_count": 54,
     "metadata": {},
     "output_type": "execute_result"
    }
   ],
   "source": [
    "%%time\n",
    "[compute_ret(temp.get_alphas(i,9,10)) for i in range(16,26)]"
   ]
  },
  {
   "cell_type": "code",
   "execution_count": null,
   "metadata": {
    "collapsed": true
   },
   "outputs": [],
   "source": []
  }
 ],
 "metadata": {
  "kernelspec": {
   "display_name": "Python [conda root]",
   "language": "python",
   "name": "conda-root-py"
  },
  "language_info": {
   "codemirror_mode": {
    "name": "ipython",
    "version": 2
   },
   "file_extension": ".py",
   "mimetype": "text/x-python",
   "name": "python",
   "nbconvert_exporter": "python",
   "pygments_lexer": "ipython2",
   "version": "2.7.13"
  }
 },
 "nbformat": 4,
 "nbformat_minor": 1
}
