{
 "cells": [
  {
   "cell_type": "code",
   "execution_count": 1,
   "metadata": {
    "scrolled": true
   },
   "outputs": [
    {
     "name": "stderr",
     "output_type": "stream",
     "text": [
      "/usr/local/lib/python2.7/dist-packages/pandas/core/computation/__init__.py:18: UserWarning: The installed version of numexpr 2.4.3 is not supported in pandas and will be not be used\n",
      "The minimum supported version is 2.4.6\n",
      "\n",
      "  ver=ver, min_ver=_MIN_NUMEXPR_VERSION), UserWarning)\n"
     ]
    },
    {
     "name": "stdout",
     "output_type": "stream",
     "text": [
      "running model\n",
      "getting cost from nweek ahead\n",
      "getting bounded alphas ...\n",
      "done getting alphas ...\n",
      "running model\n"
     ]
    }
   ],
   "source": [
    "%matplotlib inline\n",
    "import pandas as pd\n",
    "import numpy as np\n",
    "import matplotlib.pyplot as plt\n",
    "import datetime\n",
    "from dateutil.relativedelta import relativedelta\n",
    "from scipy.special import expit\n",
    "from scipy.optimize import fmin, minimize\n",
    "import glob as glob\n",
    "import matplotlib\n",
    "matplotlib.style.use('ggplot')\n",
    "\n",
    "# .py\n",
    "%load_ext autoreload\n",
    "%autoreload 2\n",
    "import weather_alphas, weather_costs, model, model_01, validate, prediction"
   ]
  },
  {
   "cell_type": "code",
   "execution_count": 2,
   "metadata": {
    "collapsed": true
   },
   "outputs": [],
   "source": [
    "def split_data(data):\n",
    "    train_mask = (data.index < \"2011\")\n",
    "    train = data[train_mask]\n",
    "    test_mask = (data.index > \"2011\")\n",
    "    test = data[test_mask]\n",
    "    return train, test"
   ]
  },
  {
   "cell_type": "code",
   "execution_count": 3,
   "metadata": {
    "collapsed": true
   },
   "outputs": [],
   "source": [
    "all_weather = pd.read_csv(\"weather01-16.csv\")"
   ]
  },
  {
   "cell_type": "code",
   "execution_count": 4,
   "metadata": {
    "collapsed": true
   },
   "outputs": [],
   "source": [
    "cm_weather = all_weather[all_weather.stn_name == \"Chiang Mai\"]\n",
    "cm_weather.index = pd.DatetimeIndex(cm_weather.date)\n",
    "mask = (cm_weather.index > \"2003\") & (cm_weather.index < \"2016\")\n",
    "cm_weather = cm_weather[mask]\n",
    "\n",
    "provinces_df = pd.read_csv(\"all-dengues.csv\")\n",
    "provinces_df.index = pd.DatetimeIndex(provinces_df.date)\n",
    "provinces_df = provinces_df.drop(['date','date.1'],axis=1)\n",
    "cm_dengues = provinces_df[provinces_df['จังหวัด'] == 'ChiangMai'].resample('W').size()\n",
    "cm_dengues_df = pd.DataFrame(cm_dengues,columns=['cases'])"
   ]
  },
  {
   "cell_type": "code",
   "execution_count": 5,
   "metadata": {
    "collapsed": true
   },
   "outputs": [],
   "source": [
    "cm_avg_weather = cm_weather[['avgrh','dday','meantemp']].resample('W').mean()\n",
    "cm_avg_weather['rain'] = cm_weather[['rain']].resample('W').sum() # cumulative rainfall\n",
    "cm_dengues_weather = pd.concat([cm_avg_weather,cm_dengues_df[:-52]],axis=1)\n",
    "\n",
    "cm_dengues_weather_split = split_data(cm_dengues_weather)\n",
    "cm_dengues_train, cm_dengues_test = cm_dengues_weather_split[0], cm_dengues_weather_split[1]"
   ]
  },
  {
   "cell_type": "code",
   "execution_count": 6,
   "metadata": {
    "collapsed": true
   },
   "outputs": [],
   "source": [
    "def make_line(start_week,real,predictions,title,x_axis,y_axis,\n",
    "              real_legend='Real',predict_legend='Prediction'):\n",
    "    plt.figure(figsize=(12,6))\n",
    "    plt.plot(range(len(real)),real,'-r',label=real_legend)\n",
    "    plt.plot(range(start_week,len(predictions)+start_week),predictions,'-k',label=predict_legend,alpha=0.4)\n",
    "    plt.axvline(start_week)\n",
    "    plt.text((start_week*2)+10,300,'Prediction Start',horizontalalignment='center',verticalalignment='center')\n",
    "    plt.xlabel(x_axis)\n",
    "    plt.ylabel(y_axis)\n",
    "    plt.legend()\n",
    "    plt.title(title)\n",
    "    \n",
    "def plot_all_predictions(LAG, real, province, nweeks_to_predict, all_predictions):\n",
    "    \n",
    "    plt.figure(figsize=(13,6))\n",
    "    plt.plot(range(len(real)),real,label='real')\n",
    "    graph_title = \"%s's Dengue Prediction with Mean Temperature\"%province\n",
    "    plt.title(graph_title)\n",
    "    for i in range(len(all_predictions)):\n",
    "        cur_week_guess = nweeks_to_predict[i]\n",
    "        start_predict_week = LAG+(cur_week_guess-1)\n",
    "        predicted_cases = all_predictions[i]\n",
    "        x_weeks = range(start_predict_week,len(predicted_cases)+start_predict_week)\n",
    "        line_label = \"%d week guess\"%cur_week_guess\n",
    "        plt.plot(x_weeks,predicted_cases,label=line_label,alpha=0.8)\n",
    "    \n",
    "    seperate_train_test(cm_dengues_df.cases,cm_dengues_train)\n",
    "    plt.axvline(LAG)\n",
    "    plt.text((LAG*2)+10,300,'Prediction Start',horizontalalignment='center',verticalalignment='center')\n",
    "    plt.xlabel(\"# week starting 2003\")\n",
    "    plt.ylabel(\"Dengue cases\")\n",
    "    plt.legend()\n",
    "    plt.savefig(\"16-lags-16-weeks-9-temp-wks-chiangmai-00.png\")\n",
    "    \n",
    "def seperate_train_test(all_data,train_data):\n",
    "    plt.axvspan(0, len(train_data), color='blue', alpha=0.1)\n",
    "    plt.text((len(train_data)/2)-25,700,'Train Period',size=16)\n",
    "    plt.axvline(len(train_data)+1,linewidth=0.5, color='green')\n",
    "    plt.text(len(train_data)+20,700,'Test Period',size=16)\n",
    "    plt.axvspan(len(train_data)+1, len(all_data), color='green', alpha=0.1)"
   ]
  },
  {
   "cell_type": "code",
   "execution_count": 47,
   "metadata": {
    "scrolled": true
   },
   "outputs": [],
   "source": [
    "import multiprocessing as mp\n",
    "from multiprocessing import Process, Queue\n",
    "\n",
    "# Define an output queue\n",
    "output = Queue()\n",
    "\n",
    "# def validate\n",
    "\n",
    "# def compute_ret(temp):\n",
    "#     for i in range(int(1e5)): pass\n",
    "#     return temp/2.\n",
    "\n",
    "\n",
    "ws_csv = np.array(pd.read_csv(\"best-for-19-lags-ws-3rd-iter.csv\").T)[0]\n",
    "    \n",
    "def validation(LAG, TEMPERATURE_WEEKS, RAIN_WEEKS, train, real, output):\n",
    "                                    # get_alphas takes 4 args, if theres no input csv\n",
    "    alphas = weather_alphas.get_alphas(LAG, TEMPERATURE_WEEKS, RAIN_WEEKS, train, ws_csv)\n",
    "                                    # get_predictions takes 6 args\n",
    "    predictions_to_validate = prediction.get_predictions(LAG, TEMPERATURE_WEEKS, RAIN_WEEKS, real, alphas.x, \"CM\")\n",
    "                                    # get_validations takes 3 argsg\n",
    "    validated_result = validate.get_validations(LAG, predictions_to_validate, real)\n",
    "    output.put((TEMPERATURE_WEEKS,validated_result,alphas.x)) # add in ws as well alphas.x\n"
   ]
  },
  {
   "cell_type": "code",
   "execution_count": 48,
   "metadata": {
    "collapsed": true
   },
   "outputs": [
    {
     "name": "stdout",
     "output_type": "stream",
     "text": [
      "[  6.33935672e-01   1.67666287e-08   2.31639456e-08   3.50209373e-08\n",
      "   0.00000000e+00   4.31120912e-03   1.34822610e-01   5.01089508e-04\n",
      "   5.38066447e-05   1.03042846e-05   7.44309154e-07   1.09314887e-01\n",
      "   1.38345504e-06   1.11136595e-05   1.54229262e-06   1.94576579e-07\n",
      "   9.57191545e-08   6.70262672e-08   2.86149822e-02   5.53266735e-01\n",
      "   1.23621866e+00   9.96473843e+00   2.57910558e-01   3.72814121e-01\n",
      "   6.90528824e-02  -7.37570214e-02   9.27721001e-04  -6.53165618e-02\n",
      "   1.08420525e-01   1.45659515e-03  -8.82658404e-02  -3.66435643e-01\n",
      "  -2.32713124e-03  -1.06584138e-02  -4.24314530e-03   3.08463440e-03\n",
      "   8.57890639e-03   1.10691040e-02   2.86555863e-03   4.52966854e-02\n",
      "  -7.53315559e-02  -9.34975403e-02   7.47375805e-02]\n",
      "40\n",
      "bnds 40\n",
      "ws_csv\n",
      "prev_ws 40\n",
      "41\n",
      "42\n",
      "bnds 41\n",
      "bnds 42\n",
      "ws_csv\n",
      "ws_csv\n",
      "prev_ws 42\n",
      "43\n",
      "prev_ws 41\n",
      "bnds 43\n",
      "ws_csv\n",
      "prev_ws 43\n",
      "44\n",
      "bnds 44\n",
      "ws_csv\n",
      "prev_ws 44\n",
      "45\n",
      "bnds 45\n",
      "ws_csv\n",
      "prev_ws 45\n",
      "46\n",
      "47\n",
      "bnds 46\n",
      "ws_csv\n",
      "prev_ws 46\n",
      "48\n",
      "bnds 48\n",
      "ws_csv\n",
      "prev_ws 48\n",
      "bnds 47\n",
      "ws_csv\n",
      "prev_ws 47\n",
      "[(19, [162.33996465922505, 277.78484938195356, 540.86711284380294, 1015.9127654623079, 1545.9587818194202], array([  1.00837815e+00,   7.89342789e-02,   1.95153780e-06,\n",
      "         2.47446169e-05,   2.97995713e-05,   1.24949055e-04,\n",
      "         2.27880561e-04,   4.07643638e-05,   3.79969430e-05,\n",
      "         9.74947071e-06,   5.46754447e-07,   2.78599560e-08,\n",
      "         3.16603270e-09,   1.60224546e-09,   1.68266476e-08,\n",
      "         7.49351616e-09,   0.00000000e+00,   0.00000000e+00,\n",
      "         4.98699680e-08,   4.25980322e-01,   1.92929878e+00,\n",
      "         1.02024105e+01,   1.84661150e-01,  -1.96241066e-01,\n",
      "        -6.72091362e-01,  -1.00175658e+00,  -1.09458084e+00,\n",
      "        -1.07747998e+00,  -1.04987491e+00,  -8.98227730e-01,\n",
      "        -6.36268032e-01,  -3.86434535e-01,   4.83859415e-02,\n",
      "         5.52797667e-01,   1.04709738e+00,   1.51580795e+00,\n",
      "        -2.02290944e-01,   2.94264720e-05,  -1.49966641e-04,\n",
      "        -1.79647746e-04,   2.21074825e-04,  -3.82664970e-04,\n",
      "        -3.07457038e-04,  -4.05773492e-04,   8.37487131e-04,\n",
      "         1.19534937e-03,   1.85026473e-04])), (19, [159.78987951936716, 271.32711040540067, 525.37503724451301, 987.73444024001299, 1535.828820118503], array([  9.43293758e-01,   7.05318417e-02,   5.65259616e-06,\n",
      "         3.61741469e-05,   9.72669801e-05,   4.68076284e-05,\n",
      "         1.23996983e-04,   9.92283415e-05,   1.28301881e-05,\n",
      "         6.00833139e-06,   4.86500536e-07,   2.27486559e-07,\n",
      "         3.20004366e-07,   2.77621911e-07,   1.49507746e-07,\n",
      "         6.81846045e-08,   1.97225963e-07,   1.72069165e-07,\n",
      "         1.92844824e-07,   4.23240329e-01,   1.96328980e+00,\n",
      "         9.53744051e+00,   1.95761582e-01,  -2.09670429e-01,\n",
      "        -6.75836000e-01,  -9.63484066e-01,  -9.95420618e-01,\n",
      "        -9.04473396e-01,  -7.51338070e-01,  -5.03855468e-01,\n",
      "        -1.26223982e-01,   2.48111425e-01,   8.08665422e-01,\n",
      "         1.42896230e+00,  -2.28412632e-01,   3.02008981e-03,\n",
      "        -2.42049332e-03,   7.27741616e-04,   6.52332279e-04,\n",
      "         8.18143685e-04,  -9.70951873e-04,   8.70630950e-04,\n",
      "        -7.02336116e-04,  -1.52773403e-03,  -8.00234509e-04])), (19, [162.92185456363094, 281.04066781033919, 543.20284646929395, 1000.7868582314842, 1502.409551103457], array([  1.03281819e+00,   1.20498603e-06,   8.66203090e-02,\n",
      "         3.28672243e-02,   1.02125217e-02,   5.00773137e-03,\n",
      "         6.61483687e-02,   2.41730567e-09,   5.81792774e-03,\n",
      "         6.33916036e-04,   0.00000000e+00,   1.40920966e-08,\n",
      "         7.07799435e-08,   1.31086434e-08,   1.72227338e-08,\n",
      "         6.02217386e-08,   8.82311666e-08,   1.11978010e-07,\n",
      "         3.34358782e-09,   4.80382290e-01,   1.59877923e+00,\n",
      "         1.06412130e+01,   1.37115983e-01,   3.31445896e-01,\n",
      "        -7.06751086e-02,  -2.82904860e-01,  -2.74624439e-01,\n",
      "        -2.20577337e-01,  -9.74120701e-02,   2.70839880e-02,\n",
      "         2.14898436e-01,   5.70925226e-01,   1.00447216e-03,\n",
      "         8.33747973e-04,  -1.72897377e-03,  -9.08137503e-05,\n",
      "         2.09194057e-03,  -7.31201794e-04,   1.20436496e-03,\n",
      "        -1.83181414e-03,   1.16541288e-03,   9.92945508e-03])), (19, [207.19334380097658, 376.93441387239932, 713.58745612674079, 1215.4521194714687, 1510.9232939370929], array([  1.50553572e+00,   3.02668337e-01,   5.84026055e-04,\n",
      "         2.34172552e-06,   6.88707483e-09,   9.14150795e-09,\n",
      "         9.75995230e-09,   4.28177561e-09,   8.97714206e-09,\n",
      "         5.63852595e-09,   9.96779412e-09,   6.71162290e-09,\n",
      "         1.05316090e-08,   4.36647964e-09,   7.94340792e-09,\n",
      "         6.70846219e-09,   4.92467253e-09,   3.94324114e-07,\n",
      "         1.26050792e-07,   6.21801475e-01,   6.89514580e-01,\n",
      "         1.45632633e+01,   6.30097776e-01,   5.51306411e-03,\n",
      "        -7.56211284e-03,  -5.44340286e-03,  -2.10106578e-03,\n",
      "        -4.88527298e-03,  -5.80398910e-04,  -9.64068218e-03,\n",
      "         1.18908231e-01,   3.25165364e-01,  -3.79920091e-01,\n",
      "         5.72502320e-01,   4.42745541e-02,  -2.90895678e-01,\n",
      "         9.66057682e-03,   7.18339003e-02,  -4.31914857e-01,\n",
      "        -2.70036025e-01,  -8.01441357e-02])), (19, [157.42938544748338, 263.30886540716614, 502.14464603954417, 930.29241863948948, 1490.2338830962601], array([  7.76455357e-01,   7.84226737e-11,   1.03511815e-02,\n",
      "         6.60117915e-02,   2.09178347e-05,   2.21309730e-06,\n",
      "         1.79642285e-04,   3.05201199e-05,   5.76431507e-07,\n",
      "         2.57972908e-07,   7.39741560e-09,   7.36172461e-09,\n",
      "         1.26773874e-08,   1.06388800e-09,   5.33705469e-11,\n",
      "         1.79818155e-09,   2.30720094e-08,   7.03850511e-09,\n",
      "         7.00757860e-02,   4.26690720e-01,   1.92776812e+00,\n",
      "         8.52719406e+00,   1.74793194e-01,  -6.18593625e-01,\n",
      "        -1.02246282e+00,  -1.26995170e+00,  -1.31266790e+00,\n",
      "        -1.24753277e+00,  -1.11960503e+00,  -9.07545224e-01,\n",
      "        -5.78744563e-01,  -2.38350119e-01,   2.32605698e-01,\n",
      "         7.18215739e-01,   1.22295814e+00,   1.62732072e+00,\n",
      "         1.98308702e+00,  -1.74556175e-01,   1.18912719e-04,\n",
      "         5.48433838e-06,   1.50337058e-04,  -2.02001276e-03,\n",
      "         2.56154768e-03,   1.10210330e-03,  -2.55589330e-03,\n",
      "        -3.82381769e-03,  -3.49185997e-03,   3.94678644e-03])), (19, [163.83093023182298, 282.60623044747013, 551.94273740936819, 1032.6172009628172, 1532.8524337873098], array([  1.09807044e+00,   0.00000000e+00,   9.69669313e-02,\n",
      "         9.04821459e-08,   2.84381118e-06,   2.33885298e-06,\n",
      "         4.00695985e-06,   2.29368398e-07,   2.12073710e-07,\n",
      "         4.92025056e-08,   0.00000000e+00,   0.00000000e+00,\n",
      "         6.52141577e-10,   1.02693745e-08,   0.00000000e+00,\n",
      "         0.00000000e+00,   0.00000000e+00,   4.12561862e-09,\n",
      "         7.62656201e-09,   4.50720872e-01,   1.76854172e+00,\n",
      "         1.07361285e+01,   1.58942478e-01,  -7.71127022e-01,\n",
      "        -1.17294613e+00,  -1.44262241e+00,  -1.50424239e+00,\n",
      "        -1.47924423e+00,  -1.41102422e+00,  -1.28514600e+00,\n",
      "        -1.05275225e+00,  -8.22392901e-01,  -3.80825192e-01,\n",
      "         5.69796078e-02,   6.27902329e-01,  -1.25636685e-01,\n",
      "         1.55425876e-05,   8.34980252e-05,   5.29331176e-06,\n",
      "        -2.40530873e-06,  -9.19563368e-07,  -1.53596396e-05,\n",
      "        -3.58508174e-05,  -8.50866944e-06,  -5.37058381e-05,\n",
      "        -4.61587653e-04])), (19, [155.8040202620416, 261.57921647238328, 484.98085705557293, 839.3306770679186, 1351.0650382726158], array([  6.92649393e-01,   2.64375655e-08,   5.57107205e-03,\n",
      "         5.85047894e-03,   1.16081014e-08,   1.40462654e-09,\n",
      "         6.56175947e-02,   7.92904587e-03,   0.00000000e+00,\n",
      "         3.62144859e-10,   3.47953688e-08,   0.00000000e+00,\n",
      "         5.38318548e-02,   6.31941352e-02,   5.09969092e-02,\n",
      "         8.85541221e-04,   4.43060414e-04,   1.99637046e-06,\n",
      "         1.87447580e-07,   4.85597202e-01,   1.62345994e+00,\n",
      "         7.76065455e+00,   1.45670780e-01,   1.66752571e-01,\n",
      "        -4.98325611e-02,  -1.22210805e-01,  -1.24426200e-01,\n",
      "        -1.45793597e-01,  -9.71322795e-02,  -4.53504205e-02,\n",
      "         4.54247461e-02,   5.24437100e-02,   2.22832017e-01,\n",
      "        -6.84509777e-01,   1.36653969e-02,   1.38792365e-02,\n",
      "         1.37320347e-02,   1.11718701e-02,   1.72623793e-03,\n",
      "        -1.63124482e-02,   1.12192347e-02,   9.28513477e-03,\n",
      "        -7.72447456e-03,   9.54459763e-03])), (19, [200.0629174449127, 352.23836020593444, 669.33723826612652, 1185.2730333989746, 1514.7236564288223], array([  1.09136910e+00,   2.19095529e-01,   1.44389472e-01,\n",
      "         2.48380426e-05,   3.78697084e-03,   1.54926480e-02,\n",
      "         8.89664503e-02,   8.74700242e-02,   3.30382190e-02,\n",
      "         1.09751405e-02,   3.65696056e-03,   5.41299480e-04,\n",
      "         3.16189235e-04,   1.49633500e-04,   5.50461433e-05,\n",
      "         3.43285976e-06,   3.88279441e-06,   1.55504239e-05,\n",
      "         1.43891580e-01,   6.15888896e-01,   7.53745789e-01,\n",
      "         1.34152316e+01,   3.52951772e-01,   5.18335554e-01,\n",
      "         3.26245265e-02,  -1.09941922e-01,  -5.63085718e-02,\n",
      "        -7.30878229e-02,   1.09481246e-01,   5.00432892e-02,\n",
      "        -1.95610995e-02,  -5.15144601e-01,   1.84310688e-01,\n",
      "         2.70494479e-03,   3.95379243e-04,   4.10818091e-03,\n",
      "        -1.44050788e-02,  -5.47451533e-03,  -7.12803531e-03,\n",
      "         5.99077464e-02,  -7.53124700e-02,   1.07283474e-01,\n",
      "         8.64799962e-02])), (19, [222.56843121385583, 404.78821271921151, 758.00787029178957, 1251.1288641805734, 1498.5969693846041], array([  1.49348999e+00,   3.45007210e-01,   1.99601413e-08,\n",
      "         2.14791892e-08,   2.01144519e-08,   1.75961700e-08,\n",
      "         1.05292926e-08,   1.09802985e-08,   1.82675193e-09,\n",
      "         1.22819095e-08,   1.38524298e-08,   2.75915678e-08,\n",
      "         3.03701466e-08,   2.18166407e-08,   3.50511058e-08,\n",
      "         2.42754484e-08,   9.20727252e-09,   4.20315535e-08,\n",
      "         2.96956623e-07,   6.55506013e-01,   4.77976455e-01,\n",
      "         1.55577582e+01,   6.90472800e-01,   2.30765056e-03,\n",
      "        -1.02213633e-02,   4.29863153e-03,  -7.99010093e-03,\n",
      "         3.49989151e-03,  -1.76041911e-02,  -4.63119226e-03,\n",
      "         2.09016366e-01,  -3.62362797e-01,   3.62144231e-01,\n",
      "         2.49944717e-01,   2.39168165e-01,   4.94511365e-01,\n",
      "        -1.83185322e-03,   9.32152112e-02,   2.63672219e-01,\n",
      "         8.28047289e-01]))]\n",
      "CPU times: user 280 ms, sys: 312 ms, total: 592 ms\n",
      "Wall time: 4h 47min 1s\n"
     ]
    }
   ],
   "source": [
    "%%time\n",
    "# Setup a list of processes that we want to run\n",
    "train = cm_dengues_train\n",
    "real = cm_dengues_weather\n",
    "processes = [Process(target=validation, args=(19, weeks, 10, train, real, output)) for weeks in range(6,15)]\n",
    "print ws_csv\n",
    "\n",
    "# Run processes\n",
    "for p in processes:\n",
    "    p.start()\n",
    "\n",
    "# Exit the completed processes\n",
    "for p in processes:\n",
    "    p.join()\n",
    "\n",
    "# Get process results from the output queue\n",
    "results = [output.get() for p in processes]\n",
    "\n",
    "print(results)"
   ]
  },
  {
   "cell_type": "code",
   "execution_count": 57,
   "metadata": {},
   "outputs": [
    {
     "name": "stdout",
     "output_type": "stream",
     "text": [
      "13 [162.33996465922505, 277.78484938195356, 540.86711284380294, 1015.9127654623079, 1545.9587818194202]\n",
      "11 [159.78987951936716, 271.32711040540067, 525.37503724451301, 987.73444024001299, 1535.828820118503]\n",
      "8 [162.92185456363094, 281.04066781033919, 543.20284646929395, 1000.7868582314842, 1502.409551103457]\n",
      "7 [207.19334380097658, 376.93441387239932, 713.58745612674079, 1215.4521194714687, 1510.9232939370929]\n",
      "14 [157.42938544748338, 263.30886540716614, 502.14464603954417, 930.29241863948948, 1490.2338830962601]\n",
      "12 [163.83093023182298, 282.60623044747013, 551.94273740936819, 1032.6172009628172, 1532.8524337873098]\n",
      "10 [155.8040202620416, 261.57921647238328, 484.98085705557293, 839.3306770679186, 1351.0650382726158]\n",
      "9 [200.0629174449127, 352.23836020593444, 669.33723826612652, 1185.2730333989746, 1514.7236564288223]\n",
      "6 [222.56843121385583, 404.78821271921151, 758.00787029178957, 1251.1288641805734, 1498.5969693846041]\n"
     ]
    }
   ],
   "source": [
    "for i in results:\n",
    "    print len(i[2]) - 20 - 2 - 11 - 1, i[1]\n",
    "    "
   ]
  },
  {
   "cell_type": "code",
   "execution_count": 49,
   "metadata": {},
   "outputs": [
    {
     "name": "stdout",
     "output_type": "stream",
     "text": [
      "1545.95878182\n"
     ]
    }
   ],
   "source": [
    "def get_best(validations):\n",
    "    idx = None\n",
    "    best_so_far = validations[0][1][-1]\n",
    "    print best_so_far\n",
    "    for i in range(len(validations)):\n",
    "        cur_validation = validations[i][1]\n",
    "#         print cur_validation\n",
    "        if cur_validation[0] <= best_so_far:\n",
    "            best_so_far = cur_validation[0]\n",
    "            idx = i\n",
    "    return validations[idx]\n",
    "        \n",
    "    \n",
    "best_param = get_best(results)"
   ]
  },
  {
   "cell_type": "code",
   "execution_count": 50,
   "metadata": {
    "collapsed": true
   },
   "outputs": [
    {
     "data": {
      "text/plain": [
       "(19,\n",
       " [155.8040202620416,\n",
       "  261.57921647238328,\n",
       "  484.98085705557293,\n",
       "  839.3306770679186,\n",
       "  1351.0650382726158],\n",
       " array([  6.92649393e-01,   2.64375655e-08,   5.57107205e-03,\n",
       "          5.85047894e-03,   1.16081014e-08,   1.40462654e-09,\n",
       "          6.56175947e-02,   7.92904587e-03,   0.00000000e+00,\n",
       "          3.62144859e-10,   3.47953688e-08,   0.00000000e+00,\n",
       "          5.38318548e-02,   6.31941352e-02,   5.09969092e-02,\n",
       "          8.85541221e-04,   4.43060414e-04,   1.99637046e-06,\n",
       "          1.87447580e-07,   4.85597202e-01,   1.62345994e+00,\n",
       "          7.76065455e+00,   1.45670780e-01,   1.66752571e-01,\n",
       "         -4.98325611e-02,  -1.22210805e-01,  -1.24426200e-01,\n",
       "         -1.45793597e-01,  -9.71322795e-02,  -4.53504205e-02,\n",
       "          4.54247461e-02,   5.24437100e-02,   2.22832017e-01,\n",
       "         -6.84509777e-01,   1.36653969e-02,   1.38792365e-02,\n",
       "          1.37320347e-02,   1.11718701e-02,   1.72623793e-03,\n",
       "         -1.63124482e-02,   1.12192347e-02,   9.28513477e-03,\n",
       "         -7.72447456e-03,   9.54459763e-03]))"
      ]
     },
     "execution_count": 50,
     "metadata": {},
     "output_type": "execute_result"
    }
   ],
   "source": [
    "best_param"
   ]
  },
  {
   "cell_type": "code",
   "execution_count": 56,
   "metadata": {
    "collapsed": true
   },
   "outputs": [],
   "source": [
    "pd.DataFrame(best_param[2]).to_csv(\"best-with-19-lags-11-temps-ws-1st-iter.csv\",index=False)\n",
    "# np.array(pd.read_csv(\"best-for-19-lags-ws-3rd-iter.csv\").T)[0]"
   ]
  },
  {
   "cell_type": "code",
   "execution_count": 32,
   "metadata": {},
   "outputs": [
    {
     "name": "stdout",
     "output_type": "stream",
     "text": [
      "LAG 23 [205.82624824351581, 374.86547851071168, 726.02637891644849, 1284.8735497820055, 1627.4597425170004]\n",
      "LAG 21 [166.85156662968512, 292.0898130079363, 564.366573591867, 1035.0747400189584, 1527.0827702830245]\n",
      "LAG 22 [168.91992707974032, 294.43310789395724, 581.26512237641293, 1094.9170235354613, 1583.9765963384611]\n",
      "LAG 19 [166.58144315243547, 288.90438923758734, 543.77910579020795, 947.7903870066549, 1391.3705312824545]\n"
     ]
    }
   ],
   "source": [
    "chosen_ws = glob.glob(\"best-*.csv\")\n",
    "for ws_set_file in chosen_ws:\n",
    "    ws_set = np.array(pd.read_csv(ws_set_file).T)[0]\n",
    "#     print ws_set_file\n",
    "    LAG = int(ws_set_file[9:11])\n",
    "    to_validate = prediction.get_predictions(LAG, 9, 10, real, ws_set)\n",
    "    print \"LAG %d\"%LAG,validate.get_validations(LAG, to_validate, real)"
   ]
  },
  {
   "cell_type": "code",
   "execution_count": 147,
   "metadata": {},
   "outputs": [
    {
     "name": "stdout",
     "output_type": "stream",
     "text": [
      "les\n"
     ]
    },
    {
     "data": {
      "text/plain": [
       "19"
      ]
     },
     "execution_count": 147,
     "metadata": {},
     "output_type": "execute_result"
    }
   ],
   "source": [
    "# # pd.DataFrame(best_param[2]).to_csv(\"best-for-18-lags-ws.csv\",index=False)\n",
    "\n",
    "# lg = [16,17,18,20,22]\n",
    "# a = np.array(pd.read_csv(\"best-for-18-lags-ws.csv\").T)[0]\n",
    "\n",
    "# # for i in lg:\n",
    "# #     if i == len(a):\n",
    "# #         arr = a\n",
    "# #         print len(arr)\n",
    "# #     elif i < len(a):\n",
    "# #         arr = a[:-(18-i)]\n",
    "# #         print len(arr)\n",
    "# #     else:\n",
    "# #         mean_val = 1/float(i)\n",
    "# #         arr = np.append(a,[mean_val]*(i-len(a)))\n",
    "# #         print arr\n",
    "        \n",
    "# def ws_helper(LAG, ws, 18):\n",
    "#     n_ws = len(ws)\n",
    "#     if LAG == n_ws:\n",
    "#         print \"eq\"\n",
    "#         arr = ws[:LAG+1]\n",
    "#     elif LAG < n_ws:\n",
    "#         print \"les\"\n",
    "#         arr = ws[:-(n_ws - LAG + 1)]\n",
    "#     else:\n",
    "#         print \"else\"\n",
    "#         tail = (LAG - n_ws) - 1\n",
    "#         mean_val = 1/(float(LAG)*tail)\n",
    "#         arr = np.append(ws,[mean_val]*tail)\n",
    "#     return arr\n",
    "\n",
    "# len(ws_helper(20,a))"
   ]
  },
  {
   "cell_type": "code",
   "execution_count": 69,
   "metadata": {
    "collapsed": true
   },
   "outputs": [
    {
     "ename": "NameError",
     "evalue": "name 'compute_ret' is not defined",
     "output_type": "error",
     "traceback": [
      "\u001b[0;31m---------------------------------------------------------------------------\u001b[0m",
      "\u001b[0;31mNameError\u001b[0m                                 Traceback (most recent call last)",
      "\u001b[0;32m<ipython-input-69-0d7a799813d4>\u001b[0m in \u001b[0;36m<module>\u001b[0;34m()\u001b[0m\n\u001b[0;32m----> 1\u001b[0;31m \u001b[0mget_ipython\u001b[0m\u001b[0;34m(\u001b[0m\u001b[0;34m)\u001b[0m\u001b[0;34m.\u001b[0m\u001b[0mrun_cell_magic\u001b[0m\u001b[0;34m(\u001b[0m\u001b[0;34mu'time'\u001b[0m\u001b[0;34m,\u001b[0m \u001b[0;34mu''\u001b[0m\u001b[0;34m,\u001b[0m \u001b[0;34mu'[compute_ret(temp.get_alphas(i,9,10)) for i in range(16,26)]'\u001b[0m\u001b[0;34m)\u001b[0m\u001b[0;34m\u001b[0m\u001b[0m\n\u001b[0m",
      "\u001b[0;32m/home/senior-project/.local/lib/python2.7/site-packages/IPython/core/interactiveshell.pyc\u001b[0m in \u001b[0;36mrun_cell_magic\u001b[0;34m(self, magic_name, line, cell)\u001b[0m\n\u001b[1;32m   2115\u001b[0m             \u001b[0mmagic_arg_s\u001b[0m \u001b[0;34m=\u001b[0m \u001b[0mself\u001b[0m\u001b[0;34m.\u001b[0m\u001b[0mvar_expand\u001b[0m\u001b[0;34m(\u001b[0m\u001b[0mline\u001b[0m\u001b[0;34m,\u001b[0m \u001b[0mstack_depth\u001b[0m\u001b[0;34m)\u001b[0m\u001b[0;34m\u001b[0m\u001b[0m\n\u001b[1;32m   2116\u001b[0m             \u001b[0;32mwith\u001b[0m \u001b[0mself\u001b[0m\u001b[0;34m.\u001b[0m\u001b[0mbuiltin_trap\u001b[0m\u001b[0;34m:\u001b[0m\u001b[0;34m\u001b[0m\u001b[0m\n\u001b[0;32m-> 2117\u001b[0;31m                 \u001b[0mresult\u001b[0m \u001b[0;34m=\u001b[0m \u001b[0mfn\u001b[0m\u001b[0;34m(\u001b[0m\u001b[0mmagic_arg_s\u001b[0m\u001b[0;34m,\u001b[0m \u001b[0mcell\u001b[0m\u001b[0;34m)\u001b[0m\u001b[0;34m\u001b[0m\u001b[0m\n\u001b[0m\u001b[1;32m   2118\u001b[0m             \u001b[0;32mreturn\u001b[0m \u001b[0mresult\u001b[0m\u001b[0;34m\u001b[0m\u001b[0m\n\u001b[1;32m   2119\u001b[0m \u001b[0;34m\u001b[0m\u001b[0m\n",
      "\u001b[0;32m<decorator-gen-60>\u001b[0m in \u001b[0;36mtime\u001b[0;34m(self, line, cell, local_ns)\u001b[0m\n",
      "\u001b[0;32m/home/senior-project/.local/lib/python2.7/site-packages/IPython/core/magic.pyc\u001b[0m in \u001b[0;36m<lambda>\u001b[0;34m(f, *a, **k)\u001b[0m\n\u001b[1;32m    186\u001b[0m     \u001b[0;31m# but it's overkill for just that one bit of state.\u001b[0m\u001b[0;34m\u001b[0m\u001b[0;34m\u001b[0m\u001b[0m\n\u001b[1;32m    187\u001b[0m     \u001b[0;32mdef\u001b[0m \u001b[0mmagic_deco\u001b[0m\u001b[0;34m(\u001b[0m\u001b[0marg\u001b[0m\u001b[0;34m)\u001b[0m\u001b[0;34m:\u001b[0m\u001b[0;34m\u001b[0m\u001b[0m\n\u001b[0;32m--> 188\u001b[0;31m         \u001b[0mcall\u001b[0m \u001b[0;34m=\u001b[0m \u001b[0;32mlambda\u001b[0m \u001b[0mf\u001b[0m\u001b[0;34m,\u001b[0m \u001b[0;34m*\u001b[0m\u001b[0ma\u001b[0m\u001b[0;34m,\u001b[0m \u001b[0;34m**\u001b[0m\u001b[0mk\u001b[0m\u001b[0;34m:\u001b[0m \u001b[0mf\u001b[0m\u001b[0;34m(\u001b[0m\u001b[0;34m*\u001b[0m\u001b[0ma\u001b[0m\u001b[0;34m,\u001b[0m \u001b[0;34m**\u001b[0m\u001b[0mk\u001b[0m\u001b[0;34m)\u001b[0m\u001b[0;34m\u001b[0m\u001b[0m\n\u001b[0m\u001b[1;32m    189\u001b[0m \u001b[0;34m\u001b[0m\u001b[0m\n\u001b[1;32m    190\u001b[0m         \u001b[0;32mif\u001b[0m \u001b[0mcallable\u001b[0m\u001b[0;34m(\u001b[0m\u001b[0marg\u001b[0m\u001b[0;34m)\u001b[0m\u001b[0;34m:\u001b[0m\u001b[0;34m\u001b[0m\u001b[0m\n",
      "\u001b[0;32m/home/senior-project/.local/lib/python2.7/site-packages/IPython/core/magics/execution.pyc\u001b[0m in \u001b[0;36mtime\u001b[0;34m(self, line, cell, local_ns)\u001b[0m\n\u001b[1;32m   1179\u001b[0m         \u001b[0;32mif\u001b[0m \u001b[0mmode\u001b[0m\u001b[0;34m==\u001b[0m\u001b[0;34m'eval'\u001b[0m\u001b[0;34m:\u001b[0m\u001b[0;34m\u001b[0m\u001b[0m\n\u001b[1;32m   1180\u001b[0m             \u001b[0mst\u001b[0m \u001b[0;34m=\u001b[0m \u001b[0mclock2\u001b[0m\u001b[0;34m(\u001b[0m\u001b[0;34m)\u001b[0m\u001b[0;34m\u001b[0m\u001b[0m\n\u001b[0;32m-> 1181\u001b[0;31m             \u001b[0mout\u001b[0m \u001b[0;34m=\u001b[0m \u001b[0meval\u001b[0m\u001b[0;34m(\u001b[0m\u001b[0mcode\u001b[0m\u001b[0;34m,\u001b[0m \u001b[0mglob\u001b[0m\u001b[0;34m,\u001b[0m \u001b[0mlocal_ns\u001b[0m\u001b[0;34m)\u001b[0m\u001b[0;34m\u001b[0m\u001b[0m\n\u001b[0m\u001b[1;32m   1182\u001b[0m             \u001b[0mend\u001b[0m \u001b[0;34m=\u001b[0m \u001b[0mclock2\u001b[0m\u001b[0;34m(\u001b[0m\u001b[0;34m)\u001b[0m\u001b[0;34m\u001b[0m\u001b[0m\n\u001b[1;32m   1183\u001b[0m         \u001b[0;32melse\u001b[0m\u001b[0;34m:\u001b[0m\u001b[0;34m\u001b[0m\u001b[0m\n",
      "\u001b[0;32m<timed eval>\u001b[0m in \u001b[0;36m<module>\u001b[0;34m()\u001b[0m\n",
      "\u001b[0;31mNameError\u001b[0m: name 'compute_ret' is not defined"
     ]
    }
   ],
   "source": [
    "%%time\n",
    "[compute_ret(temp.get_alphas(i,9,10)) for i in range(16,26)]"
   ]
  },
  {
   "cell_type": "code",
   "execution_count": 10,
   "metadata": {},
   "outputs": [
    {
     "name": "stdout",
     "output_type": "stream",
     "text": [
      "im done\n"
     ]
    }
   ],
   "source": [
    "print \"im done\""
   ]
  },
  {
   "cell_type": "code",
   "execution_count": null,
   "metadata": {
    "collapsed": true
   },
   "outputs": [],
   "source": []
  }
 ],
 "metadata": {
  "kernelspec": {
   "display_name": "Python 2",
   "language": "python",
   "name": "python2"
  },
  "language_info": {
   "codemirror_mode": {
    "name": "ipython",
    "version": 2
   },
   "file_extension": ".py",
   "mimetype": "text/x-python",
   "name": "python",
   "nbconvert_exporter": "python",
   "pygments_lexer": "ipython2",
   "version": "2.7.12"
  }
 },
 "nbformat": 4,
 "nbformat_minor": 1
}
