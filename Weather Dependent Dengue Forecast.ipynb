{
 "cells": [
  {
   "cell_type": "code",
   "execution_count": 143,
   "metadata": {
    "collapsed": false
   },
   "outputs": [
    {
     "name": "stdout",
     "output_type": "stream",
     "text": [
      "The autoreload extension is already loaded. To reload it, use:\n",
      "  %reload_ext autoreload\n",
      "running model\n"
     ]
    }
   ],
   "source": [
    "%matplotlib inline\n",
    "import pandas as pd\n",
    "import numpy as np\n",
    "import matplotlib.pyplot as plt\n",
    "import datetime\n",
    "from dateutil.relativedelta import relativedelta\n",
    "from scipy.special import expit\n",
    "from scipy.optimize import fmin, minimize\n",
    "import glob as glob\n",
    "import matplotlib\n",
    "matplotlib.style.use('ggplot')\n",
    "\n",
    "# .py\n",
    "%load_ext autoreload\n",
    "%autoreload 2\n",
    "import weather_alphas, weather_costs, model, model_01"
   ]
  },
  {
   "cell_type": "code",
   "execution_count": 51,
   "metadata": {
    "collapsed": true
   },
   "outputs": [],
   "source": [
    "def split_data(data):\n",
    "    train_mask = (data.index < \"2011\")\n",
    "    train = data[train_mask]\n",
    "    test_mask = (data.index > \"2011\")\n",
    "    test = data[test_mask]\n",
    "    return train, test"
   ]
  },
  {
   "cell_type": "markdown",
   "metadata": {},
   "source": [
    "### Retrieve Weather Data"
   ]
  },
  {
   "cell_type": "code",
   "execution_count": 52,
   "metadata": {
    "collapsed": true
   },
   "outputs": [],
   "source": [
    "all_weather = pd.read_csv(\"weather01-16.csv\")"
   ]
  },
  {
   "cell_type": "code",
   "execution_count": 53,
   "metadata": {
    "collapsed": true
   },
   "outputs": [],
   "source": [
    "cm_weather = all_weather[all_weather.stn_name == \"Chiang Mai\"]\n",
    "cm_weather.index = pd.DatetimeIndex(cm_weather.date)\n",
    "mask = (cm_weather.index > \"2003\") & (cm_weather.index < \"2016\")\n",
    "cm_weather = cm_weather[mask]\n",
    "\n",
    "provinces_df = pd.read_csv(\"all-dengues.csv\")\n",
    "provinces_df.index = pd.DatetimeIndex(provinces_df.date)\n",
    "provinces_df = provinces_df.drop(['date','date.1'],axis=1)\n",
    "cm_dengues = provinces_df[provinces_df['จังหวัด'] == 'ChiangMai'].resample('W').size()\n",
    "cm_dengues_df = pd.DataFrame(cm_dengues,columns=['cases'])"
   ]
  },
  {
   "cell_type": "markdown",
   "metadata": {},
   "source": [
    "### Weather Data is only available til Aug of 2016 so use the data til end of 2015. Therefore, dengue data as well"
   ]
  },
  {
   "cell_type": "code",
   "execution_count": 54,
   "metadata": {
    "collapsed": true
   },
   "outputs": [],
   "source": [
    "cm_avg_weather = cm_weather[['avgrh','dday','meantemp']].resample('W').mean()\n",
    "cm_avg_weather['rain'] = cm_weather[['rain']].resample('W').sum() # cumulative rainfall\n",
    "cm_dengues_weather = pd.concat([cm_avg_weather,cm_dengues_df[:-52]],axis=1)\n",
    "\n",
    "cm_dengues_weather_split = split_data(cm_dengues_weather)\n",
    "cm_dengues_train, cm_dengues_test = cm_dengues_weather_split[0], cm_dengues_weather_split[1]"
   ]
  },
  {
   "cell_type": "code",
   "execution_count": 55,
   "metadata": {
    "collapsed": true
   },
   "outputs": [
    {
     "data": {
      "text/html": [
       "<div>\n",
       "<table border=\"1\" class=\"dataframe\">\n",
       "  <thead>\n",
       "    <tr style=\"text-align: right;\">\n",
       "      <th></th>\n",
       "      <th>avgrh</th>\n",
       "      <th>dday</th>\n",
       "      <th>meantemp</th>\n",
       "      <th>rain</th>\n",
       "      <th>cases</th>\n",
       "    </tr>\n",
       "    <tr>\n",
       "      <th>date</th>\n",
       "      <th></th>\n",
       "      <th></th>\n",
       "      <th></th>\n",
       "      <th></th>\n",
       "      <th></th>\n",
       "    </tr>\n",
       "  </thead>\n",
       "  <tbody>\n",
       "    <tr>\n",
       "      <th>2003-01-05</th>\n",
       "      <td>88.250000</td>\n",
       "      <td>3.500000</td>\n",
       "      <td>23.500000</td>\n",
       "      <td>12.2</td>\n",
       "      <td>1</td>\n",
       "    </tr>\n",
       "    <tr>\n",
       "      <th>2003-01-12</th>\n",
       "      <td>81.000000</td>\n",
       "      <td>9.000000</td>\n",
       "      <td>22.828571</td>\n",
       "      <td>0.0</td>\n",
       "      <td>2</td>\n",
       "    </tr>\n",
       "    <tr>\n",
       "      <th>2003-01-19</th>\n",
       "      <td>80.714286</td>\n",
       "      <td>16.000000</td>\n",
       "      <td>21.457143</td>\n",
       "      <td>0.0</td>\n",
       "      <td>5</td>\n",
       "    </tr>\n",
       "    <tr>\n",
       "      <th>2003-01-26</th>\n",
       "      <td>75.857143</td>\n",
       "      <td>23.000000</td>\n",
       "      <td>20.671429</td>\n",
       "      <td>0.0</td>\n",
       "      <td>0</td>\n",
       "    </tr>\n",
       "    <tr>\n",
       "      <th>2003-02-02</th>\n",
       "      <td>75.857143</td>\n",
       "      <td>21.142857</td>\n",
       "      <td>22.628571</td>\n",
       "      <td>0.0</td>\n",
       "      <td>2</td>\n",
       "    </tr>\n",
       "    <tr>\n",
       "      <th>2003-02-09</th>\n",
       "      <td>74.857143</td>\n",
       "      <td>6.000000</td>\n",
       "      <td>22.728571</td>\n",
       "      <td>0.0</td>\n",
       "      <td>2</td>\n",
       "    </tr>\n",
       "    <tr>\n",
       "      <th>2003-02-16</th>\n",
       "      <td>70.857143</td>\n",
       "      <td>13.000000</td>\n",
       "      <td>24.957143</td>\n",
       "      <td>0.0</td>\n",
       "      <td>1</td>\n",
       "    </tr>\n",
       "    <tr>\n",
       "      <th>2003-02-23</th>\n",
       "      <td>62.857143</td>\n",
       "      <td>20.000000</td>\n",
       "      <td>24.200000</td>\n",
       "      <td>0.0</td>\n",
       "      <td>4</td>\n",
       "    </tr>\n",
       "    <tr>\n",
       "      <th>2003-03-02</th>\n",
       "      <td>57.857143</td>\n",
       "      <td>19.000000</td>\n",
       "      <td>24.457143</td>\n",
       "      <td>0.0</td>\n",
       "      <td>3</td>\n",
       "    </tr>\n",
       "    <tr>\n",
       "      <th>2003-03-09</th>\n",
       "      <td>54.714286</td>\n",
       "      <td>6.000000</td>\n",
       "      <td>25.828571</td>\n",
       "      <td>0.0</td>\n",
       "      <td>3</td>\n",
       "    </tr>\n",
       "    <tr>\n",
       "      <th>2003-03-16</th>\n",
       "      <td>70.285714</td>\n",
       "      <td>13.000000</td>\n",
       "      <td>26.414286</td>\n",
       "      <td>6.3</td>\n",
       "      <td>2</td>\n",
       "    </tr>\n",
       "    <tr>\n",
       "      <th>2003-03-23</th>\n",
       "      <td>58.571429</td>\n",
       "      <td>20.000000</td>\n",
       "      <td>27.000000</td>\n",
       "      <td>4.5</td>\n",
       "      <td>3</td>\n",
       "    </tr>\n",
       "    <tr>\n",
       "      <th>2003-03-30</th>\n",
       "      <td>70.142857</td>\n",
       "      <td>27.000000</td>\n",
       "      <td>27.442857</td>\n",
       "      <td>42.7</td>\n",
       "      <td>3</td>\n",
       "    </tr>\n",
       "    <tr>\n",
       "      <th>2003-04-06</th>\n",
       "      <td>63.571429</td>\n",
       "      <td>7.428571</td>\n",
       "      <td>28.685714</td>\n",
       "      <td>7.9</td>\n",
       "      <td>2</td>\n",
       "    </tr>\n",
       "    <tr>\n",
       "      <th>2003-04-13</th>\n",
       "      <td>62.000000</td>\n",
       "      <td>10.000000</td>\n",
       "      <td>29.914286</td>\n",
       "      <td>0.0</td>\n",
       "      <td>3</td>\n",
       "    </tr>\n",
       "    <tr>\n",
       "      <th>2003-04-20</th>\n",
       "      <td>64.428571</td>\n",
       "      <td>17.000000</td>\n",
       "      <td>29.071429</td>\n",
       "      <td>9.4</td>\n",
       "      <td>6</td>\n",
       "    </tr>\n",
       "    <tr>\n",
       "      <th>2003-04-27</th>\n",
       "      <td>65.571429</td>\n",
       "      <td>24.000000</td>\n",
       "      <td>29.228571</td>\n",
       "      <td>2.0</td>\n",
       "      <td>10</td>\n",
       "    </tr>\n",
       "    <tr>\n",
       "      <th>2003-05-04</th>\n",
       "      <td>71.285714</td>\n",
       "      <td>13.857143</td>\n",
       "      <td>28.157143</td>\n",
       "      <td>84.6</td>\n",
       "      <td>10</td>\n",
       "    </tr>\n",
       "    <tr>\n",
       "      <th>2003-05-11</th>\n",
       "      <td>66.000000</td>\n",
       "      <td>8.000000</td>\n",
       "      <td>29.800000</td>\n",
       "      <td>0.0</td>\n",
       "      <td>18</td>\n",
       "    </tr>\n",
       "    <tr>\n",
       "      <th>2003-05-18</th>\n",
       "      <td>75.285714</td>\n",
       "      <td>15.000000</td>\n",
       "      <td>28.314286</td>\n",
       "      <td>23.2</td>\n",
       "      <td>31</td>\n",
       "    </tr>\n",
       "    <tr>\n",
       "      <th>2003-05-25</th>\n",
       "      <td>75.142857</td>\n",
       "      <td>22.000000</td>\n",
       "      <td>28.228571</td>\n",
       "      <td>13.7</td>\n",
       "      <td>25</td>\n",
       "    </tr>\n",
       "    <tr>\n",
       "      <th>2003-06-01</th>\n",
       "      <td>73.285714</td>\n",
       "      <td>24.571429</td>\n",
       "      <td>29.071429</td>\n",
       "      <td>44.4</td>\n",
       "      <td>49</td>\n",
       "    </tr>\n",
       "    <tr>\n",
       "      <th>2003-06-08</th>\n",
       "      <td>82.714286</td>\n",
       "      <td>5.000000</td>\n",
       "      <td>26.871429</td>\n",
       "      <td>19.1</td>\n",
       "      <td>76</td>\n",
       "    </tr>\n",
       "    <tr>\n",
       "      <th>2003-06-15</th>\n",
       "      <td>77.714286</td>\n",
       "      <td>12.000000</td>\n",
       "      <td>27.785714</td>\n",
       "      <td>8.7</td>\n",
       "      <td>91</td>\n",
       "    </tr>\n",
       "    <tr>\n",
       "      <th>2003-06-22</th>\n",
       "      <td>83.000000</td>\n",
       "      <td>19.000000</td>\n",
       "      <td>27.700000</td>\n",
       "      <td>10.3</td>\n",
       "      <td>101</td>\n",
       "    </tr>\n",
       "    <tr>\n",
       "      <th>2003-06-29</th>\n",
       "      <td>84.285714</td>\n",
       "      <td>26.000000</td>\n",
       "      <td>26.814286</td>\n",
       "      <td>42.5</td>\n",
       "      <td>100</td>\n",
       "    </tr>\n",
       "    <tr>\n",
       "      <th>2003-07-06</th>\n",
       "      <td>83.285714</td>\n",
       "      <td>7.285714</td>\n",
       "      <td>27.014286</td>\n",
       "      <td>22.4</td>\n",
       "      <td>97</td>\n",
       "    </tr>\n",
       "    <tr>\n",
       "      <th>2003-07-13</th>\n",
       "      <td>82.000000</td>\n",
       "      <td>10.000000</td>\n",
       "      <td>27.857143</td>\n",
       "      <td>19.9</td>\n",
       "      <td>89</td>\n",
       "    </tr>\n",
       "    <tr>\n",
       "      <th>2003-07-20</th>\n",
       "      <td>76.571429</td>\n",
       "      <td>17.000000</td>\n",
       "      <td>28.428571</td>\n",
       "      <td>12.5</td>\n",
       "      <td>95</td>\n",
       "    </tr>\n",
       "    <tr>\n",
       "      <th>2003-07-27</th>\n",
       "      <td>81.428571</td>\n",
       "      <td>24.000000</td>\n",
       "      <td>27.728571</td>\n",
       "      <td>3.8</td>\n",
       "      <td>124</td>\n",
       "    </tr>\n",
       "  </tbody>\n",
       "</table>\n",
       "</div>"
      ],
      "text/plain": [
       "                avgrh       dday   meantemp  rain  cases\n",
       "date                                                    \n",
       "2003-01-05  88.250000   3.500000  23.500000  12.2      1\n",
       "2003-01-12  81.000000   9.000000  22.828571   0.0      2\n",
       "2003-01-19  80.714286  16.000000  21.457143   0.0      5\n",
       "2003-01-26  75.857143  23.000000  20.671429   0.0      0\n",
       "2003-02-02  75.857143  21.142857  22.628571   0.0      2\n",
       "2003-02-09  74.857143   6.000000  22.728571   0.0      2\n",
       "2003-02-16  70.857143  13.000000  24.957143   0.0      1\n",
       "2003-02-23  62.857143  20.000000  24.200000   0.0      4\n",
       "2003-03-02  57.857143  19.000000  24.457143   0.0      3\n",
       "2003-03-09  54.714286   6.000000  25.828571   0.0      3\n",
       "2003-03-16  70.285714  13.000000  26.414286   6.3      2\n",
       "2003-03-23  58.571429  20.000000  27.000000   4.5      3\n",
       "2003-03-30  70.142857  27.000000  27.442857  42.7      3\n",
       "2003-04-06  63.571429   7.428571  28.685714   7.9      2\n",
       "2003-04-13  62.000000  10.000000  29.914286   0.0      3\n",
       "2003-04-20  64.428571  17.000000  29.071429   9.4      6\n",
       "2003-04-27  65.571429  24.000000  29.228571   2.0     10\n",
       "2003-05-04  71.285714  13.857143  28.157143  84.6     10\n",
       "2003-05-11  66.000000   8.000000  29.800000   0.0     18\n",
       "2003-05-18  75.285714  15.000000  28.314286  23.2     31\n",
       "2003-05-25  75.142857  22.000000  28.228571  13.7     25\n",
       "2003-06-01  73.285714  24.571429  29.071429  44.4     49\n",
       "2003-06-08  82.714286   5.000000  26.871429  19.1     76\n",
       "2003-06-15  77.714286  12.000000  27.785714   8.7     91\n",
       "2003-06-22  83.000000  19.000000  27.700000  10.3    101\n",
       "2003-06-29  84.285714  26.000000  26.814286  42.5    100\n",
       "2003-07-06  83.285714   7.285714  27.014286  22.4     97\n",
       "2003-07-13  82.000000  10.000000  27.857143  19.9     89\n",
       "2003-07-20  76.571429  17.000000  28.428571  12.5     95\n",
       "2003-07-27  81.428571  24.000000  27.728571   3.8    124"
      ]
     },
     "execution_count": 55,
     "metadata": {},
     "output_type": "execute_result"
    }
   ],
   "source": [
    "cm_dengues_weather.iloc[:30,:]"
   ]
  },
  {
   "cell_type": "code",
   "execution_count": 56,
   "metadata": {
    "collapsed": false
   },
   "outputs": [],
   "source": [
    "def make_line(start_week,real,predictions,title,x_axis,y_axis,\n",
    "              real_legend='Real',predict_legend='Prediction'):\n",
    "    plt.figure(figsize=(12,6))\n",
    "    plt.plot(range(len(real)),real,'-r',label=real_legend)\n",
    "    plt.plot(range(start_week,len(predictions)+start_week),predictions,'-k',label=predict_legend,alpha=0.4)\n",
    "    plt.axvline(start_week)\n",
    "    plt.text((start_week*2)+10,300,'Prediction Start',horizontalalignment='center',verticalalignment='center')\n",
    "    plt.xlabel(x_axis)\n",
    "    plt.ylabel(y_axis)\n",
    "    plt.legend()\n",
    "    plt.title(title)\n",
    "    \n",
    "def plot_all_predictions(LAG, real, province, nweeks_to_predict, all_predictions):\n",
    "    \n",
    "    plt.figure(figsize=(13,6))\n",
    "    plt.plot(range(len(real)),real,label='real')\n",
    "    graph_title = \"%s's Dengue Prediction with Mean Temperature\"%province\n",
    "    plt.title(graph_title)\n",
    "    for i in range(len(all_predictions)):\n",
    "        cur_week_guess = nweeks_to_predict[i]\n",
    "        start_predict_week = LAG+(cur_week_guess-1)\n",
    "        predicted_cases = all_predictions[i]\n",
    "        x_weeks = range(start_predict_week,len(predicted_cases)+start_predict_week)\n",
    "        line_label = \"%d week guess\"%cur_week_guess\n",
    "        plt.plot(x_weeks,predicted_cases,label=line_label,alpha=0.8)\n",
    "    \n",
    "    seperate_train_test(cm_dengues_df.cases,cm_dengues_train)\n",
    "    plt.axvline(LAG)\n",
    "    plt.text((LAG*2)+10,300,'Prediction Start',horizontalalignment='center',verticalalignment='center')\n",
    "    plt.xlabel(\"# week starting 2003\")\n",
    "    plt.ylabel(\"Dengue cases\")\n",
    "    plt.legend()\n",
    "    plt.savefig(\"16-lags-16-weeks-9-temp-wks-chiangmai-00.png\")\n",
    "    \n",
    "def seperate_train_test(all_data,train_data):\n",
    "    plt.axvspan(0, len(train_data), color='blue', alpha=0.1)\n",
    "    plt.text((len(train_data)/2)-25,700,'Train Period',size=16)\n",
    "    plt.axvline(len(train_data)+1,linewidth=0.5, color='green')\n",
    "    plt.text(len(train_data)+20,700,'Test Period',size=16)\n",
    "    plt.axvspan(len(train_data)+1, len(all_data), color='green', alpha=0.1)"
   ]
  },
  {
   "cell_type": "code",
   "execution_count": 169,
   "metadata": {
    "collapsed": false,
    "scrolled": false
   },
   "outputs": [
    {
     "name": "stdout",
     "output_type": "stream",
     "text": [
      "running model\n",
      "40\n",
      "40\n",
      "all_arr\n",
      "CPU times: user 9min 37s, sys: 2.85 s, total: 9min 40s\n",
      "Wall time: 9min 45s\n"
     ]
    }
   ],
   "source": [
    "%%time\n",
    "cm_16_add = weather_alphas.get_alphas(16,9,10,cm_dengues_train[:52])"
   ]
  },
  {
   "cell_type": "code",
   "execution_count": 194,
   "metadata": {
    "collapsed": false
   },
   "outputs": [
    {
     "data": {
      "text/plain": [
       "array([  3.97284561e+00,   0.00000000e+00,   0.00000000e+00,\n",
       "         0.00000000e+00,   0.00000000e+00,   0.00000000e+00,\n",
       "         0.00000000e+00,   0.00000000e+00,   0.00000000e+00,\n",
       "         0.00000000e+00,   0.00000000e+00,   0.00000000e+00,\n",
       "         0.00000000e+00,   0.00000000e+00,   2.72505353e-03,\n",
       "         5.73356709e-01,   3.09066490e-08,  -2.85698561e-01,\n",
       "         1.17162353e+01,   1.19903511e+00,   7.95786250e-01,\n",
       "        -2.84456617e+00,  -2.02639839e-02,  -1.36805038e+00,\n",
       "        -1.04083751e+00,   1.79087865e+00,   1.54163938e+00,\n",
       "         3.25631527e-01,   1.36912475e+00,  -1.45416367e-01,\n",
       "         3.18550885e-02,   6.13823486e-03,  -3.86416227e-03,\n",
       "        -3.22073410e-03,   2.48589139e-03,  -4.13651139e-02,\n",
       "         5.25938855e-02,  -4.76866453e-02,  -1.03947843e-02,\n",
       "         6.82901137e-04])"
      ]
     },
     "execution_count": 194,
     "metadata": {},
     "output_type": "execute_result"
    }
   ],
   "source": [
    "cm_16_add.x"
   ]
  },
  {
   "cell_type": "code",
   "execution_count": 81,
   "metadata": {
    "collapsed": false
   },
   "outputs": [
    {
     "name": "stdout",
     "output_type": "stream",
     "text": [
      "40\n",
      "40\n",
      "all_arr\n",
      "CPU times: user 2h 59min 29s, sys: 1min 27s, total: 3h 56s\n",
      "Wall time: 3h 4min 35s\n"
     ]
    }
   ],
   "source": [
    "%%time\n",
    "cm_16_add_full = weather_alphas.get_alphas(16,9,10,cm_dengues_train)"
   ]
  },
  {
   "cell_type": "code",
   "execution_count": 188,
   "metadata": {
    "collapsed": true
   },
   "outputs": [
    {
     "data": {
      "text/plain": [
       "      fun: 298.77094579510555\n",
       " hess_inv: <40x40 LbfgsInvHessProduct with dtype=float64>\n",
       "      jac: array([  3.02869125e+00,  -1.18689059e-02,  -4.78053153e-03,\n",
       "        -3.00133252e-03,  -3.41060513e-05,  -4.54747351e-05,\n",
       "         0.00000000e+00,   1.13686838e-05,   1.13686838e-05,\n",
       "         5.68434189e-06,   0.00000000e+00,   0.00000000e+00,\n",
       "         1.13686838e-05,   5.68434189e-06,   0.00000000e+00,\n",
       "         2.22231051e+00,   4.40678605e-01,   2.12353939e+00,\n",
       "         8.46431476e+00,   1.30474746e+01,  -1.94507493e+01,\n",
       "        -2.34096831e+01,  -1.76001151e+01,  -2.88643605e+01,\n",
       "        -2.15063778e+01,  -1.38229780e+01,  -1.76366541e+01,\n",
       "        -6.20038918e+00,  -7.30829584e+00,  -4.95049335e-02,\n",
       "        -7.10285804e+00,  -4.15442969e+00,  -2.29421175e+00,\n",
       "         8.05425771e-01,   1.13510623e+00,   1.56508122e+00,\n",
       "         3.58901957e+00,   6.57104238e-01,   4.05134415e-01,\n",
       "         1.03473781e+00])\n",
       "  message: 'STOP: TOTAL NO. of f AND g EVALUATIONS EXCEEDS LIMIT'\n",
       "     nfev: 15006\n",
       "      nit: 298\n",
       "   status: 1\n",
       "  success: False\n",
       "        x: array([  1.49943373e+00,   8.21030292e-06,   4.05945196e-06,\n",
       "         3.25663415e-06,   4.54707359e-08,   1.42527733e-07,\n",
       "         6.76344372e-08,   7.67912091e-08,   2.91158045e-08,\n",
       "         1.27635470e-08,   1.10246682e-10,   0.00000000e+00,\n",
       "         3.34870875e-08,   1.73252647e-08,   3.41969173e-10,\n",
       "         1.75884147e-01,   5.12331635e-01,  -1.06049400e+00,\n",
       "         1.77168563e+01,   3.59999016e-01,  -1.36404792e-03,\n",
       "        -1.31244766e-03,  -2.08738933e-03,  -2.04650694e-03,\n",
       "        -1.51017536e-03,  -2.48737017e-03,  -1.16508976e-03,\n",
       "        -2.32403673e-04,  -1.58754204e-03,   1.62608085e-01,\n",
       "        -8.60357335e-01,  -7.63873099e-01,  -6.61268431e-01,\n",
       "        -3.08987454e-01,  -2.55690466e-01,  -1.50134892e-01,\n",
       "        -3.47572795e-01,  -3.69804363e-02,   8.09455557e-01,\n",
       "         8.19035111e-01])"
      ]
     },
     "execution_count": 188,
     "metadata": {},
     "output_type": "execute_result"
    }
   ],
   "source": [
    "cm_16_add_full"
   ]
  },
  {
   "cell_type": "code",
   "execution_count": 84,
   "metadata": {
    "collapsed": false
   },
   "outputs": [],
   "source": [
    "# pd.DataFrame(cm_16_add_full.x).to_csv('16-lags-16-weeks-9-temp-10-rain-chiangmai-00.csv',index=False)"
   ]
  },
  {
   "cell_type": "code",
   "execution_count": 182,
   "metadata": {
    "collapsed": false
   },
   "outputs": [
    {
     "data": {
      "text/plain": [
       "40"
      ]
     },
     "execution_count": 182,
     "metadata": {},
     "output_type": "execute_result"
    }
   ],
   "source": [
    "ws_csv = pd.read_csv('16-lags-16-weeks-9-temp-10-rain-chiangmai-00.csv')\n",
    "aa = np.append([],np.array(ws_csv))\n",
    "len(aa)"
   ]
  },
  {
   "cell_type": "code",
   "execution_count": 142,
   "metadata": {
    "collapsed": false
   },
   "outputs": [
    {
     "name": "stdout",
     "output_type": "stream",
     "text": [
      "running model\n"
     ]
    }
   ],
   "source": [
    "# %%time\n",
    "# ws_csv_df = pd.read_csv('16-lags-16-weeks-9-temp-wks-chiangmai-00.csv')\n",
    "# ws_csv = np.append([],np.array(ws_csv_df))\n",
    "# cm_16 = weather_alphas.get_alphas(16,9,cm_dengues_train,ws_csv=ws_csv)"
   ]
  },
  {
   "cell_type": "code",
   "execution_count": 248,
   "metadata": {
    "collapsed": false
   },
   "outputs": [
    {
     "data": {
      "text/plain": [
       "array([  9.61211813e-02,   1.72192925e-02,   1.80836212e-03,\n",
       "         1.58402313e-02,   0.00000000e+00,   0.00000000e+00,\n",
       "         0.00000000e+00,   0.00000000e+00,   0.00000000e+00,\n",
       "         0.00000000e+00,   0.00000000e+00,   0.00000000e+00,\n",
       "         0.00000000e+00,   2.97885047e-07,   1.84455325e-02,\n",
       "         2.65748425e-02,   3.03515141e-02,   5.82038936e-01,\n",
       "         1.09483927e+01,   1.76711845e+00,   3.97188791e-01,\n",
       "        -6.38500770e-01,  -1.04255891e+00,  -1.26904683e+00,\n",
       "        -6.18459499e-01,   3.93512471e-01,   2.20589571e+00,\n",
       "         3.69883909e+00,   4.68217830e+00])"
      ]
     },
     "execution_count": 248,
     "metadata": {},
     "output_type": "execute_result"
    }
   ],
   "source": [
    "cm_16.x"
   ]
  },
  {
   "cell_type": "code",
   "execution_count": 246,
   "metadata": {
    "collapsed": true
   },
   "outputs": [
    {
     "data": {
      "text/plain": [
       "array([  1.02033529e-01,   2.27736006e-02,   3.90921405e-03,\n",
       "         5.71538961e-03,   0.00000000e+00,   0.00000000e+00,\n",
       "         0.00000000e+00,   0.00000000e+00,   0.00000000e+00,\n",
       "         0.00000000e+00,   0.00000000e+00,   0.00000000e+00,\n",
       "         0.00000000e+00,   1.37771680e-03,   4.44020911e-03,\n",
       "         3.28166537e-02,   2.97414987e-02,   5.23939394e-01,\n",
       "         1.16465605e+01,   1.55979704e+00,   2.10345037e+00,\n",
       "         2.93784460e-01,  -1.34772844e+00,  -2.25757541e+00,\n",
       "        -1.08141065e+00,   1.46282013e+00,   2.18522250e+00,\n",
       "         3.06260276e+00,   3.52131376e+00])"
      ]
     },
     "execution_count": 246,
     "metadata": {},
     "output_type": "execute_result"
    }
   ],
   "source": [
    "ws_csv"
   ]
  },
  {
   "cell_type": "code",
   "execution_count": 195,
   "metadata": {
    "collapsed": false
   },
   "outputs": [],
   "source": [
    "def get_predictions(LAG, TEMPERATURE_WEEKS, RAIN_WEEKS, real, ws, province, nweeks_to_predict=[1,2,4,8,16]):\n",
    "\n",
    "    def n_week_ahead(cases_for_prediction, temps_for_prediction, rains_for_prediction, \n",
    "                     weeks_ahead, case_week_to_predict):\n",
    "\n",
    "        cur_prediction = 0\n",
    "        prev_cases = np.array(cases_for_prediction.cases)\n",
    "        for i in range(weeks_ahead):\n",
    "            week_to_predict = case_week_to_predict + i\n",
    "#             print week_to_predict\n",
    "#             print case_week_to_predict + i\n",
    "#             print case_week_to_predict\n",
    "#             mean_temp = real.meantemp[]\n",
    "            cur_prediction = model.guess(\n",
    "                ws, \n",
    "                week_to_predict, \n",
    "                prev_cases,\n",
    "                temps_for_prediction,\n",
    "                rains_for_prediction)\n",
    "            prev_cases = np.append(prev_cases[1:],cur_prediction) # deduct the first elm out\n",
    "        return cur_prediction\n",
    "\n",
    "    all_predictions = []\n",
    "    for nweek in nweeks_to_predict: # 1,2,4,8,16\n",
    "        predictions = []\n",
    "        for start_week in range(len(real)-(LAG)):\n",
    "            case_week_to_predict = start_week + LAG\n",
    "            cases_for_prediction = real[start_week:case_week_to_predict]\n",
    "            \n",
    "            temp_week_to_predict = start_week+TEMPERATURE_WEEKS\n",
    "            temps_for_prediction = real.meantemp[start_week:temp_week_to_predict]\n",
    "            \n",
    "            rain_week_to_predict = start_week+RAIN_WEEKS\n",
    "            rains_for_prediction = real.meantemp[start_week:rain_week_to_predict]\n",
    "            \n",
    "            prediction = n_week_ahead(\n",
    "                cases_for_prediction,\n",
    "                temps_for_prediction,\n",
    "                rains_for_prediction,\n",
    "                nweek,\n",
    "                case_week_to_predict)\n",
    "            predictions.append(prediction)\n",
    "        all_predictions.append(predictions)\n",
    "    return all_predictions\n",
    "\n",
    "    ## plot all predictions\n",
    "#     plot_all_predictions(LAG, real.cases, province, nweeks_to_predict, all_predictions)\n",
    "    \n",
    "def validation(prediction, real):\n",
    "    residual_sq = (real - prediction)**2\n",
    "    real = np.array(real)\n",
    "    sigma = np.mean(real)**0.5\n",
    "    score = residual_sq / float(sigma)\n",
    "    return sum(score) / len(real)"
   ]
  },
  {
   "cell_type": "code",
   "execution_count": 196,
   "metadata": {
    "collapsed": false
   },
   "outputs": [],
   "source": [
    "for_validation_01 = get_predictions(16, 9, 10, cm_dengues_weather, cm_16_add_full.x, \"ChiangMai\")"
   ]
  },
  {
   "cell_type": "code",
   "execution_count": 201,
   "metadata": {
    "collapsed": true
   },
   "outputs": [
    {
     "data": {
      "image/png": "[encoded data removed]",
      "text/plain": [
       "<matplotlib.figure.Figure at 0x116d70150>"
      ]
     },
     "metadata": {},
     "output_type": "display_data"
    }
   ],
   "source": [
    "plot_all_predictions(16, cm_dengues_weather.cases, \"ChiangMai\", [1,2,4,8,16], for_validation_01)"
   ]
  },
  {
   "cell_type": "code",
   "execution_count": 197,
   "metadata": {
    "collapsed": false
   },
   "outputs": [
    {
     "name": "stdout",
     "output_type": "stream",
     "text": [
      "241.594110209\n",
      "450.157199276\n",
      "880.334553184\n",
      "1457.13772329\n",
      "1693.57336387\n"
     ]
    }
   ],
   "source": [
    "a = [1,2,4,8,16]\n",
    "for i,e in enumerate(for_validation_01):\n",
    "    pred = np.array(e)\n",
    "#     print len(pred[:-a[i]])\n",
    "#     print len(cm_dengues_weather.cases[16+a[i]:])\n",
    "    print validation(pred[:-a[i]],cm_dengues_weather.cases[16+a[i]:])\n",
    "    \n",
    "#     plt.plot(range(len(cm_dengues_weather.cases[16+a[i]:])),cm_dengues_weather.cases[16+a[i]:])\n",
    "#     plt.plot(pred[:-a[i]])\n",
    "#     cm_dengues_weather.cases[16+a[i] - 1:] - pred[:a[i]-1]"
   ]
  },
  {
   "cell_type": "code",
   "execution_count": 191,
   "metadata": {
    "collapsed": false
   },
   "outputs": [
    {
     "name": "stdout",
     "output_type": "stream",
     "text": [
      "241.59411021\n",
      "450.157199277\n",
      "880.334553186\n",
      "1457.1377233\n",
      "1693.57336387\n"
     ]
    }
   ],
   "source": [
    "a = [1,2,4,8,16]\n",
    "for i,e in enumerate(for_validation_02):\n",
    "    pred = np.array(e)\n",
    "#     print len(pred[:-a[i]])\n",
    "#     print len(cm_dengues_weather.cases[16+a[i]:])\n",
    "    print validation(pred[:-a[i]],cm_dengues_weather.cases[16+a[i]:])"
   ]
  },
  {
   "cell_type": "code",
   "execution_count": null,
   "metadata": {
    "collapsed": true
   },
   "outputs": [],
   "source": []
  },
  {
   "cell_type": "code",
   "execution_count": 187,
   "metadata": {
    "collapsed": true
   },
   "outputs": [
    {
     "data": {
      "text/plain": [
       "[<matplotlib.lines.Line2D at 0x112aa7810>]"
      ]
     },
     "execution_count": 187,
     "metadata": {},
     "output_type": "execute_result"
    },
    {
     "data": {
      "image/png": "[encoded data removed]",
      "text/plain": [
       "<matplotlib.figure.Figure at 0x112aa7690>"
      ]
     },
     "metadata": {},
     "output_type": "display_data"
    }
   ],
   "source": [
    "# plt.plot(range(len(cm_dengues_weather.cases[16+1:])),cm_dengues_weather.cases[16+1:])\n",
    "plt.plot(for_validation[0][:-1])\n"
   ]
  },
  {
   "cell_type": "code",
   "execution_count": 193,
   "metadata": {
    "collapsed": false
   },
   "outputs": [
    {
     "data": {
      "text/plain": [
       "235.68935928683646"
      ]
     },
     "execution_count": 193,
     "metadata": {},
     "output_type": "execute_result"
    }
   ],
   "source": [
    "def validation(prediction, real):\n",
    "    residual_sq = (real - prediction)**2\n",
    "    real = np.array(real)\n",
    "    sigma = np.mean(real)**0.5\n",
    "    score = residual_sq / float(sigma)\n",
    "    return sum(score) / len(real)\n",
    "\n",
    "validation(for_validation[0][:-1],cm_dengues_weather.cases[16+1:])"
   ]
  },
  {
   "cell_type": "code",
   "execution_count": null,
   "metadata": {
    "collapsed": true
   },
   "outputs": [],
   "source": []
  },
  {
   "cell_type": "code",
   "execution_count": null,
   "metadata": {
    "collapsed": true
   },
   "outputs": [],
   "source": [
    "## "
   ]
  },
  {
   "cell_type": "code",
   "execution_count": 68,
   "metadata": {
    "collapsed": true
   },
   "outputs": [
    {
     "name": "stdout",
     "output_type": "stream",
     "text": [
      "date\n",
      "2003-01-05    23.500000\n",
      "2003-01-12    22.828571\n",
      "2003-01-19    21.457143\n",
      "2003-01-26    20.671429\n",
      "2003-02-02    22.628571\n",
      "2003-02-09    22.728571\n",
      "2003-02-16    24.957143\n",
      "2003-02-23    24.200000\n",
      "2003-03-02    24.457143\n",
      "Freq: W-SUN, Name: meantemp, dtype: float64\n",
      "date\n",
      "2003-01-12    22.828571\n",
      "2003-01-19    21.457143\n",
      "2003-01-26    20.671429\n",
      "2003-02-02    22.628571\n",
      "2003-02-09    22.728571\n",
      "2003-02-16    24.957143\n",
      "2003-02-23    24.200000\n",
      "2003-03-02    24.457143\n",
      "2003-03-09    25.828571\n",
      "Freq: W-SUN, Name: meantemp, dtype: float64\n",
      "date\n",
      "2003-01-19    21.457143\n",
      "2003-01-26    20.671429\n",
      "2003-02-02    22.628571\n",
      "2003-02-09    22.728571\n",
      "2003-02-16    24.957143\n",
      "2003-02-23    24.200000\n",
      "2003-03-02    24.457143\n",
      "2003-03-09    25.828571\n",
      "2003-03-16    26.414286\n",
      "Freq: W-SUN, Name: meantemp, dtype: float64\n",
      "date\n",
      "2003-01-26    20.671429\n",
      "2003-02-02    22.628571\n",
      "2003-02-09    22.728571\n",
      "2003-02-16    24.957143\n",
      "2003-02-23    24.200000\n",
      "2003-03-02    24.457143\n",
      "2003-03-09    25.828571\n",
      "2003-03-16    26.414286\n",
      "2003-03-23    27.000000\n",
      "Freq: W-SUN, Name: meantemp, dtype: float64\n",
      "date\n",
      "2003-02-02    22.628571\n",
      "2003-02-09    22.728571\n",
      "2003-02-16    24.957143\n",
      "2003-02-23    24.200000\n",
      "2003-03-02    24.457143\n",
      "2003-03-09    25.828571\n",
      "2003-03-16    26.414286\n",
      "2003-03-23    27.000000\n",
      "2003-03-30    27.442857\n",
      "Freq: W-SUN, Name: meantemp, dtype: float64\n",
      "date\n",
      "2003-02-09    22.728571\n",
      "2003-02-16    24.957143\n",
      "2003-02-23    24.200000\n",
      "2003-03-02    24.457143\n",
      "2003-03-09    25.828571\n",
      "2003-03-16    26.414286\n",
      "2003-03-23    27.000000\n",
      "2003-03-30    27.442857\n",
      "2003-04-06    28.685714\n",
      "Freq: W-SUN, Name: meantemp, dtype: float64\n",
      "date\n",
      "2003-02-16    24.957143\n",
      "2003-02-23    24.200000\n",
      "2003-03-02    24.457143\n",
      "2003-03-09    25.828571\n",
      "2003-03-16    26.414286\n",
      "2003-03-23    27.000000\n",
      "2003-03-30    27.442857\n",
      "2003-04-06    28.685714\n",
      "2003-04-13    29.914286\n",
      "Freq: W-SUN, Name: meantemp, dtype: float64\n",
      "date\n",
      "2003-02-23    24.200000\n",
      "2003-03-02    24.457143\n",
      "2003-03-09    25.828571\n",
      "2003-03-16    26.414286\n",
      "2003-03-23    27.000000\n",
      "2003-03-30    27.442857\n",
      "2003-04-06    28.685714\n",
      "2003-04-13    29.914286\n",
      "2003-04-20    29.071429\n",
      "Freq: W-SUN, Name: meantemp, dtype: float64\n",
      "date\n",
      "2003-03-02    24.457143\n",
      "2003-03-09    25.828571\n",
      "2003-03-16    26.414286\n",
      "2003-03-23    27.000000\n",
      "2003-03-30    27.442857\n",
      "2003-04-06    28.685714\n",
      "2003-04-13    29.914286\n",
      "2003-04-20    29.071429\n",
      "2003-04-27    29.228571\n",
      "Freq: W-SUN, Name: meantemp, dtype: float64\n",
      "date\n",
      "2003-03-09    25.828571\n",
      "2003-03-16    26.414286\n",
      "2003-03-23    27.000000\n",
      "2003-03-30    27.442857\n",
      "2003-04-06    28.685714\n",
      "2003-04-13    29.914286\n",
      "2003-04-20    29.071429\n",
      "2003-04-27    29.228571\n",
      "2003-05-04    28.157143\n",
      "Freq: W-SUN, Name: meantemp, dtype: float64\n",
      "date\n",
      "2003-03-16    26.414286\n",
      "2003-03-23    27.000000\n",
      "2003-03-30    27.442857\n",
      "2003-04-06    28.685714\n",
      "2003-04-13    29.914286\n",
      "2003-04-20    29.071429\n",
      "2003-04-27    29.228571\n",
      "2003-05-04    28.157143\n",
      "2003-05-11    29.800000\n",
      "Freq: W-SUN, Name: meantemp, dtype: float64\n"
     ]
    }
   ],
   "source": [
    "def nweek_ahead_cost(ws, week_forward, start_week, end_week, data, cases_for_pred, temps_for_pred):\n",
    "    \n",
    "#     print end_week\n",
    "    ret = 0\n",
    "    for aweek in range(week_forward): # 16 loops; when you want to predict 14 weeks ahead\n",
    "        week_to_predict = aweek+end_week\n",
    "        real_case = data.cases[aweek+end_week] +1 # avoid getting zeros\n",
    "        \n",
    "#         print \"real\",real_case - 1\n",
    "#         print \"mean_temp\",mean_temperatures\n",
    "#         print 'wtp',week_to_predict\n",
    "#         print cases_for_pred\n",
    "#         print \"tmp_week\",aweek,end_temp_wk\n",
    "#         print \"end_week\",aweek,end_week\n",
    "    \n",
    "        predicted_case = model.guess(\n",
    "              ws, \n",
    "              week_to_predict, \n",
    "              cases_for_pred,\n",
    "              temps_for_pred,\n",
    "              )\n",
    "        \n",
    "        cases_for_pred = np.append(cases_for_pred[1:],predicted_case)\n",
    "        sigma_sq = real_case + 1\n",
    "        ret += ((real_case - predicted_case)**2)/float(sigma_sq)\n",
    "    return ret\n",
    "    \n",
    "    \n",
    "data = cm_dengues_train[:42] #range(1,100)\n",
    "start_week,end_week,end_temp_wk = 0,16,9\n",
    "week_forward = 16\n",
    "\n",
    "all_penalties = []\n",
    "for real_week in range(len(data)-(week_forward+end_week-1)):\n",
    "    cases_for_pred = data.cases[start_week:end_week]\n",
    "    temps_for_pred = data.meantemp[start_week:end_temp_wk]\n",
    "#     mean_temp = data.meantemp[]\n",
    "#     print len(cases_for_pred)\n",
    "#     print 'fw',future_week\n",
    "#     print \"meantemp\", data.meantemp[real_week]\n",
    "    print temps_for_pred\n",
    "    cur_penalty = nweek_ahead_cost(\n",
    "        [1.]*29, \n",
    "        week_forward, \n",
    "        start_week, \n",
    "        end_week, \n",
    "        data,\n",
    "        cases_for_pred,\n",
    "        temps_for_pred)\n",
    "    \n",
    "    all_penalties.append(cur_penalty)\n",
    "        \n",
    "    start_week+=1\n",
    "    end_week+=1\n",
    "    end_temp_wk+=1\n",
    "\n",
    "# all_penalties"
   ]
  },
  {
   "cell_type": "code",
   "execution_count": 23,
   "metadata": {
    "collapsed": false
   },
   "outputs": [
    {
     "data": {
      "text/plain": [
       "[None, None, None, None, None]"
      ]
     },
     "execution_count": 23,
     "metadata": {},
     "output_type": "execute_result"
    }
   ],
   "source": [
    "bng = [(None,None),(1,None)]\n",
    "[bng.extend([(None,0.)]) for i in range(5)]\n",
    "bng "
   ]
  },
  {
   "cell_type": "code",
   "execution_count": null,
   "metadata": {
    "collapsed": true
   },
   "outputs": [],
   "source": [
    "# def validation():\n"
   ]
  }
 ],
 "metadata": {
  "anaconda-cloud": {},
  "kernelspec": {
   "display_name": "Python [conda root]",
   "language": "python",
   "name": "conda-root-py"
  },
  "language_info": {
   "codemirror_mode": {
    "name": "ipython",
    "version": 2
   },
   "file_extension": ".py",
   "mimetype": "text/x-python",
   "name": "python",
   "nbconvert_exporter": "python",
   "pygments_lexer": "ipython2",
   "version": "2.7.13"
  }
 },
 "nbformat": 4,
 "nbformat_minor": 1
}
