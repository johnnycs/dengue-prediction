{
 "cells": [
  {
   "cell_type": "code",
   "execution_count": 1,
   "metadata": {
    "collapsed": false
   },
   "outputs": [
    {
     "name": "stderr",
     "output_type": "stream",
     "text": [
      "/Users/JohnnyV/anaconda2/lib/python2.7/site-packages/matplotlib/font_manager.py:273: UserWarning: Matplotlib is building the font cache using fc-list. This may take a moment.\n",
      "  warnings.warn('Matplotlib is building the font cache using fc-list. This may take a moment.')\n"
     ]
    }
   ],
   "source": [
    "%matplotlib inline\n",
    "import pandas as pd\n",
    "import numpy as np\n",
    "import matplotlib.pyplot as plt\n",
    "import datetime\n",
    "from dateutil.relativedelta import relativedelta\n",
    "from scipy.special import expit\n",
    "from scipy.optimize import fmin, minimize\n",
    "import glob as glob\n",
    "import matplotlib\n",
    "matplotlib.style.use('ggplot')"
   ]
  },
  {
   "cell_type": "code",
   "execution_count": 2,
   "metadata": {
    "collapsed": true
   },
   "outputs": [],
   "source": [
    "def split_data(data):\n",
    "    train_mask = (data.index < \"2011\")\n",
    "    train = data[train_mask].cases\n",
    "    test_mask = (data.index > \"2011\")\n",
    "    test = data[test_mask].cases\n",
    "    return train, test"
   ]
  },
  {
   "cell_type": "code",
   "execution_count": 3,
   "metadata": {
    "collapsed": true
   },
   "outputs": [],
   "source": [
    "provinces_df = pd.read_csv(\"all-dengues.csv\")\n",
    "provinces_df.index = pd.DatetimeIndex(provinces_df.date)\n",
    "provinces_df = provinces_df.drop(['date','date.1'],axis=1)\n",
    "\n",
    "cr_dengues = provinces_df[provinces_df['จังหวัด'] == 'ChiangRai'].resample('W').size()\n",
    "cr_dengues_df = pd.DataFrame(cr_dengues,columns=['cases'])\n",
    "cr_train_test = split_data(cr_dengues_df)\n",
    "cr_dengues_train, cr_dengues_test = cr_train_test[0], cr_train_test[1]\n",
    "\n",
    "cm_dengues = provinces_df[provinces_df['จังหวัด'] == 'ChiangMai'].resample('W').size()\n",
    "cm_dengues_df = pd.DataFrame(cm_dengues,columns=['cases'])\n",
    "cm_train_test = split_data(cm_dengues_df)\n",
    "cm_dengues_train, cm_dengues_test = cm_train_test[0], cm_train_test[1]\n",
    "\n",
    "all_dengues = provinces_df.resample('W').size()\n",
    "all_dengues_df = pd.DataFrame(all_dengues,columns=['cases'])\n",
    "all_train_test = split_data(all_dengues_df)\n",
    "all_dengues_train, all_dengues_test = all_train_test[0], all_train_test[1]"
   ]
  },
  {
   "cell_type": "code",
   "execution_count": 4,
   "metadata": {
    "collapsed": true
   },
   "outputs": [],
   "source": [
    "def make_line(start_week,real,predictions,title,x_axis,y_axis,\n",
    "              real_legend='Real',predict_legend='Prediction'):\n",
    "    plt.figure(figsize=(12,6))\n",
    "    plt.plot([i for i in range(len(real))],np.array(real),'-r',label=real_legend)\n",
    "    plt.plot([i for i in range(start_week,len(real)+1)],predictions,'-k',label=predict_legend,alpha=0.4)\n",
    "    plt.axvline(start_week,label=\"prediction\")\n",
    "    plt.xlabel(x_axis)\n",
    "    plt.ylabel(y_axis)\n",
    "    plt.legend()\n",
    "    plt.title(title)"
   ]
  },
  {
   "cell_type": "code",
   "execution_count": null,
   "metadata": {
    "collapsed": true
   },
   "outputs": [],
   "source": []
  }
 ],
 "metadata": {
  "anaconda-cloud": {},
  "kernelspec": {
   "display_name": "Python [conda root]",
   "language": "python",
   "name": "conda-root-py"
  },
  "language_info": {
   "codemirror_mode": {
    "name": "ipython",
    "version": 2
   },
   "file_extension": ".py",
   "mimetype": "text/x-python",
   "name": "python",
   "nbconvert_exporter": "python",
   "pygments_lexer": "ipython2",
   "version": "2.7.13"
  }
 },
 "nbformat": 4,
 "nbformat_minor": 1
}
