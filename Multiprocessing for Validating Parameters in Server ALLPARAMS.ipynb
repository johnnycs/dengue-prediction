{
 "cells": [
  {
   "cell_type": "code",
   "execution_count": 8,
   "metadata": {
    "scrolled": true
   },
   "outputs": [
    {
     "name": "stdout",
     "output_type": "stream",
     "text": [
      "The autoreload extension is already loaded. To reload it, use:\n",
      "  %reload_ext autoreload\n"
     ]
    }
   ],
   "source": [
    "%matplotlib inline\n",
    "import pandas as pd\n",
    "import numpy as np\n",
    "import matplotlib.pyplot as plt\n",
    "import datetime\n",
    "from dateutil.relativedelta import relativedelta\n",
    "from scipy.special import expit\n",
    "from scipy.optimize import fmin, minimize\n",
    "import glob as glob\n",
    "import matplotlib\n",
    "matplotlib.style.use('ggplot')\n",
    "\n",
    "# .py\n",
    "%load_ext autoreload\n",
    "%autoreload 2\n",
    "import weather_rain_alphas, weather_temp_alphas, weather_cases_alphas, weather_costs, model_01, validate, prediction"
   ]
  },
  {
   "cell_type": "code",
   "execution_count": 9,
   "metadata": {
    "collapsed": true
   },
   "outputs": [],
   "source": [
    "def split_data(data):\n",
    "    train_mask = (data.index < \"2011\")\n",
    "    train = data[train_mask]\n",
    "    test_mask = (data.index > \"2011\")\n",
    "    test = data[test_mask]\n",
    "    return train, test"
   ]
  },
  {
   "cell_type": "code",
   "execution_count": 10,
   "metadata": {
    "collapsed": true
   },
   "outputs": [],
   "source": [
    "all_weather = pd.read_csv(\"weather01-16.csv\")"
   ]
  },
  {
   "cell_type": "code",
   "execution_count": 11,
   "metadata": {
    "collapsed": true
   },
   "outputs": [],
   "source": [
    "cm_weather = all_weather[all_weather.stn_name == \"Chiang Mai\"]\n",
    "cm_weather.index = pd.DatetimeIndex(cm_weather.date)\n",
    "mask = (cm_weather.index > \"2003\") & (cm_weather.index < \"2016\")\n",
    "cm_weather = cm_weather[mask]\n",
    "\n",
    "provinces_df = pd.read_csv(\"all-dengues.csv\")\n",
    "provinces_df.index = pd.DatetimeIndex(provinces_df.date)\n",
    "provinces_df = provinces_df.drop(['date','date.1'],axis=1)\n",
    "cm_dengues = provinces_df[provinces_df['จังหวัด'] == 'ChiangMai'].resample('W').size()\n",
    "cm_dengues_df = pd.DataFrame(cm_dengues,columns=['cases'])"
   ]
  },
  {
   "cell_type": "code",
   "execution_count": 12,
   "metadata": {
    "collapsed": true
   },
   "outputs": [],
   "source": [
    "cm_avg_weather = cm_weather[['avgrh','dday','meantemp']].resample('W').mean()\n",
    "cm_avg_weather['rain'] = cm_weather[['rain']].resample('W').sum() # cumulative rainfall\n",
    "cm_dengues_weather = pd.concat([cm_avg_weather,cm_dengues_df[:-52]],axis=1)\n",
    "\n",
    "cm_dengues_weather_split = split_data(cm_dengues_weather)\n",
    "cm_dengues_train, cm_dengues_test = cm_dengues_weather_split[0], cm_dengues_weather_split[1]"
   ]
  },
  {
   "cell_type": "code",
   "execution_count": 13,
   "metadata": {
    "collapsed": true
   },
   "outputs": [],
   "source": [
    "def make_line(start_week,real,predictions,title,x_axis,y_axis,\n",
    "              real_legend='Real',predict_legend='Prediction'):\n",
    "    plt.figure(figsize=(12,6))\n",
    "    plt.plot(range(len(real)),real,'-r',label=real_legend)\n",
    "    plt.plot(range(start_week,len(predictions)+start_week),predictions,'-k',label=predict_legend,alpha=0.4)\n",
    "    plt.axvline(start_week)\n",
    "    plt.text((start_week*2)+10,300,'Prediction Start',horizontalalignment='center',verticalalignment='center')\n",
    "    plt.xlabel(x_axis)\n",
    "    plt.ylabel(y_axis)\n",
    "    plt.legend()\n",
    "    plt.title(title)\n",
    "    \n",
    "def plot_all_predictions(LAG, real, province, nweeks_to_predict, all_predictions):\n",
    "    \n",
    "    plt.figure(figsize=(13,6))\n",
    "    plt.plot(range(len(real)),real,label='real')\n",
    "    graph_title = \"%s's Dengue Prediction with Mean Temperature\"%province\n",
    "    plt.title(graph_title)\n",
    "    for i in range(len(all_predictions)):\n",
    "        cur_week_guess = nweeks_to_predict[i]\n",
    "        start_predict_week = LAG+(cur_week_guess-1)\n",
    "        predicted_cases = all_predictions[i]\n",
    "        x_weeks = range(start_predict_week,len(predicted_cases)+start_predict_week)\n",
    "        line_label = \"%d week guess\"%cur_week_guess\n",
    "        plt.plot(x_weeks,predicted_cases,label=line_label,alpha=0.8)\n",
    "    \n",
    "    seperate_train_test(cm_dengues_df.cases,cm_dengues_train)\n",
    "    plt.axvline(LAG)\n",
    "    plt.text((LAG*2)+10,300,'Prediction Start',horizontalalignment='center',verticalalignment='center')\n",
    "    plt.xlabel(\"# week starting 2003\")\n",
    "    plt.ylabel(\"Dengue cases\")\n",
    "    plt.legend()\n",
    "    plt.savefig(\"16-lags-16-weeks-9-temp-wks-chiangmai-00.png\")\n",
    "    \n",
    "def seperate_train_test(all_data,train_data):\n",
    "    plt.axvspan(0, len(train_data), color='blue', alpha=0.1)\n",
    "    plt.text((len(train_data)/2)-25,700,'Train Period',size=16)\n",
    "    plt.axvline(len(train_data)+1,linewidth=0.5, color='green')\n",
    "    plt.text(len(train_data)+20,700,'Test Period',size=16)\n",
    "    plt.axvspan(len(train_data)+1, len(all_data), color='green', alpha=0.1)\n",
    "    \n",
    "def show_predictions(params, real, province, ws):\n",
    "    LAG, TEMPERATURE_WEEKS, RAIN_WEEKS = params[0], params[1], params[2]\n",
    "    \n",
    "    predictions_to_plot = prediction.get_predictions(\n",
    "        LAG, \n",
    "        TEMPERATURE_WEEKS,\n",
    "        RAIN_WEEKS,\n",
    "        real,\n",
    "        ws,\n",
    "        province)\n",
    "    \n",
    "    plot_all_predictions(LAG, \n",
    "                         real.cases,\n",
    "                         province,\n",
    "                         [1,2,4,8,16],\n",
    "                         predictions_to_plot)\n",
    "    \n",
    "    "
   ]
  },
  {
   "cell_type": "code",
   "execution_count": 24,
   "metadata": {
    "scrolled": true
   },
   "outputs": [],
   "source": [
    "import multiprocessing as mp\n",
    "from multiprocessing import Process, Queue\n",
    "\n",
    "# Define an output queue\n",
    "output = Queue()\n",
    "\n",
    "# def validate\n",
    "\n",
    "# def compute_ret(temp):\n",
    "#     for i in range(int(1e5)): pass\n",
    "#     return temp/2.\n",
    "\n",
    "\n",
    "ws_csv = np.array(pd.read_csv(\"best-with-19-lags-10-temps-15-rains-ws-1st-iter-model-a.csv\").T)[0]\n",
    "    \n",
    "def validation(LAG, TEMPERATURE_WEEKS, RAIN_WEEKS, train, real, output):\n",
    "                                    # get_alphas takes 4 args, if theres no input csv\n",
    "    alphas = weather_rain_alphas.get_alphas(LAG, TEMPERATURE_WEEKS, RAIN_WEEKS, train, ws_csv)\n",
    "                                    # get_predictions takes 6 args\n",
    "    predictions_to_validate = prediction.get_predictions(LAG, TEMPERATURE_WEEKS, RAIN_WEEKS, real, alphas.x, \"CM\")\n",
    "                                    # get_validations takes 3 argsg\n",
    "    validated_result = validate.get_validations(LAG, predictions_to_validate, real)\n",
    "    output.put((LAG, TEMPERATURE_WEEKS, validated_result, alphas.x)) # add in ws as well alphas.x\n"
   ]
  },
  {
   "cell_type": "code",
   "execution_count": 25,
   "metadata": {
    "collapsed": true
   },
   "outputs": [
    {
     "name": "stdout",
     "output_type": "stream",
     "text": [
      "[  3.21054441e-01   0.00000000e+00   0.00000000e+00   0.00000000e+00\n",
      "   0.00000000e+00   3.06743893e-10   0.00000000e+00   4.91407915e-03\n",
      "   1.43409511e-09   1.89011211e-08   3.11351051e-10   6.40373267e-08\n",
      "   4.85527645e-03   1.04118796e-01   4.05540896e-03   2.49841382e-05\n",
      "   7.94461642e-08   1.96793807e-07   1.20570113e-07   4.51518575e-01\n",
      "   2.08551264e+00   7.88858736e+00   2.78996285e-01   5.46502177e-02\n",
      "  -8.64375449e-03  -3.96804634e-02  -2.59688551e-02  -1.38771312e-02\n",
      "  -1.73065055e-02   1.22372078e-03   2.01429506e-03  -1.34128787e-02\n",
      "   1.18130553e-02   5.78498717e-02  -6.62364528e-04   1.05350738e-05\n",
      "   2.69878102e-04  -6.71625623e-05  -2.37068034e-04  -3.23881804e-04\n",
      "  -4.33580193e-04  -5.11991776e-05  -3.58679531e-05  -4.01191685e-05\n",
      "  -1.04682886e-06  -1.27993349e-05  -1.01790769e-04   1.28556842e-04\n",
      "  -4.08379936e-05]\n",
      "47\n",
      "LAG, TEMP 18 9\n",
      "bnds 18 47\n",
      "ws_csv\n",
      "ws_csv\n",
      "48\n",
      "prev_ws 31\n",
      "LAG, TEMP 18 10\n",
      "all_prev_ws 47\n",
      "bnds 18 48\n",
      "prev_ws 32\n",
      "all_prev_ws 48\n",
      "49\n",
      "prev_ws 34\n",
      "LAG, TEMP 18 11\n",
      "50\n",
      "bnds 18 49\n",
      "LAG, TEMP 18 12\n",
      "ws_csv\n",
      "bnds 18 50\n",
      "prev_ws 33\n",
      "ws_csv\n",
      "all_prev_ws 49\n",
      "all_prev_ws 50\n",
      "48\n",
      "LAG, TEMP 19 9\n",
      "bnds 19 48\n",
      "ws_csv\n",
      "49\n",
      "LAG, TEMP 19 10\n",
      "bnds 19 49\n",
      "prev_ws 32\n",
      "all_prev_ws 48\n",
      "50\n",
      "ws_csv\n",
      "all_prev_ws 49\n",
      "prev_ws 33\n",
      "51\n",
      "49\n",
      "LAG, TEMP 19 11\n",
      "LAG, TEMP 19 12\n",
      "bnds 19 50\n",
      "bnds 19 51\n",
      "ws_csv\n",
      "bnds 20 49\n",
      "50\n",
      "LAG, TEMP 20 9\n",
      "ws_csv\n",
      "prev_ws 34\n",
      "51\n",
      "LAG, TEMP 20 10\n",
      "all_prev_ws 50\n",
      "ws_csv\n",
      "prev_ws 35\n",
      "LAG, TEMP 20 11\n",
      "prev_ws 33\n",
      "52\n",
      "LAG, TEMP 20 12\n",
      "bnds 20 52\n",
      "all_prev_ws 49\n",
      "ws_csv\n",
      "bnds 20 51\n",
      "bnds 20 50\n",
      "prev_ws 36\n",
      "all_prev_ws 51\n",
      "ws_csv\n",
      "prev_ws 35\n",
      "all_prev_ws 52\n",
      "all_prev_ws 51\n",
      "ws_csv\n",
      "prev_ws 34\n",
      "all_prev_ws 50\n",
      "[(19, 11, [160.76523296328435, 269.7993530943682, 499.61446740347321, 775.36725539574866, 1307.7736651477917], array([  3.24879306e-01,   0.00000000e+00,   0.00000000e+00,\n",
      "         3.03365707e-08,   1.41366817e-07,   3.72794513e-09,\n",
      "         1.94073512e-07,   0.00000000e+00,   1.29507008e-09,\n",
      "         1.38357585e-07,   4.24636385e-08,   1.33847283e-07,\n",
      "         2.24230438e-04,   1.04103467e-01,   5.83715628e-03,\n",
      "         1.23499613e-05,   3.56957056e-08,   1.03296726e-07,\n",
      "         2.15229693e-08,   4.50915440e-01,   2.06778108e+00,\n",
      "         7.88202411e+00,   2.74747315e-01,   5.54228194e-02,\n",
      "        -8.65845478e-03,  -3.83952446e-02,  -2.61604655e-02,\n",
      "        -1.33246976e-02,  -1.86572684e-02,   5.37675655e-04,\n",
      "         1.88880069e-04,  -1.58078183e-02,   7.08797299e-03,\n",
      "         1.18136990e-02,   4.95752841e-02,  -4.59555396e-03,\n",
      "         5.76909374e-04,  -1.39490131e-03,   2.20022928e-05,\n",
      "         3.06920800e-04,  -9.58192988e-05,   4.46421821e-05,\n",
      "         9.23821139e-05,   5.05020696e-05,   1.04524875e-05,\n",
      "         2.08475937e-05,   2.12549340e-05,  -8.47141283e-05,\n",
      "        -1.53758595e-04,  -2.89364125e-05])), (20, 9, [277.12502253196715, 355.14361129952425, 679.32600403155061, 1123.6153712412624, 1709.9126201243241], array([  1.51700047e-01,   0.00000000e+00,   0.00000000e+00,\n",
      "         0.00000000e+00,   0.00000000e+00,   0.00000000e+00,\n",
      "         0.00000000e+00,   0.00000000e+00,   0.00000000e+00,\n",
      "         0.00000000e+00,   0.00000000e+00,   0.00000000e+00,\n",
      "         0.00000000e+00,   0.00000000e+00,   0.00000000e+00,\n",
      "         0.00000000e+00,   0.00000000e+00,   0.00000000e+00,\n",
      "         5.97286549e-05,   1.67585852e-01,   1.20719999e-01,\n",
      "         7.45542673e+00,   1.00980701e+00,   2.67832881e-02,\n",
      "        -3.18071398e-01,  -9.87079066e-02,  -1.28568923e-01,\n",
      "        -2.07326967e-01,  -1.46313049e-01,  -1.21563809e-01,\n",
      "        -2.02495412e-02,  -3.84730662e-02,  -2.35233181e-01,\n",
      "         4.72546499e-02,   6.57619189e-04,  -2.24847578e-04,\n",
      "        -9.71609504e-04,  -3.10989763e-03,  -2.67458071e-03,\n",
      "        -7.33721959e-03,  -5.13253443e-03,  -3.03787506e-03,\n",
      "        -1.27187334e-03,   4.34172746e-03,  -1.79015270e-03,\n",
      "        -3.52128019e-03,  -5.19611589e-03,   1.42511397e-03,\n",
      "         5.31002360e-03])), (20, 11, [216.16422549270123, 425.52964389086503, 800.36554194978169, 1208.7590013192532, 1685.7963281982734], array([  7.38940740e-02,   0.00000000e+00,   0.00000000e+00,\n",
      "         0.00000000e+00,   0.00000000e+00,   0.00000000e+00,\n",
      "         0.00000000e+00,   0.00000000e+00,   0.00000000e+00,\n",
      "         0.00000000e+00,   0.00000000e+00,   0.00000000e+00,\n",
      "         3.07739355e-03,   1.94290245e-03,   4.01362713e-02,\n",
      "         7.76117914e-06,   1.40832100e-06,   7.43226349e-08,\n",
      "         8.74168323e-07,   3.09358151e-02,   1.89564789e-01,\n",
      "         7.55870249e+00,   1.00432939e+00,   3.33956929e-02,\n",
      "        -2.12558788e-01,  -1.65660962e-01,  -1.38250981e-01,\n",
      "        -9.67517813e-02,  -7.69628020e-02,  -4.33599229e-02,\n",
      "        -4.63982360e-02,  -5.60393496e-02,  -1.17679941e-01,\n",
      "        -1.00807613e-01,  -2.07603024e-01,   4.79091008e-02,\n",
      "        -5.70168165e-03,   7.21117349e-05,  -1.57191531e-04,\n",
      "        -5.24768271e-03,  -1.37256032e-03,  -1.27494483e-02,\n",
      "        -2.09541179e-03,  -2.25427648e-03,  -2.48806421e-02,\n",
      "        -1.50463061e-03,  -4.76180747e-03,  -5.97226696e-03,\n",
      "         1.01863324e-02,  -1.74624961e-03,   4.03377623e-02])), (18, 9, [149.3066608947081, 249.88468662505076, 467.7020278296589, 807.72297346469543, 1649.3246446636815], array([  1.76059021e-01,   0.00000000e+00,   0.00000000e+00,\n",
      "         0.00000000e+00,   0.00000000e+00,   0.00000000e+00,\n",
      "         0.00000000e+00,   0.00000000e+00,   0.00000000e+00,\n",
      "         0.00000000e+00,   0.00000000e+00,   0.00000000e+00,\n",
      "         0.00000000e+00,   0.00000000e+00,   0.00000000e+00,\n",
      "         9.02648836e-03,   2.66405912e-08,   3.58886890e-02,\n",
      "         3.64390762e-01,   5.03274010e-01,   2.64138213e+00,\n",
      "         7.94343968e+00,   1.17526493e-03,  -7.20243719e-02,\n",
      "        -5.08546310e-02,  -2.32671330e-02,  -3.04607606e-02,\n",
      "        -3.06816866e-02,   7.64951544e-02,  -1.20984900e-02,\n",
      "         6.48082635e-02,   5.57311930e-02,   3.04460125e-03,\n",
      "         1.39080948e-03,   9.43073313e-04,   1.07557083e-03,\n",
      "         7.68398115e-04,   7.24955125e-04,   3.59310221e-03,\n",
      "         1.97145679e-03,   5.75584099e-04,   1.11331331e-04,\n",
      "        -2.65359392e-03,   2.99294014e-03,   5.87629417e-04,\n",
      "         2.04001280e-03,   2.24509084e-03])), (19, 10, [161.38832842802321, 271.10833135187119, 502.29366702771375, 778.82616869724961, 1302.8514559337782], array([  3.21454710e-01,   0.00000000e+00,   0.00000000e+00,\n",
      "         0.00000000e+00,   6.44560563e-10,   4.41953597e-10,\n",
      "         9.91773624e-10,   1.28158976e-09,   2.05728288e-09,\n",
      "         1.29519875e-09,   6.63142132e-09,   5.49641440e-08,\n",
      "         4.60467302e-04,   1.04736364e-01,   5.67474316e-03,\n",
      "         1.56237521e-05,   5.05479697e-10,   0.00000000e+00,\n",
      "         0.00000000e+00,   4.51384745e-01,   2.08909035e+00,\n",
      "         7.89378602e+00,   2.79859959e-01,   5.43281289e-02,\n",
      "        -8.53639249e-03,  -3.97642832e-02,  -2.61319868e-02,\n",
      "        -1.38493132e-02,  -1.73264218e-02,   1.44755879e-03,\n",
      "         1.88832539e-03,  -1.34043198e-02,   1.15962164e-02,\n",
      "         5.00860006e-02,  -4.48462405e-04,   4.27946915e-04,\n",
      "        -4.25220820e-04,   5.29063381e-04,  -9.45291060e-05,\n",
      "         1.76348181e-04,  -1.31929012e-05,  -2.58456200e-05,\n",
      "         3.57365523e-05,   3.61509750e-06,   3.67747786e-05,\n",
      "        -6.90719333e-05,  -1.01228162e-05,   3.22350568e-05,\n",
      "        -1.71092295e-05])), (19, 12, [160.12059980310809, 267.93880153910078, 496.74418723557028, 771.5664052076977, 1310.1032960013461], array([  3.26819524e-01,   0.00000000e+00,   0.00000000e+00,\n",
      "         0.00000000e+00,   1.43115373e-09,   2.79793556e-07,\n",
      "         3.99110152e-07,   5.52790613e-03,   8.78246856e-08,\n",
      "         3.17586955e-07,   8.32219932e-08,   3.58987377e-08,\n",
      "         3.77433826e-04,   1.01647483e-01,   5.36823153e-03,\n",
      "         1.21404846e-05,   8.60057663e-08,   1.12817687e-07,\n",
      "         1.51247549e-07,   4.49702937e-01,   2.05220668e+00,\n",
      "         7.87431345e+00,   2.71029782e-01,   5.86565713e-02,\n",
      "        -1.09692091e-02,  -3.71546363e-02,  -2.75021636e-02,\n",
      "        -1.37075214e-02,  -1.66729581e-02,  -1.53993924e-03,\n",
      "         6.89585339e-04,  -1.63706866e-02,   4.72365283e-03,\n",
      "         6.30532779e-03,   1.12042297e-02,   4.92016102e-02,\n",
      "        -9.03229237e-03,  -4.87765344e-03,   1.31572327e-03,\n",
      "        -5.10251686e-04,   2.55476919e-04,  -7.27770400e-04,\n",
      "         1.89637466e-04,  -1.63187777e-04,  -8.98412433e-05,\n",
      "        -1.69404444e-04,  -2.80479238e-04,  -8.14956220e-05,\n",
      "        -3.46963423e-04,  -2.82059489e-04,  -4.24895523e-04])), (20, 10, [209.62601924775348, 386.9204757068278, 728.11835378597982, 1139.0940673713922, 1637.3482007458451], array([  1.32190626e-01,   0.00000000e+00,   0.00000000e+00,\n",
      "         0.00000000e+00,   0.00000000e+00,   0.00000000e+00,\n",
      "         0.00000000e+00,   0.00000000e+00,   0.00000000e+00,\n",
      "         0.00000000e+00,   0.00000000e+00,   0.00000000e+00,\n",
      "         0.00000000e+00,   1.56800257e-03,   1.82722208e-02,\n",
      "         2.21883220e-05,   7.71512351e-07,   2.15200836e-07,\n",
      "         6.36312691e-07,   6.99499106e-02,   1.80402034e-01,\n",
      "         7.57580868e+00,   1.00497140e+00,   3.44203746e-02,\n",
      "        -2.18419476e-01,  -1.43502997e-01,  -1.20550849e-01,\n",
      "        -1.09344616e-01,  -1.17615336e-01,  -1.06424400e-01,\n",
      "        -6.17421567e-02,  -6.78872487e-02,  -1.58022652e-01,\n",
      "        -1.65967819e-01,   4.80174921e-02,  -4.46246362e-03,\n",
      "         4.95068477e-04,   1.27293236e-03,  -3.54217089e-03,\n",
      "        -1.17999167e-02,  -2.54589204e-02,  -2.24209613e-02,\n",
      "        -2.36452796e-02,  -3.68914563e-02,  -4.04375527e-02,\n",
      "        -4.48368372e-02,  -5.13076420e-02,  -2.52863446e-02,\n",
      "        -1.93857966e-02,   2.05919169e-02])), (19, 9, [161.64515694284543, 271.90407838367679, 503.50996529087683, 783.20371997262964, 1295.069697395403], array([  3.13776391e-01,   0.00000000e+00,   0.00000000e+00,\n",
      "         3.29495448e-10,   0.00000000e+00,   1.25821399e-09,\n",
      "         1.39125455e-11,   2.78983267e-09,   2.47468734e-08,\n",
      "         2.37904277e-08,   4.31859909e-09,   2.88204188e-07,\n",
      "         2.12238380e-09,   1.00606506e-01,   1.07700343e-02,\n",
      "         8.52753914e-06,   8.15353478e-08,   5.86827040e-08,\n",
      "         4.23270610e-07,   4.46686401e-01,   2.15456824e+00,\n",
      "         7.94325088e+00,   2.95500487e-01,   5.30912415e-02,\n",
      "        -8.41536677e-03,  -4.08655001e-02,  -2.68498636e-02,\n",
      "        -1.28606933e-02,  -1.87707278e-02,   3.66075072e-03,\n",
      "         3.33845242e-03,  -8.97952259e-03,   5.16566100e-02,\n",
      "         2.94477899e-04,   3.24280573e-05,  -1.72639614e-05,\n",
      "         1.05907159e-04,  -3.56382051e-05,   8.93740573e-06,\n",
      "         7.47903048e-05,   4.05671216e-05,   3.61448232e-05,\n",
      "         2.25448859e-05,  -2.16391626e-05,  -2.50377181e-05,\n",
      "        -1.43404700e-05,   2.16046300e-06,  -5.82294412e-06])), (18, 10, [147.96890805780131, 248.14289907331607, 459.6324121416767, 777.76457890247491, 1586.3665217903169], array([  1.75800236e-01,   0.00000000e+00,   0.00000000e+00,\n",
      "         0.00000000e+00,   0.00000000e+00,   0.00000000e+00,\n",
      "         0.00000000e+00,   0.00000000e+00,   0.00000000e+00,\n",
      "         0.00000000e+00,   0.00000000e+00,   0.00000000e+00,\n",
      "         0.00000000e+00,   0.00000000e+00,   0.00000000e+00,\n",
      "         1.44976821e-08,   2.61914015e-02,   5.57306311e-03,\n",
      "         3.65117931e-01,   4.78419621e-01,   2.58685595e+00,\n",
      "         7.91761398e+00,   1.38877844e-02,  -6.82279876e-02,\n",
      "        -5.66014036e-02,  -2.09925731e-02,  -3.38532160e-02,\n",
      "        -2.77383398e-02,   5.36611700e-02,  -3.14432673e-02,\n",
      "         2.47212614e-02,   7.21390328e-02,   5.29780202e-02,\n",
      "        -3.81105631e-03,  -2.37495764e-03,  -2.96767926e-03,\n",
      "         1.83837948e-03,   1.63553865e-03,  -6.28151309e-04,\n",
      "         6.21184452e-04,   8.38463218e-04,  -1.34861309e-03,\n",
      "        -7.41571402e-04,  -3.82242246e-04,  -3.07368364e-04,\n",
      "        -2.28264864e-03,  -5.19368104e-04,   2.01323069e-03])), (18, 11, [152.94245620718783, 253.54334124301045, 464.97458402637949, 774.6157777369873, 1566.2567880260481], array([  1.90295689e-01,   0.00000000e+00,   0.00000000e+00,\n",
      "         0.00000000e+00,   0.00000000e+00,   0.00000000e+00,\n",
      "         0.00000000e+00,   0.00000000e+00,   0.00000000e+00,\n",
      "         0.00000000e+00,   0.00000000e+00,   0.00000000e+00,\n",
      "         0.00000000e+00,   0.00000000e+00,   0.00000000e+00,\n",
      "         1.20954834e-02,   2.74582291e-02,   1.05367984e-01,\n",
      "         3.55853792e-01,   4.62719005e-01,   2.38189712e+00,\n",
      "         7.90085168e+00,   3.33724292e-03,  -6.14282000e-02,\n",
      "        -5.51762239e-02,  -3.22620736e-02,  -2.49969577e-02,\n",
      "        -1.71591800e-02,   2.85449927e-02,  -3.11784217e-02,\n",
      "         1.76557365e-02,   4.79690186e-02,   4.19950189e-02,\n",
      "         5.12402252e-02,  -7.12341963e-04,  -2.98406372e-04,\n",
      "        -9.09703662e-04,  -7.66732286e-04,   3.20412077e-03,\n",
      "         2.20159146e-04,   1.27667236e-03,  -1.93883400e-03,\n",
      "        -2.99881217e-04,   1.16757913e-03,   1.01848980e-03,\n",
      "        -1.30641207e-03,  -1.02773562e-03,  -7.53870759e-04,\n",
      "        -1.93360529e-03])), (18, 12, [149.28278503402819, 246.6466273848248, 449.44762361873791, 752.27701022422377, 1518.4793117217307], array([  1.86608846e-01,   0.00000000e+00,   0.00000000e+00,\n",
      "         0.00000000e+00,   0.00000000e+00,   0.00000000e+00,\n",
      "         0.00000000e+00,   0.00000000e+00,   0.00000000e+00,\n",
      "         0.00000000e+00,   0.00000000e+00,   0.00000000e+00,\n",
      "         0.00000000e+00,   0.00000000e+00,   0.00000000e+00,\n",
      "         0.00000000e+00,   0.00000000e+00,   5.45941533e-02,\n",
      "         3.53555689e-01,   4.51620626e-01,   2.35675288e+00,\n",
      "         7.88874559e+00,   3.57683498e-02,  -6.79772267e-02,\n",
      "        -6.00940056e-02,  -3.09737878e-02,  -3.40736622e-02,\n",
      "        -3.72682821e-03,   1.02854128e-02,  -4.25741233e-02,\n",
      "         2.76535056e-03,   3.35974473e-02,   1.26425988e-02,\n",
      "         8.46904670e-02,   5.00113136e-02,  -1.70597159e-03,\n",
      "        -1.39231750e-03,  -7.09317036e-05,  -2.25556635e-04,\n",
      "         3.13497998e-03,   3.84480411e-03,   1.42706536e-03,\n",
      "        -7.05752819e-04,   1.42842328e-03,  -2.05208095e-03,\n",
      "         1.69953619e-03,  -1.38399872e-03,  -1.69318553e-03,\n",
      "         9.94488346e-04,  -1.49117675e-03])), (20, 12, [366.06526095142806, 711.74195227086796, 1348.6134406084104, 1932.4457655647673, 2139.2709860015379], array([  7.55894829e-02,   4.01295076e-08,   6.54245472e-08,\n",
      "         6.66323725e-08,   8.04423021e-08,   1.10435626e-07,\n",
      "         3.03780817e-08,   5.85496452e-03,   3.75019822e-08,\n",
      "         8.72811818e-08,   4.86936013e-08,   1.52851496e-07,\n",
      "         5.40281813e-03,   1.01586810e-02,   1.21094226e-03,\n",
      "         3.27837656e-06,   2.80422400e-08,   2.57124721e-08,\n",
      "         3.01073798e-08,   4.50568550e-02,   9.29255019e-02,\n",
      "         7.53664589e+00,   1.00026686e+00,   3.16931646e-02,\n",
      "        -1.17209821e-01,  -2.91247702e-02,  -1.28885189e-02,\n",
      "        -2.24347443e-02,   4.81698844e-02,   9.31364450e-02,\n",
      "         9.67904603e-02,   1.48081922e-02,  -6.03183927e-02,\n",
      "        -6.19152802e-02,  -1.11538430e-01,  -2.14114856e-01,\n",
      "         4.77693250e-02,   4.06372740e-02,   5.05720990e-02,\n",
      "         6.59501329e-02,   8.41420189e-02,   5.14967997e-02,\n",
      "         1.92892625e-01,   1.28284265e-01,   1.29399702e-01,\n",
      "         2.67051766e-01,   2.88399333e-01,   1.04474800e-01,\n",
      "         3.73066645e-01,   1.49482000e-01,   4.04759916e-01,\n",
      "         9.18973981e-02]))]\n",
      "CPU times: user 252 ms, sys: 276 ms, total: 528 ms\n",
      "Wall time: 4h 36min 9s\n"
     ]
    }
   ],
   "source": [
    "%%time\n",
    "# Setup a list of processes that we want to run\n",
    "train = cm_dengues_train\n",
    "real = cm_dengues_weather\n",
    "processes = [Process(target=validation, args=(case_weeks, temp_weeks, 15, train, real, output)) \\\n",
    "                             for case_weeks in range(18,21)\\\n",
    "                             for temp_weeks in range(9,13)]\n",
    "print ws_csv\n",
    "\n",
    "# Run processes\n",
    "for p in processes:\n",
    "    p.start()\n",
    "\n",
    "# Exit the completed processes\n",
    "for p in processes:\n",
    "    p.join()\n",
    "\n",
    "# Get process results from the output queue\n",
    "results = [output.get() for p in processes]\n",
    "\n",
    "print(results)"
   ]
  },
  {
   "cell_type": "code",
   "execution_count": 26,
   "metadata": {},
   "outputs": [],
   "source": [
    "def get_best(validations):\n",
    "\n",
    "    all_score = []\n",
    "    for i in range(len(validations)):\n",
    "        cur_score = validations[i][2] # since idx 2 is validated results \n",
    "        week_16th_pred_score = cur_score[-1] # check with the furthest guess\n",
    "        all_score.append(week_16th_pred_score)\n",
    "    min_score_idx = np.argmin(all_score)\n",
    "    return validations[min_score_idx]\n",
    "        \n",
    "    \n",
    "best_param = get_best(results)\n",
    "# pd.DataFrame(best_param[3]).to_csv(\"best-for-cases-and-temps-but-needs-renaming-2nd-iter.csv\",index=False)"
   ]
  },
  {
   "cell_type": "code",
   "execution_count": 27,
   "metadata": {},
   "outputs": [
    {
     "name": "stdout",
     "output_type": "stream",
     "text": [
      "(19, 9, [161.64515694284543, 271.90407838367679, 503.50996529087683, 783.20371997262964, 1295.069697395403], array([  3.13776391e-01,   0.00000000e+00,   0.00000000e+00,\n",
      "         3.29495448e-10,   0.00000000e+00,   1.25821399e-09,\n",
      "         1.39125455e-11,   2.78983267e-09,   2.47468734e-08,\n",
      "         2.37904277e-08,   4.31859909e-09,   2.88204188e-07,\n",
      "         2.12238380e-09,   1.00606506e-01,   1.07700343e-02,\n",
      "         8.52753914e-06,   8.15353478e-08,   5.86827040e-08,\n",
      "         4.23270610e-07,   4.46686401e-01,   2.15456824e+00,\n",
      "         7.94325088e+00,   2.95500487e-01,   5.30912415e-02,\n",
      "        -8.41536677e-03,  -4.08655001e-02,  -2.68498636e-02,\n",
      "        -1.28606933e-02,  -1.87707278e-02,   3.66075072e-03,\n",
      "         3.33845242e-03,  -8.97952259e-03,   5.16566100e-02,\n",
      "         2.94477899e-04,   3.24280573e-05,  -1.72639614e-05,\n",
      "         1.05907159e-04,  -3.56382051e-05,   8.93740573e-06,\n",
      "         7.47903048e-05,   4.05671216e-05,   3.61448232e-05,\n",
      "         2.25448859e-05,  -2.16391626e-05,  -2.50377181e-05,\n",
      "        -1.43404700e-05,   2.16046300e-06,  -5.82294412e-06]))\n"
     ]
    }
   ],
   "source": [
    "print best_param\n"
   ]
  },
  {
   "cell_type": "code",
   "execution_count": 38,
   "metadata": {},
   "outputs": [],
   "source": [
    "# ws = np.array(pd.read_csv(\"best-with-19-lags-9-temps-15-rains-ws-2nd-iter-model-a.csv\").T)[0]\n",
    "# ws1 = np.array(pd.read_csv(\"best-with-19-lags-10-temps-14-rains-ws-1st-iter-model-a.csv\").T)[0]\n",
    "# ww = best_param[3]\n",
    "# real = cm_dengues_weather\n",
    "# show_predictions([19,9,15], real, \"ChiangMai\", ww)\n",
    "# show_predictions([19,9,15], real, \"ChiangMai\", ws)\n",
    "# show_predictions([19,10,14], real, \"ChiangMai\", ws1)"
   ]
  },
  {
   "cell_type": "code",
   "execution_count": 68,
   "metadata": {
    "collapsed": true
   },
   "outputs": [
    {
     "name": "stdout",
     "output_type": "stream",
     "text": [
      "[  3.21054441e-01   0.00000000e+00   0.00000000e+00   0.00000000e+00\n",
      "   0.00000000e+00   3.06743893e-10   0.00000000e+00   4.91407915e-03\n",
      "   1.43409511e-09   1.89011211e-08   3.11351051e-10   6.40373267e-08\n",
      "   4.85527645e-03   1.04118796e-01   4.05540896e-03   2.49841382e-05\n",
      "   7.94461642e-08   1.96793807e-07   1.20570113e-07   4.51518575e-01\n",
      "   2.08551264e+00   7.88858736e+00   2.78996285e-01   5.46502177e-02\n",
      "  -8.64375449e-03  -3.96804634e-02  -2.59688551e-02  -1.38771312e-02\n",
      "  -1.73065055e-02   1.22372078e-03   2.01429506e-03  -1.34128787e-02\n",
      "   1.18130553e-02   5.78498717e-02  -6.62364528e-04   1.05350738e-05\n",
      "   2.69878102e-04  -6.71625623e-05  -2.37068034e-04  -3.23881804e-04\n",
      "  -4.33580193e-04  -5.11991776e-05  -3.58679531e-05  -4.01191685e-05\n",
      "  -1.04682886e-06  -1.27993349e-05  -1.01790769e-04   1.28556842e-04\n",
      "  -4.08379936e-05]\n",
      "[ 7.88858736  0.27899628]\n"
     ]
    }
   ],
   "source": [
    "print ws\n",
    "print ws[21:23]\n",
    "# a = prediction.get_predictions(19, 10, 15, real, ws, \"CM\")\n",
    "# print validate.get_validations(19,a,real)"
   ]
  },
  {
   "cell_type": "code",
   "execution_count": 27,
   "metadata": {
    "collapsed": true
   },
   "outputs": [],
   "source": [
    "# pd.DataFrame(best_param[2]).to_csv(\"best-with-19-lags-10-temps-14-rains-ws-1st-iter-model-a.csv\",index=False)\n",
    "# np.array(pd.read_csv(\"best-for-19-lags-ws-3rd-iter.csv\").T)[0]"
   ]
  },
  {
   "cell_type": "code",
   "execution_count": 32,
   "metadata": {},
   "outputs": [
    {
     "name": "stdout",
     "output_type": "stream",
     "text": [
      "LAG 23 [205.82624824351581, 374.86547851071168, 726.02637891644849, 1284.8735497820055, 1627.4597425170004]\n",
      "LAG 21 [166.85156662968512, 292.0898130079363, 564.366573591867, 1035.0747400189584, 1527.0827702830245]\n",
      "LAG 22 [168.91992707974032, 294.43310789395724, 581.26512237641293, 1094.9170235354613, 1583.9765963384611]\n",
      "LAG 19 [166.58144315243547, 288.90438923758734, 543.77910579020795, 947.7903870066549, 1391.3705312824545]\n"
     ]
    }
   ],
   "source": [
    "chosen_ws = glob.glob(\"best-*.csv\")\n",
    "for ws_set_file in chosen_ws:\n",
    "    ws_set = np.array(pd.read_csv(ws_set_file).T)[0]\n",
    "#     print ws_set_file\n",
    "    LAG = int(ws_set_file[9:11])\n",
    "    to_validate = prediction.get_predictions(LAG, 9, 10, real, ws_set)\n",
    "    print \"LAG %d\"%LAG,validate.get_validations(LAG, to_validate, real)"
   ]
  },
  {
   "cell_type": "code",
   "execution_count": 147,
   "metadata": {},
   "outputs": [
    {
     "name": "stdout",
     "output_type": "stream",
     "text": [
      "les\n"
     ]
    },
    {
     "data": {
      "text/plain": [
       "19"
      ]
     },
     "execution_count": 147,
     "metadata": {},
     "output_type": "execute_result"
    }
   ],
   "source": [
    "# # pd.DataFrame(best_param[2]).to_csv(\"best-for-18-lags-ws.csv\",index=False)\n",
    "\n",
    "# lg = [16,17,18,20,22]\n",
    "# a = np.array(pd.read_csv(\"best-for-18-lags-ws.csv\").T)[0]\n",
    "\n",
    "# # for i in lg:\n",
    "# #     if i == len(a):\n",
    "# #         arr = a\n",
    "# #         print len(arr)\n",
    "# #     elif i < len(a):\n",
    "# #         arr = a[:-(18-i)]\n",
    "# #         print len(arr)\n",
    "# #     else:\n",
    "# #         mean_val = 1/float(i)\n",
    "# #         arr = np.append(a,[mean_val]*(i-len(a)))\n",
    "# #         print arr\n",
    "        \n",
    "# def ws_helper(LAG, ws, 18):\n",
    "#     n_ws = len(ws)\n",
    "#     if LAG == n_ws:\n",
    "#         print \"eq\"\n",
    "#         arr = ws[:LAG+1]\n",
    "#     elif LAG < n_ws:\n",
    "#         print \"les\"\n",
    "#         arr = ws[:-(n_ws - LAG + 1)]\n",
    "#     else:\n",
    "#         print \"else\"\n",
    "#         tail = (LAG - n_ws) - 1\n",
    "#         mean_val = 1/(float(LAG)*tail)\n",
    "#         arr = np.append(ws,[mean_val]*tail)\n",
    "#     return arr\n",
    "\n",
    "# len(ws_helper(20,a))"
   ]
  },
  {
   "cell_type": "code",
   "execution_count": 69,
   "metadata": {
    "collapsed": true
   },
   "outputs": [
    {
     "ename": "NameError",
     "evalue": "name 'compute_ret' is not defined",
     "output_type": "error",
     "traceback": [
      "\u001b[0;31m---------------------------------------------------------------------------\u001b[0m",
      "\u001b[0;31mNameError\u001b[0m                                 Traceback (most recent call last)",
      "\u001b[0;32m<ipython-input-69-0d7a799813d4>\u001b[0m in \u001b[0;36m<module>\u001b[0;34m()\u001b[0m\n\u001b[0;32m----> 1\u001b[0;31m \u001b[0mget_ipython\u001b[0m\u001b[0;34m(\u001b[0m\u001b[0;34m)\u001b[0m\u001b[0;34m.\u001b[0m\u001b[0mrun_cell_magic\u001b[0m\u001b[0;34m(\u001b[0m\u001b[0;34mu'time'\u001b[0m\u001b[0;34m,\u001b[0m \u001b[0;34mu''\u001b[0m\u001b[0;34m,\u001b[0m \u001b[0;34mu'[compute_ret(temp.get_alphas(i,9,10)) for i in range(16,26)]'\u001b[0m\u001b[0;34m)\u001b[0m\u001b[0;34m\u001b[0m\u001b[0m\n\u001b[0m",
      "\u001b[0;32m/home/senior-project/.local/lib/python2.7/site-packages/IPython/core/interactiveshell.pyc\u001b[0m in \u001b[0;36mrun_cell_magic\u001b[0;34m(self, magic_name, line, cell)\u001b[0m\n\u001b[1;32m   2115\u001b[0m             \u001b[0mmagic_arg_s\u001b[0m \u001b[0;34m=\u001b[0m \u001b[0mself\u001b[0m\u001b[0;34m.\u001b[0m\u001b[0mvar_expand\u001b[0m\u001b[0;34m(\u001b[0m\u001b[0mline\u001b[0m\u001b[0;34m,\u001b[0m \u001b[0mstack_depth\u001b[0m\u001b[0;34m)\u001b[0m\u001b[0;34m\u001b[0m\u001b[0m\n\u001b[1;32m   2116\u001b[0m             \u001b[0;32mwith\u001b[0m \u001b[0mself\u001b[0m\u001b[0;34m.\u001b[0m\u001b[0mbuiltin_trap\u001b[0m\u001b[0;34m:\u001b[0m\u001b[0;34m\u001b[0m\u001b[0m\n\u001b[0;32m-> 2117\u001b[0;31m                 \u001b[0mresult\u001b[0m \u001b[0;34m=\u001b[0m \u001b[0mfn\u001b[0m\u001b[0;34m(\u001b[0m\u001b[0mmagic_arg_s\u001b[0m\u001b[0;34m,\u001b[0m \u001b[0mcell\u001b[0m\u001b[0;34m)\u001b[0m\u001b[0;34m\u001b[0m\u001b[0m\n\u001b[0m\u001b[1;32m   2118\u001b[0m             \u001b[0;32mreturn\u001b[0m \u001b[0mresult\u001b[0m\u001b[0;34m\u001b[0m\u001b[0m\n\u001b[1;32m   2119\u001b[0m \u001b[0;34m\u001b[0m\u001b[0m\n",
      "\u001b[0;32m<decorator-gen-60>\u001b[0m in \u001b[0;36mtime\u001b[0;34m(self, line, cell, local_ns)\u001b[0m\n",
      "\u001b[0;32m/home/senior-project/.local/lib/python2.7/site-packages/IPython/core/magic.pyc\u001b[0m in \u001b[0;36m<lambda>\u001b[0;34m(f, *a, **k)\u001b[0m\n\u001b[1;32m    186\u001b[0m     \u001b[0;31m# but it's overkill for just that one bit of state.\u001b[0m\u001b[0;34m\u001b[0m\u001b[0;34m\u001b[0m\u001b[0m\n\u001b[1;32m    187\u001b[0m     \u001b[0;32mdef\u001b[0m \u001b[0mmagic_deco\u001b[0m\u001b[0;34m(\u001b[0m\u001b[0marg\u001b[0m\u001b[0;34m)\u001b[0m\u001b[0;34m:\u001b[0m\u001b[0;34m\u001b[0m\u001b[0m\n\u001b[0;32m--> 188\u001b[0;31m         \u001b[0mcall\u001b[0m \u001b[0;34m=\u001b[0m \u001b[0;32mlambda\u001b[0m \u001b[0mf\u001b[0m\u001b[0;34m,\u001b[0m \u001b[0;34m*\u001b[0m\u001b[0ma\u001b[0m\u001b[0;34m,\u001b[0m \u001b[0;34m**\u001b[0m\u001b[0mk\u001b[0m\u001b[0;34m:\u001b[0m \u001b[0mf\u001b[0m\u001b[0;34m(\u001b[0m\u001b[0;34m*\u001b[0m\u001b[0ma\u001b[0m\u001b[0;34m,\u001b[0m \u001b[0;34m**\u001b[0m\u001b[0mk\u001b[0m\u001b[0;34m)\u001b[0m\u001b[0;34m\u001b[0m\u001b[0m\n\u001b[0m\u001b[1;32m    189\u001b[0m \u001b[0;34m\u001b[0m\u001b[0m\n\u001b[1;32m    190\u001b[0m         \u001b[0;32mif\u001b[0m \u001b[0mcallable\u001b[0m\u001b[0;34m(\u001b[0m\u001b[0marg\u001b[0m\u001b[0;34m)\u001b[0m\u001b[0;34m:\u001b[0m\u001b[0;34m\u001b[0m\u001b[0m\n",
      "\u001b[0;32m/home/senior-project/.local/lib/python2.7/site-packages/IPython/core/magics/execution.pyc\u001b[0m in \u001b[0;36mtime\u001b[0;34m(self, line, cell, local_ns)\u001b[0m\n\u001b[1;32m   1179\u001b[0m         \u001b[0;32mif\u001b[0m \u001b[0mmode\u001b[0m\u001b[0;34m==\u001b[0m\u001b[0;34m'eval'\u001b[0m\u001b[0;34m:\u001b[0m\u001b[0;34m\u001b[0m\u001b[0m\n\u001b[1;32m   1180\u001b[0m             \u001b[0mst\u001b[0m \u001b[0;34m=\u001b[0m \u001b[0mclock2\u001b[0m\u001b[0;34m(\u001b[0m\u001b[0;34m)\u001b[0m\u001b[0;34m\u001b[0m\u001b[0m\n\u001b[0;32m-> 1181\u001b[0;31m             \u001b[0mout\u001b[0m \u001b[0;34m=\u001b[0m \u001b[0meval\u001b[0m\u001b[0;34m(\u001b[0m\u001b[0mcode\u001b[0m\u001b[0;34m,\u001b[0m \u001b[0mglob\u001b[0m\u001b[0;34m,\u001b[0m \u001b[0mlocal_ns\u001b[0m\u001b[0;34m)\u001b[0m\u001b[0;34m\u001b[0m\u001b[0m\n\u001b[0m\u001b[1;32m   1182\u001b[0m             \u001b[0mend\u001b[0m \u001b[0;34m=\u001b[0m \u001b[0mclock2\u001b[0m\u001b[0;34m(\u001b[0m\u001b[0;34m)\u001b[0m\u001b[0;34m\u001b[0m\u001b[0m\n\u001b[1;32m   1183\u001b[0m         \u001b[0;32melse\u001b[0m\u001b[0;34m:\u001b[0m\u001b[0;34m\u001b[0m\u001b[0m\n",
      "\u001b[0;32m<timed eval>\u001b[0m in \u001b[0;36m<module>\u001b[0;34m()\u001b[0m\n",
      "\u001b[0;31mNameError\u001b[0m: name 'compute_ret' is not defined"
     ]
    }
   ],
   "source": [
    "%%time\n",
    "[compute_ret(temp.get_alphas(i,9,10)) for i in range(16,26)]"
   ]
  },
  {
   "cell_type": "code",
   "execution_count": 10,
   "metadata": {},
   "outputs": [
    {
     "name": "stdout",
     "output_type": "stream",
     "text": [
      "im done\n"
     ]
    }
   ],
   "source": [
    "print \"im done\""
   ]
  },
  {
   "cell_type": "code",
   "execution_count": 63,
   "metadata": {},
   "outputs": [
    {
     "data": {
      "text/plain": [
       "[15, 16]"
      ]
     },
     "execution_count": 63,
     "metadata": {},
     "output_type": "execute_result"
    }
   ],
   "source": [
    "#extract temp given LAG\n",
    "lg = 5\n",
    "tmp = 2\n",
    "a = [1,2,3,4,5,15,16,155]\n",
    "def extract_temperature(LAG,TEMPERATURE_WEEKS, arr ):\n",
    "    return arr[LAG:LAG+TEMPERATURE_WEEKS]\n",
    "extract_temperature(5,2,a)"
   ]
  },
  {
   "cell_type": "code",
   "execution_count": 5,
   "metadata": {},
   "outputs": [
    {
     "data": {
      "text/plain": [
       "[(18, 9),\n",
       " (18, 10),\n",
       " (18, 11),\n",
       " (19, 9),\n",
       " (19, 10),\n",
       " (19, 11),\n",
       " (20, 9),\n",
       " (20, 10),\n",
       " (20, 11)]"
      ]
     },
     "execution_count": 5,
     "metadata": {},
     "output_type": "execute_result"
    }
   ],
   "source": [
    "[(i,j) for i in range(18,21) for j in range(9,12)]\n",
    "    "
   ]
  },
  {
   "cell_type": "code",
   "execution_count": null,
   "metadata": {
    "collapsed": true
   },
   "outputs": [],
   "source": []
  }
 ],
 "metadata": {
  "kernelspec": {
   "display_name": "Python 2",
   "language": "python",
   "name": "python2"
  },
  "language_info": {
   "codemirror_mode": {
    "name": "ipython",
    "version": 2
   },
   "file_extension": ".py",
   "mimetype": "text/x-python",
   "name": "python",
   "nbconvert_exporter": "python",
   "pygments_lexer": "ipython2",
   "version": "2.7.12"
  }
 },
 "nbformat": 4,
 "nbformat_minor": 1
}
