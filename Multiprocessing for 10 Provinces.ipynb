{
 "cells": [
  {
   "cell_type": "code",
   "execution_count": 1,
   "metadata": {},
   "outputs": [
    {
     "name": "stdout",
     "output_type": "stream",
     "text": [
      "running model_02\n",
      "getting cost from nweek ahead\n",
      "getting bounded alphas with params for avgrh...\n",
      "done getting alphas ...\n",
      "getting cost from nweek ahead\n",
      "prediction for humidity\n",
      "dengue weather\n"
     ]
    }
   ],
   "source": [
    "%matplotlib inline\n",
    "import pandas as pd\n",
    "import numpy as np\n",
    "import matplotlib.pyplot as plt\n",
    "import datetime\n",
    "from dateutil.relativedelta import relativedelta\n",
    "from scipy.special import expit\n",
    "from scipy.optimize import fmin, minimize\n",
    "import glob as glob\n",
    "import matplotlib\n",
    "matplotlib.style.use('ggplot')\n",
    "\n",
    "# .py\n",
    "%load_ext autoreload\n",
    "%autoreload 2\n",
    "import weather_all_alphas, weather_all_costs, prediction_humidity, model_02, validate, dengue_weather"
   ]
  },
  {
   "cell_type": "code",
   "execution_count": 2,
   "metadata": {
    "collapsed": true
   },
   "outputs": [],
   "source": [
    "def seperate_train_test(all_data,train_data):\n",
    "    plt.axvspan(0, len(train_data), color='blue', alpha=0.1)\n",
    "    plt.text((len(train_data)/2)-25,700,'Train Period',size=16)\n",
    "    plt.axvline(len(train_data)+1,linewidth=0.5, color='green')\n",
    "    plt.text(len(train_data)+20,700,'Test Period',size=16)\n",
    "    plt.axvspan(len(train_data)+1, len(all_data), color='green', alpha=0.1)\n",
    "\n",
    "def plot_all_predictions(LAG, real, train, province, nweeks_to_predict, all_predictions):\n",
    "    \n",
    "    plt.figure(figsize=(13,6))\n",
    "    plt.plot(range(len(real)),real.cases,label='real')\n",
    "    graph_title = \"%s's Dengue Prediction with Weather Data\"%province\n",
    "    plt.title(graph_title)\n",
    "    for i in range(len(all_predictions)):\n",
    "        cur_week_guess = nweeks_to_predict[i]\n",
    "        start_predict_week = LAG+(cur_week_guess-1)\n",
    "        predicted_cases = all_predictions[i]\n",
    "        x_weeks = range(start_predict_week,len(predicted_cases)+start_predict_week)\n",
    "        line_label = \"%d week guess\"%cur_week_guess\n",
    "        plt.plot(x_weeks,predicted_cases,label=line_label,alpha=0.8)\n",
    "    \n",
    "    seperate_train_test(real,train)\n",
    "    plt.axvline(LAG)\n",
    "    plt.text((LAG*2)+10,300,'Prediction Start',horizontalalignment='center',verticalalignment='center')\n",
    "    plt.xlabel(\"# week starting 2003\")\n",
    "    plt.ylabel(\"Dengue cases\")\n",
    "    plt.legend()\n",
    "#     plt.savefig(\"16-lags-16-weeks-9-temp-wks-chiangmai-00.png\")\n",
    "    \n",
    "def show_predictions(params, real, train, province, ws):\n",
    "    LAG, TEMPERATURE_WEEKS, RAIN_WEEKS, AVGRH_WEEKS = params[0], params[1], params[2], params[3]\n",
    "    \n",
    "    predictions_to_plot = prediction_humidity.get_predictions(\n",
    "        LAG, \n",
    "        TEMPERATURE_WEEKS,\n",
    "        RAIN_WEEKS,\n",
    "        AVGRH_WEEKS,\n",
    "        real,\n",
    "        ws,\n",
    "        province)\n",
    "    \n",
    "    plot_all_predictions(LAG, \n",
    "                         real,\n",
    "                         train,\n",
    "                         province,\n",
    "                         [1,2,4,8,16],\n",
    "                         predictions_to_plot)\n"
   ]
  },
  {
   "cell_type": "code",
   "execution_count": 3,
   "metadata": {
    "collapsed": true
   },
   "outputs": [],
   "source": [
    "all_weather = pd.read_csv(\"weather01-16.csv\")\n",
    "all_weather.stn_name = all_weather.stn_name.apply(dengue_weather.remove_space)\n",
    "all_dengue = pd.read_csv(\"all-dengues.csv\")\n",
    "all_dengue = all_dengue.rename(columns = {'จังหวัด' : 'province'})"
   ]
  },
  {
   "cell_type": "code",
   "execution_count": 4,
   "metadata": {},
   "outputs": [
    {
     "name": "stdout",
     "output_type": "stream",
     "text": [
      "Bangkok BangkokMetropolis\n",
      "Phuket Phuket\n",
      "ChonBuri ChonBuri\n",
      "PhraNakhonSiAyutthaya AyuttayaAgromet\n",
      "Nonthaburi BangkokMetropolis\n",
      "NongKhai NongKhai\n",
      "SakonNakhon SakonNakhonAgromet\n",
      "Ratchaburi Ratchaburi\n",
      "ChiangMai ChiangMai\n",
      "ChiangRai ChiangRai\n"
     ]
    }
   ],
   "source": [
    "                       # province_dengue: province_weather\n",
    "provinces_to_predict = {\"Bangkok\":\"BangkokMetropolis\", \n",
    "                        \"Nonthaburi\":\"BangkokMetropolis\",\n",
    "                        \"PhraNakhonSiAyutthaya\":\"AyuttayaAgromet\", \n",
    "                        \"Phuket\":\"Phuket\", \n",
    "                        \"Ratchaburi\":\"Ratchaburi\", \n",
    "                        \"ChonBuri\":\"ChonBuri\", \n",
    "                        \"NongKhai\":\"NongKhai\",\n",
    "                        \"SakonNakhon\":\"SakonNakhonAgromet\",\n",
    "                        \"ChiangMai\":\"ChiangMai\",\n",
    "                        \"ChiangRai\":\"ChiangRai\"}\n",
    "\n",
    "province_data = {}\n",
    "for province_for_dengue in provinces_to_predict:\n",
    "    province_for_weather = provinces_to_predict.get(province_for_dengue)\n",
    "    print province_for_dengue, province_for_weather\n",
    "    \n",
    "    province_data_to_predict = dengue_weather.get_dengue_weather_by_province(\n",
    "                                                                    province_for_dengue, \n",
    "                                                                    province_for_weather, \n",
    "                                                                    all_dengue, \n",
    "                                                                    all_weather)\n",
    "    province_data[province_for_dengue] = province_data_to_predict\n",
    "    \n",
    "# province data is dictionary of province to its train and real data, idx 0 and 1\n",
    "# ex --> province_data.get('Bangkok')[0]"
   ]
  },
  {
   "cell_type": "code",
   "execution_count": 5,
   "metadata": {},
   "outputs": [
    {
     "name": "stdout",
     "output_type": "stream",
     "text": [
      "            avgrh  dday  meantemp  rain  cases\n",
      "date                                          \n",
      "2003-01-05  71.25   3.5      29.1   0.0     12\n"
     ]
    }
   ],
   "source": [
    "for i in province_data:\n",
    "    print province_data[i][0].head(1)\n",
    "    break"
   ]
  },
  {
   "cell_type": "code",
   "execution_count": null,
   "metadata": {
    "collapsed": true
   },
   "outputs": [],
   "source": [
    "import multiprocessing as mp\n",
    "from multiprocessing import Process, Queue\n",
    "\n",
    "# Define an output queue\n",
    "output = Queue()\n",
    "\n",
    "ws_csv = np.array(pd.read_csv(\"best-with-19-lags-9-temps-15-rains-1-humidity-ws-2nd-iter-model-a.csv\").T)[0]\n",
    "    \n",
    "def plot_by_province(province, train, real, output, LAG = 19, TEMPERATURE_WEEKS = 9, RAIN_WEEKS = 15, AVGRH_WEEKS = 1):\n",
    "    \n",
    "#     print province, train.head(1)\n",
    "#     print\n",
    "#     print province, real.head(1)\n",
    "#     print \n",
    "#     print province, train.tail(1)\n",
    "#     print\n",
    "#     print province, real.tail(1)\n",
    "#     print \n",
    "    \n",
    "    LAG, TEMPERATURE_WEEKS, RAIN_WEEKS, AVGRH_WEEKS = 19, 9, 15, 1\n",
    "                                    # get_alphas takes 4 args, if theres no input csv\n",
    "    alphas = weather_all_alphas.get_alphas(\n",
    "        LAG, \n",
    "        TEMPERATURE_WEEKS, \n",
    "        RAIN_WEEKS, \n",
    "        AVGRH_WEEKS,\n",
    "        train, \n",
    "        ws_csv)\n",
    "                                    # get_predictions takes 6 args\n",
    "    predictions_to_validate = prediction_humidity.get_predictions(\n",
    "        LAG, \n",
    "        TEMPERATURE_WEEKS, \n",
    "        RAIN_WEEKS, \n",
    "        AVGRH_WEEKS, \n",
    "        real, \n",
    "        alphas.x, \n",
    "        province)\n",
    "                                    # get_validations takes 3 argsg\n",
    "    validated_result = validate.get_validations(\n",
    "        LAG, \n",
    "        predictions_to_validate, \n",
    "        real)\n",
    "    \n",
    "    output.put((\n",
    "        province,\n",
    "        predictions_to_validate,\n",
    "        validated_result,\n",
    "        alphas.x)) # add in ws as well alphas.x\n"
   ]
  },
  {
   "cell_type": "code",
   "execution_count": null,
   "metadata": {
    "collapsed": true
   },
   "outputs": [
    {
     "name": "stdout",
     "output_type": "stream",
     "text": [
      "[  3.19682069e-01   0.00000000e+00   0.00000000e+00   4.09892183e-10\n",
      "   4.62719860e-10   7.80728653e-09   2.53650003e-08   2.13348863e-08\n",
      "   9.67920880e-09   2.70368108e-08   3.43607541e-08   2.12063159e-07\n",
      "   3.29800618e-08   1.00133190e-01   3.63057496e-02   2.42642130e-08\n",
      "   5.39429557e-08   6.70643583e-09   9.85639456e-08   4.50562838e-01\n",
      "   2.11949778e+00   7.97772722e+00   2.87382041e-01   5.26851984e-02\n",
      "  -8.29951381e-03  -4.02833313e-02  -2.64725012e-02  -1.26135592e-02\n",
      "  -1.82857910e-02   3.63907496e-03   3.23924132e-03  -8.50589679e-03\n",
      "   5.08167612e-02   1.44065615e-04   6.97311738e-05  -2.23398445e-05\n",
      "   3.39118832e-04  -4.50725469e-05  -2.28152952e-09  -2.21192325e-06\n",
      "   1.62489516e-06   1.19664963e-06  -2.24543089e-08   1.71177569e-06\n",
      "  -2.18340401e-05  -2.22055979e-08  -1.81890893e-07   8.85878490e-09\n",
      "   9.83738122e-02   1.95761544e-06]\n",
      "50\n",
      "LAG, TEMP, RAIN, AVGRH 19 9 15 1\n",
      "50\n",
      "bnds 19 50\n",
      "bnds 19 50\n",
      "LAG, TEMP, RAIN, AVGRH 19 9 15 1\n",
      "ws_csv\n",
      "50\n",
      "ws_csv\n",
      "50\n",
      "LAG, TEMP, RAIN, AVGRH 19 9 15 1\n",
      "LAG, TEMP, RAIN, AVGRH 19 9 15 1\n",
      "bnds 19 50\n",
      "ws_csv\n",
      "bnds 19 50\n",
      "50\n",
      "ws_csv\n",
      "LAG, TEMP, RAIN, AVGRH 19 9 15 1\n",
      "50\n",
      "bnds 19 50\n",
      "ws_csv\n",
      "LAG, TEMP, RAIN, AVGRH 19 9 15 1\n",
      "bnds 19 50\n",
      "50\n",
      "ws_csv\n",
      "LAG, TEMP, RAIN, AVGRH 19 9 15 1\n",
      "50\n",
      "LAG, TEMP, RAIN, AVGRH 19 9 15 1\n",
      "bnds 19 50\n",
      "50\n",
      "ws_csv\n",
      "LAG, TEMP, RAIN, AVGRH 19 9 15 1\n",
      "50\n",
      "bnds 19 50\n",
      "LAG, TEMP, RAIN, AVGRH 19 9 15 1\n",
      "bnds 19 50\n",
      "ws_csv\n",
      "bnds 19 50\n",
      "ws_csv\n",
      "ws_csv\n"
     ]
    }
   ],
   "source": [
    "%%time\n",
    "# Setup a list of processes that we want to run\n",
    "\n",
    "\n",
    "processes = [Process(\n",
    "                target=plot_by_province, \n",
    "                args=(\n",
    "                    province, \n",
    "                    province_data[province][0], \n",
    "                    province_data[province][1], \n",
    "                    output)\\\n",
    "                ) for province in province_data]\n",
    "\n",
    "print ws_csv\n",
    "\n",
    "# Run processes\n",
    "for p in processes:\n",
    "    p.start()\n",
    "\n",
    "# Exit the completed processes\n",
    "for p in processes:\n",
    "    p.join()\n",
    "\n",
    "# Get process results from the output queue\n",
    "results = [output.get() for p in processes]\n",
    "\n",
    "print(results)"
   ]
  },
  {
   "cell_type": "code",
   "execution_count": null,
   "metadata": {},
   "outputs": [],
   "source": []
  },
  {
   "cell_type": "code",
   "execution_count": null,
   "metadata": {
    "collapsed": true
   },
   "outputs": [],
   "source": []
  }
 ],
 "metadata": {
  "kernelspec": {
   "display_name": "Python 2",
   "language": "python",
   "name": "python2"
  },
  "language_info": {
   "codemirror_mode": {
    "name": "ipython",
    "version": 2
   },
   "file_extension": ".py",
   "mimetype": "text/x-python",
   "name": "python",
   "nbconvert_exporter": "python",
   "pygments_lexer": "ipython2",
   "version": "2.7.12"
  }
 },
 "nbformat": 4,
 "nbformat_minor": 2
}
